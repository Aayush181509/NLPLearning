{
  "cells": [
    {
      "cell_type": "code",
      "execution_count": 2,
      "id": "0d488fc7",
      "metadata": {
        "id": "0d488fc7"
      },
      "outputs": [],
      "source": [
        "import nltk\n",
        "from nltk.corpus import stopwords\n",
        "import pandas as pd\n",
        "import numpy as np\n",
        "import re\n",
        "from keras_preprocessing.sequence import pad_sequences\n",
        "from keras.utils import np_utils\n",
        "from keras.models import Sequential\n",
        "from keras.layers import Dense, LSTM, Dropout, Embedding"
      ]
    },
    {
      "cell_type": "code",
      "source": [
        "from google.colab import drive\n",
        "drive.mount('/content/drive')"
      ],
      "metadata": {
        "colab": {
          "base_uri": "https://localhost:8080/"
        },
        "id": "KoprFJXp7Rlo",
        "outputId": "d36343ae-ed39-4635-ebdb-1ba71f497d8b"
      },
      "id": "KoprFJXp7Rlo",
      "execution_count": 4,
      "outputs": [
        {
          "output_type": "stream",
          "name": "stdout",
          "text": [
            "Mounted at /content/drive\n"
          ]
        }
      ]
    },
    {
      "cell_type": "code",
      "execution_count": 50,
      "id": "45af0a98",
      "metadata": {
        "id": "45af0a98"
      },
      "outputs": [],
      "source": [
        "data = pd.read_csv('/content/drive/MyDrive/Datasets/hotel_data.csv')"
      ]
    },
    {
      "cell_type": "code",
      "execution_count": 51,
      "id": "979bf790",
      "metadata": {
        "colab": {
          "base_uri": "https://localhost:8080/",
          "height": 490
        },
        "id": "979bf790",
        "outputId": "b3bd5ec3-a13f-4067-9c7e-32faff236ef9"
      },
      "outputs": [
        {
          "output_type": "execute_result",
          "data": {
            "text/plain": [
              "                    area     city country  crawl_date  \\\n",
              "0      Hardasji Ki Magri  Udaipur   India  2016-06-21   \n",
              "1          Near Nai Gaon  Udaipur   India  2016-06-21   \n",
              "2  Near Bagore Ki Haveli  Udaipur   India  2016-06-21   \n",
              "3                  Dabok  Udaipur   India  2016-06-21   \n",
              "4           East Udaipur  Udaipur   India  2016-06-21   \n",
              "\n",
              "                                     highlight_value  \\\n",
              "0                                       {{facility}}   \n",
              "1                                       {{facility}}   \n",
              "2                                       {{facility}}   \n",
              "3  Airport Transfer|Car rental|Conference Hall|Cu...   \n",
              "4                                       {{facility}}   \n",
              "\n",
              "                                      hotel_overview hotel_star_rating  \\\n",
              "0  |Zion Home Stay is located in a city that sets...            1 star   \n",
              "1  | Araliayas Resorts is a 3 star hotel located ...            3 star   \n",
              "2  |A 2 star property is located at 24 km from Ma...            2 star   \n",
              "3  |SNP House Airport Hotel And Restaurant is loa...            1 star   \n",
              "4  | Hotel Pichola Haveli is situated in the beau...            2 star   \n",
              "\n",
              "                                          image_urls in_your_room  \\\n",
              "0                                                NaN    {{value}}   \n",
              "1                                                NaN    {{value}}   \n",
              "2                                                NaN    {{value}}   \n",
              "3  //imghtlak.mmtcdn.com/images/hotels/2014071815...          NaN   \n",
              "4                                                NaN    {{value}}   \n",
              "\n",
              "  is_value_plus  ...  property_type  qts           query_time_stamp  \\\n",
              "0            no  ...          Hotel  NaN  2016-06-21 04:06:50 +0000   \n",
              "1            no  ...          Hotel  NaN  2016-06-21 04:06:50 +0000   \n",
              "2            no  ...          Hotel  NaN  2016-06-21 04:06:50 +0000   \n",
              "3            no  ...          Hotel  NaN  2016-06-21 04:06:50 +0000   \n",
              "4            no  ...          Hotel  NaN  2016-06-21 04:06:50 +0000   \n",
              "\n",
              "  room_types  site_review_count site_review_rating    sitename state  \\\n",
              "0        NaN                 /5                4.5  makemytrip   NaN   \n",
              "1        NaN                 /5                4.5  makemytrip   NaN   \n",
              "2        NaN                 /5                NaN  makemytrip   NaN   \n",
              "3  `standard                 /5                NaN  makemytrip   NaN   \n",
              "4        NaN                 /5                3.7  makemytrip   NaN   \n",
              "\n",
              "   traveller_rating                           uniq_id  \n",
              "0               NaN  78ddf880bd7937d384ff278cc5b39d6e  \n",
              "1               NaN  9f9f9cbb2f7df8089b63d5cdeb257944  \n",
              "2               NaN  b314bb7fa8bfb1ed306f517be21d729e  \n",
              "3               NaN  e6f5bb3c2d76a78d978b9ceb0e31ec56  \n",
              "4               NaN  63072c301427b6ca450d31eea127bcf0  \n",
              "\n",
              "[5 rows x 33 columns]"
            ],
            "text/html": [
              "\n",
              "  <div id=\"df-83afa46f-cbf5-4cc4-bff6-d8b2d58debd8\">\n",
              "    <div class=\"colab-df-container\">\n",
              "      <div>\n",
              "<style scoped>\n",
              "    .dataframe tbody tr th:only-of-type {\n",
              "        vertical-align: middle;\n",
              "    }\n",
              "\n",
              "    .dataframe tbody tr th {\n",
              "        vertical-align: top;\n",
              "    }\n",
              "\n",
              "    .dataframe thead th {\n",
              "        text-align: right;\n",
              "    }\n",
              "</style>\n",
              "<table border=\"1\" class=\"dataframe\">\n",
              "  <thead>\n",
              "    <tr style=\"text-align: right;\">\n",
              "      <th></th>\n",
              "      <th>area</th>\n",
              "      <th>city</th>\n",
              "      <th>country</th>\n",
              "      <th>crawl_date</th>\n",
              "      <th>highlight_value</th>\n",
              "      <th>hotel_overview</th>\n",
              "      <th>hotel_star_rating</th>\n",
              "      <th>image_urls</th>\n",
              "      <th>in_your_room</th>\n",
              "      <th>is_value_plus</th>\n",
              "      <th>...</th>\n",
              "      <th>property_type</th>\n",
              "      <th>qts</th>\n",
              "      <th>query_time_stamp</th>\n",
              "      <th>room_types</th>\n",
              "      <th>site_review_count</th>\n",
              "      <th>site_review_rating</th>\n",
              "      <th>sitename</th>\n",
              "      <th>state</th>\n",
              "      <th>traveller_rating</th>\n",
              "      <th>uniq_id</th>\n",
              "    </tr>\n",
              "  </thead>\n",
              "  <tbody>\n",
              "    <tr>\n",
              "      <th>0</th>\n",
              "      <td>Hardasji Ki Magri</td>\n",
              "      <td>Udaipur</td>\n",
              "      <td>India</td>\n",
              "      <td>2016-06-21</td>\n",
              "      <td>{{facility}}</td>\n",
              "      <td>|Zion Home Stay is located in a city that sets...</td>\n",
              "      <td>1 star</td>\n",
              "      <td>NaN</td>\n",
              "      <td>{{value}}</td>\n",
              "      <td>no</td>\n",
              "      <td>...</td>\n",
              "      <td>Hotel</td>\n",
              "      <td>NaN</td>\n",
              "      <td>2016-06-21 04:06:50 +0000</td>\n",
              "      <td>NaN</td>\n",
              "      <td>/5</td>\n",
              "      <td>4.5</td>\n",
              "      <td>makemytrip</td>\n",
              "      <td>NaN</td>\n",
              "      <td>NaN</td>\n",
              "      <td>78ddf880bd7937d384ff278cc5b39d6e</td>\n",
              "    </tr>\n",
              "    <tr>\n",
              "      <th>1</th>\n",
              "      <td>Near Nai Gaon</td>\n",
              "      <td>Udaipur</td>\n",
              "      <td>India</td>\n",
              "      <td>2016-06-21</td>\n",
              "      <td>{{facility}}</td>\n",
              "      <td>| Araliayas Resorts is a 3 star hotel located ...</td>\n",
              "      <td>3 star</td>\n",
              "      <td>NaN</td>\n",
              "      <td>{{value}}</td>\n",
              "      <td>no</td>\n",
              "      <td>...</td>\n",
              "      <td>Hotel</td>\n",
              "      <td>NaN</td>\n",
              "      <td>2016-06-21 04:06:50 +0000</td>\n",
              "      <td>NaN</td>\n",
              "      <td>/5</td>\n",
              "      <td>4.5</td>\n",
              "      <td>makemytrip</td>\n",
              "      <td>NaN</td>\n",
              "      <td>NaN</td>\n",
              "      <td>9f9f9cbb2f7df8089b63d5cdeb257944</td>\n",
              "    </tr>\n",
              "    <tr>\n",
              "      <th>2</th>\n",
              "      <td>Near Bagore Ki Haveli</td>\n",
              "      <td>Udaipur</td>\n",
              "      <td>India</td>\n",
              "      <td>2016-06-21</td>\n",
              "      <td>{{facility}}</td>\n",
              "      <td>|A 2 star property is located at 24 km from Ma...</td>\n",
              "      <td>2 star</td>\n",
              "      <td>NaN</td>\n",
              "      <td>{{value}}</td>\n",
              "      <td>no</td>\n",
              "      <td>...</td>\n",
              "      <td>Hotel</td>\n",
              "      <td>NaN</td>\n",
              "      <td>2016-06-21 04:06:50 +0000</td>\n",
              "      <td>NaN</td>\n",
              "      <td>/5</td>\n",
              "      <td>NaN</td>\n",
              "      <td>makemytrip</td>\n",
              "      <td>NaN</td>\n",
              "      <td>NaN</td>\n",
              "      <td>b314bb7fa8bfb1ed306f517be21d729e</td>\n",
              "    </tr>\n",
              "    <tr>\n",
              "      <th>3</th>\n",
              "      <td>Dabok</td>\n",
              "      <td>Udaipur</td>\n",
              "      <td>India</td>\n",
              "      <td>2016-06-21</td>\n",
              "      <td>Airport Transfer|Car rental|Conference Hall|Cu...</td>\n",
              "      <td>|SNP House Airport Hotel And Restaurant is loa...</td>\n",
              "      <td>1 star</td>\n",
              "      <td>//imghtlak.mmtcdn.com/images/hotels/2014071815...</td>\n",
              "      <td>NaN</td>\n",
              "      <td>no</td>\n",
              "      <td>...</td>\n",
              "      <td>Hotel</td>\n",
              "      <td>NaN</td>\n",
              "      <td>2016-06-21 04:06:50 +0000</td>\n",
              "      <td>`standard</td>\n",
              "      <td>/5</td>\n",
              "      <td>NaN</td>\n",
              "      <td>makemytrip</td>\n",
              "      <td>NaN</td>\n",
              "      <td>NaN</td>\n",
              "      <td>e6f5bb3c2d76a78d978b9ceb0e31ec56</td>\n",
              "    </tr>\n",
              "    <tr>\n",
              "      <th>4</th>\n",
              "      <td>East Udaipur</td>\n",
              "      <td>Udaipur</td>\n",
              "      <td>India</td>\n",
              "      <td>2016-06-21</td>\n",
              "      <td>{{facility}}</td>\n",
              "      <td>| Hotel Pichola Haveli is situated in the beau...</td>\n",
              "      <td>2 star</td>\n",
              "      <td>NaN</td>\n",
              "      <td>{{value}}</td>\n",
              "      <td>no</td>\n",
              "      <td>...</td>\n",
              "      <td>Hotel</td>\n",
              "      <td>NaN</td>\n",
              "      <td>2016-06-21 04:06:50 +0000</td>\n",
              "      <td>NaN</td>\n",
              "      <td>/5</td>\n",
              "      <td>3.7</td>\n",
              "      <td>makemytrip</td>\n",
              "      <td>NaN</td>\n",
              "      <td>NaN</td>\n",
              "      <td>63072c301427b6ca450d31eea127bcf0</td>\n",
              "    </tr>\n",
              "  </tbody>\n",
              "</table>\n",
              "<p>5 rows × 33 columns</p>\n",
              "</div>\n",
              "      <button class=\"colab-df-convert\" onclick=\"convertToInteractive('df-83afa46f-cbf5-4cc4-bff6-d8b2d58debd8')\"\n",
              "              title=\"Convert this dataframe to an interactive table.\"\n",
              "              style=\"display:none;\">\n",
              "        \n",
              "  <svg xmlns=\"http://www.w3.org/2000/svg\" height=\"24px\"viewBox=\"0 0 24 24\"\n",
              "       width=\"24px\">\n",
              "    <path d=\"M0 0h24v24H0V0z\" fill=\"none\"/>\n",
              "    <path d=\"M18.56 5.44l.94 2.06.94-2.06 2.06-.94-2.06-.94-.94-2.06-.94 2.06-2.06.94zm-11 1L8.5 8.5l.94-2.06 2.06-.94-2.06-.94L8.5 2.5l-.94 2.06-2.06.94zm10 10l.94 2.06.94-2.06 2.06-.94-2.06-.94-.94-2.06-.94 2.06-2.06.94z\"/><path d=\"M17.41 7.96l-1.37-1.37c-.4-.4-.92-.59-1.43-.59-.52 0-1.04.2-1.43.59L10.3 9.45l-7.72 7.72c-.78.78-.78 2.05 0 2.83L4 21.41c.39.39.9.59 1.41.59.51 0 1.02-.2 1.41-.59l7.78-7.78 2.81-2.81c.8-.78.8-2.07 0-2.86zM5.41 20L4 18.59l7.72-7.72 1.47 1.35L5.41 20z\"/>\n",
              "  </svg>\n",
              "      </button>\n",
              "      \n",
              "  <style>\n",
              "    .colab-df-container {\n",
              "      display:flex;\n",
              "      flex-wrap:wrap;\n",
              "      gap: 12px;\n",
              "    }\n",
              "\n",
              "    .colab-df-convert {\n",
              "      background-color: #E8F0FE;\n",
              "      border: none;\n",
              "      border-radius: 50%;\n",
              "      cursor: pointer;\n",
              "      display: none;\n",
              "      fill: #1967D2;\n",
              "      height: 32px;\n",
              "      padding: 0 0 0 0;\n",
              "      width: 32px;\n",
              "    }\n",
              "\n",
              "    .colab-df-convert:hover {\n",
              "      background-color: #E2EBFA;\n",
              "      box-shadow: 0px 1px 2px rgba(60, 64, 67, 0.3), 0px 1px 3px 1px rgba(60, 64, 67, 0.15);\n",
              "      fill: #174EA6;\n",
              "    }\n",
              "\n",
              "    [theme=dark] .colab-df-convert {\n",
              "      background-color: #3B4455;\n",
              "      fill: #D2E3FC;\n",
              "    }\n",
              "\n",
              "    [theme=dark] .colab-df-convert:hover {\n",
              "      background-color: #434B5C;\n",
              "      box-shadow: 0px 1px 3px 1px rgba(0, 0, 0, 0.15);\n",
              "      filter: drop-shadow(0px 1px 2px rgba(0, 0, 0, 0.3));\n",
              "      fill: #FFFFFF;\n",
              "    }\n",
              "  </style>\n",
              "\n",
              "      <script>\n",
              "        const buttonEl =\n",
              "          document.querySelector('#df-83afa46f-cbf5-4cc4-bff6-d8b2d58debd8 button.colab-df-convert');\n",
              "        buttonEl.style.display =\n",
              "          google.colab.kernel.accessAllowed ? 'block' : 'none';\n",
              "\n",
              "        async function convertToInteractive(key) {\n",
              "          const element = document.querySelector('#df-83afa46f-cbf5-4cc4-bff6-d8b2d58debd8');\n",
              "          const dataTable =\n",
              "            await google.colab.kernel.invokeFunction('convertToInteractive',\n",
              "                                                     [key], {});\n",
              "          if (!dataTable) return;\n",
              "\n",
              "          const docLinkHtml = 'Like what you see? Visit the ' +\n",
              "            '<a target=\"_blank\" href=https://colab.research.google.com/notebooks/data_table.ipynb>data table notebook</a>'\n",
              "            + ' to learn more about interactive tables.';\n",
              "          element.innerHTML = '';\n",
              "          dataTable['output_type'] = 'display_data';\n",
              "          await google.colab.output.renderOutput(dataTable, element);\n",
              "          const docLink = document.createElement('div');\n",
              "          docLink.innerHTML = docLinkHtml;\n",
              "          element.appendChild(docLink);\n",
              "        }\n",
              "      </script>\n",
              "    </div>\n",
              "  </div>\n",
              "  "
            ]
          },
          "metadata": {},
          "execution_count": 51
        }
      ],
      "source": [
        "data.head()"
      ]
    },
    {
      "cell_type": "code",
      "execution_count": 52,
      "id": "7f206759",
      "metadata": {
        "colab": {
          "base_uri": "https://localhost:8080/"
        },
        "id": "7f206759",
        "outputId": "177caf40-e3c9-42db-ce46-4d7bf25bba85"
      },
      "outputs": [
        {
          "output_type": "execute_result",
          "data": {
            "text/plain": [
              "NewDelhiAndNCR    1163\n",
              "Goa               1122\n",
              "Mumbai             543\n",
              "Jaipur             534\n",
              "Bangalore          512\n",
              "                  ... \n",
              "Kollur               1\n",
              "Madla                1\n",
              "Jeypore              1\n",
              "Jispa                1\n",
              "Haldia               1\n",
              "Name: city, Length: 770, dtype: int64"
            ]
          },
          "metadata": {},
          "execution_count": 52
        }
      ],
      "source": [
        "data.city.value_counts()"
      ]
    },
    {
      "cell_type": "code",
      "execution_count": 53,
      "id": "19585483",
      "metadata": {
        "colab": {
          "base_uri": "https://localhost:8080/"
        },
        "id": "19585483",
        "outputId": "48061039-1147-4acb-e6e0-33e1afe0c610"
      },
      "outputs": [
        {
          "output_type": "execute_result",
          "data": {
            "text/plain": [
              "(20000, 33)"
            ]
          },
          "metadata": {},
          "execution_count": 53
        }
      ],
      "source": [
        "data.shape"
      ]
    },
    {
      "cell_type": "code",
      "execution_count": 54,
      "id": "55c555a7",
      "metadata": {
        "id": "55c555a7"
      },
      "outputs": [],
      "source": [
        "array=['Mumbai','Goa']\n",
        "data=data.loc[data['city'].isin(array)]"
      ]
    },
    {
      "cell_type": "code",
      "execution_count": 55,
      "id": "79549cde",
      "metadata": {
        "colab": {
          "base_uri": "https://localhost:8080/",
          "height": 594
        },
        "id": "79549cde",
        "outputId": "4a10f21e-aa3d-4203-dafa-3272365ccbb6"
      },
      "outputs": [
        {
          "output_type": "execute_result",
          "data": {
            "text/plain": [
              "          area    city country  crawl_date  \\\n",
              "282  South Goa     Goa   India  2016-08-28   \n",
              "288        NaN     Goa   India  2016-08-28   \n",
              "294     Charai  Mumbai   India  2016-08-28   \n",
              "296        NaN     Goa   India  2016-08-28   \n",
              "297   Benaulim     Goa   India  2016-08-28   \n",
              "\n",
              "                                       highlight_value  \\\n",
              "282  Bar|Doctor on Call|Extra Mattress (On Request)...   \n",
              "288  Airport Transfer|Bicycles on Hire|Coffee Shop|...   \n",
              "294  Doctor on Call|Front desk|Laundry Service|Park...   \n",
              "296  24 hour security|A/C Power Backup Available|Ai...   \n",
              "297                                                NaN   \n",
              "\n",
              "                                        hotel_overview hotel_star_rating  \\\n",
              "282  Just 2.7 km from Margao Railway Station, Hotel...                 2   \n",
              "288  Offering swimming pool, lawns/gardens and wate...                 3   \n",
              "294  Nestled in Mumbai, a city with strong historic...                 3   \n",
              "296  Diakon Holidays is situated in one of the most...                 1   \n",
              "297  Nestle in Goa, a land of never ceasing festivi...                 1   \n",
              "\n",
              "    image_urls                                       in_your_room  \\\n",
              "282        NaN  Television|Air Conditioning|Attached Bathroom|...   \n",
              "288        NaN  Tea/Coffee Maker|Bathroom Toiletries|DVD Playe...   \n",
              "294        NaN  Bathroom Toiletries|Attached Bathroom|Hot & Co...   \n",
              "296        NaN  Telephone|Bathroom Toiletries|Gas Stove|Washin...   \n",
              "297        NaN                                                NaN   \n",
              "\n",
              "    is_value_plus  ...  property_type                        qts  \\\n",
              "282           yes  ...          Hotel  2016-08-28 16:13:39 +0000   \n",
              "288            no  ...          Hotel  2016-08-28 16:13:39 +0000   \n",
              "294            no  ...          Hotel  2016-08-28 16:13:39 +0000   \n",
              "296            no  ...          Hotel  2016-08-28 16:13:39 +0000   \n",
              "297            no  ...      Apartment  2016-08-28 16:13:39 +0000   \n",
              "\n",
              "              query_time_stamp  \\\n",
              "282  2016-08-28 16:13:39 +0000   \n",
              "288  2016-08-28 16:13:39 +0000   \n",
              "294  2016-08-28 16:13:39 +0000   \n",
              "296  2016-08-28 16:13:39 +0000   \n",
              "297  2016-08-28 16:13:39 +0000   \n",
              "\n",
              "                                            room_types  site_review_count  \\\n",
              "282                                        Standard Ac                NaN   \n",
              "288                                  Luxury Flat 1 Bhk                NaN   \n",
              "294  Ac Superior Room|A/c Standard Rooms Double Occ...                NaN   \n",
              "296                               4 Bedroom Pool Villa                NaN   \n",
              "297                                    2 Bhk Apartment                NaN   \n",
              "\n",
              "    site_review_rating    sitename        state  \\\n",
              "282                NaN  makemytrip          Goa   \n",
              "288                NaN  makemytrip          Goa   \n",
              "294                NaN  makemytrip  Maharashtra   \n",
              "296                NaN  makemytrip          Goa   \n",
              "297                NaN  makemytrip          Goa   \n",
              "\n",
              "                                      traveller_rating  \\\n",
              "282  Location:4.3/5 | Hospitality:4.4/5 | Facilitie...   \n",
              "288                                                NaN   \n",
              "294                                                NaN   \n",
              "296                                                NaN   \n",
              "297                                                NaN   \n",
              "\n",
              "                              uniq_id  \n",
              "282  afa2b33d49d47b83026b94d54449192c  \n",
              "288  4953f7d9c9a00e8246fcd58f0cf7d350  \n",
              "294  d78fae90ef2e1b5c2dfd547c61763a25  \n",
              "296  2c57c7604510c1a2ab519a84a31cf030  \n",
              "297  248ec7a4718e571cdaa54009140e7fdc  \n",
              "\n",
              "[5 rows x 33 columns]"
            ],
            "text/html": [
              "\n",
              "  <div id=\"df-ab8d5640-74c3-406b-8cb2-8bd7d71960be\">\n",
              "    <div class=\"colab-df-container\">\n",
              "      <div>\n",
              "<style scoped>\n",
              "    .dataframe tbody tr th:only-of-type {\n",
              "        vertical-align: middle;\n",
              "    }\n",
              "\n",
              "    .dataframe tbody tr th {\n",
              "        vertical-align: top;\n",
              "    }\n",
              "\n",
              "    .dataframe thead th {\n",
              "        text-align: right;\n",
              "    }\n",
              "</style>\n",
              "<table border=\"1\" class=\"dataframe\">\n",
              "  <thead>\n",
              "    <tr style=\"text-align: right;\">\n",
              "      <th></th>\n",
              "      <th>area</th>\n",
              "      <th>city</th>\n",
              "      <th>country</th>\n",
              "      <th>crawl_date</th>\n",
              "      <th>highlight_value</th>\n",
              "      <th>hotel_overview</th>\n",
              "      <th>hotel_star_rating</th>\n",
              "      <th>image_urls</th>\n",
              "      <th>in_your_room</th>\n",
              "      <th>is_value_plus</th>\n",
              "      <th>...</th>\n",
              "      <th>property_type</th>\n",
              "      <th>qts</th>\n",
              "      <th>query_time_stamp</th>\n",
              "      <th>room_types</th>\n",
              "      <th>site_review_count</th>\n",
              "      <th>site_review_rating</th>\n",
              "      <th>sitename</th>\n",
              "      <th>state</th>\n",
              "      <th>traveller_rating</th>\n",
              "      <th>uniq_id</th>\n",
              "    </tr>\n",
              "  </thead>\n",
              "  <tbody>\n",
              "    <tr>\n",
              "      <th>282</th>\n",
              "      <td>South Goa</td>\n",
              "      <td>Goa</td>\n",
              "      <td>India</td>\n",
              "      <td>2016-08-28</td>\n",
              "      <td>Bar|Doctor on Call|Extra Mattress (On Request)...</td>\n",
              "      <td>Just 2.7 km from Margao Railway Station, Hotel...</td>\n",
              "      <td>2</td>\n",
              "      <td>NaN</td>\n",
              "      <td>Television|Air Conditioning|Attached Bathroom|...</td>\n",
              "      <td>yes</td>\n",
              "      <td>...</td>\n",
              "      <td>Hotel</td>\n",
              "      <td>2016-08-28 16:13:39 +0000</td>\n",
              "      <td>2016-08-28 16:13:39 +0000</td>\n",
              "      <td>Standard Ac</td>\n",
              "      <td>NaN</td>\n",
              "      <td>NaN</td>\n",
              "      <td>makemytrip</td>\n",
              "      <td>Goa</td>\n",
              "      <td>Location:4.3/5 | Hospitality:4.4/5 | Facilitie...</td>\n",
              "      <td>afa2b33d49d47b83026b94d54449192c</td>\n",
              "    </tr>\n",
              "    <tr>\n",
              "      <th>288</th>\n",
              "      <td>NaN</td>\n",
              "      <td>Goa</td>\n",
              "      <td>India</td>\n",
              "      <td>2016-08-28</td>\n",
              "      <td>Airport Transfer|Bicycles on Hire|Coffee Shop|...</td>\n",
              "      <td>Offering swimming pool, lawns/gardens and wate...</td>\n",
              "      <td>3</td>\n",
              "      <td>NaN</td>\n",
              "      <td>Tea/Coffee Maker|Bathroom Toiletries|DVD Playe...</td>\n",
              "      <td>no</td>\n",
              "      <td>...</td>\n",
              "      <td>Hotel</td>\n",
              "      <td>2016-08-28 16:13:39 +0000</td>\n",
              "      <td>2016-08-28 16:13:39 +0000</td>\n",
              "      <td>Luxury Flat 1 Bhk</td>\n",
              "      <td>NaN</td>\n",
              "      <td>NaN</td>\n",
              "      <td>makemytrip</td>\n",
              "      <td>Goa</td>\n",
              "      <td>NaN</td>\n",
              "      <td>4953f7d9c9a00e8246fcd58f0cf7d350</td>\n",
              "    </tr>\n",
              "    <tr>\n",
              "      <th>294</th>\n",
              "      <td>Charai</td>\n",
              "      <td>Mumbai</td>\n",
              "      <td>India</td>\n",
              "      <td>2016-08-28</td>\n",
              "      <td>Doctor on Call|Front desk|Laundry Service|Park...</td>\n",
              "      <td>Nestled in Mumbai, a city with strong historic...</td>\n",
              "      <td>3</td>\n",
              "      <td>NaN</td>\n",
              "      <td>Bathroom Toiletries|Attached Bathroom|Hot &amp; Co...</td>\n",
              "      <td>no</td>\n",
              "      <td>...</td>\n",
              "      <td>Hotel</td>\n",
              "      <td>2016-08-28 16:13:39 +0000</td>\n",
              "      <td>2016-08-28 16:13:39 +0000</td>\n",
              "      <td>Ac Superior Room|A/c Standard Rooms Double Occ...</td>\n",
              "      <td>NaN</td>\n",
              "      <td>NaN</td>\n",
              "      <td>makemytrip</td>\n",
              "      <td>Maharashtra</td>\n",
              "      <td>NaN</td>\n",
              "      <td>d78fae90ef2e1b5c2dfd547c61763a25</td>\n",
              "    </tr>\n",
              "    <tr>\n",
              "      <th>296</th>\n",
              "      <td>NaN</td>\n",
              "      <td>Goa</td>\n",
              "      <td>India</td>\n",
              "      <td>2016-08-28</td>\n",
              "      <td>24 hour security|A/C Power Backup Available|Ai...</td>\n",
              "      <td>Diakon Holidays is situated in one of the most...</td>\n",
              "      <td>1</td>\n",
              "      <td>NaN</td>\n",
              "      <td>Telephone|Bathroom Toiletries|Gas Stove|Washin...</td>\n",
              "      <td>no</td>\n",
              "      <td>...</td>\n",
              "      <td>Hotel</td>\n",
              "      <td>2016-08-28 16:13:39 +0000</td>\n",
              "      <td>2016-08-28 16:13:39 +0000</td>\n",
              "      <td>4 Bedroom Pool Villa</td>\n",
              "      <td>NaN</td>\n",
              "      <td>NaN</td>\n",
              "      <td>makemytrip</td>\n",
              "      <td>Goa</td>\n",
              "      <td>NaN</td>\n",
              "      <td>2c57c7604510c1a2ab519a84a31cf030</td>\n",
              "    </tr>\n",
              "    <tr>\n",
              "      <th>297</th>\n",
              "      <td>Benaulim</td>\n",
              "      <td>Goa</td>\n",
              "      <td>India</td>\n",
              "      <td>2016-08-28</td>\n",
              "      <td>NaN</td>\n",
              "      <td>Nestle in Goa, a land of never ceasing festivi...</td>\n",
              "      <td>1</td>\n",
              "      <td>NaN</td>\n",
              "      <td>NaN</td>\n",
              "      <td>no</td>\n",
              "      <td>...</td>\n",
              "      <td>Apartment</td>\n",
              "      <td>2016-08-28 16:13:39 +0000</td>\n",
              "      <td>2016-08-28 16:13:39 +0000</td>\n",
              "      <td>2 Bhk Apartment</td>\n",
              "      <td>NaN</td>\n",
              "      <td>NaN</td>\n",
              "      <td>makemytrip</td>\n",
              "      <td>Goa</td>\n",
              "      <td>NaN</td>\n",
              "      <td>248ec7a4718e571cdaa54009140e7fdc</td>\n",
              "    </tr>\n",
              "  </tbody>\n",
              "</table>\n",
              "<p>5 rows × 33 columns</p>\n",
              "</div>\n",
              "      <button class=\"colab-df-convert\" onclick=\"convertToInteractive('df-ab8d5640-74c3-406b-8cb2-8bd7d71960be')\"\n",
              "              title=\"Convert this dataframe to an interactive table.\"\n",
              "              style=\"display:none;\">\n",
              "        \n",
              "  <svg xmlns=\"http://www.w3.org/2000/svg\" height=\"24px\"viewBox=\"0 0 24 24\"\n",
              "       width=\"24px\">\n",
              "    <path d=\"M0 0h24v24H0V0z\" fill=\"none\"/>\n",
              "    <path d=\"M18.56 5.44l.94 2.06.94-2.06 2.06-.94-2.06-.94-.94-2.06-.94 2.06-2.06.94zm-11 1L8.5 8.5l.94-2.06 2.06-.94-2.06-.94L8.5 2.5l-.94 2.06-2.06.94zm10 10l.94 2.06.94-2.06 2.06-.94-2.06-.94-.94-2.06-.94 2.06-2.06.94z\"/><path d=\"M17.41 7.96l-1.37-1.37c-.4-.4-.92-.59-1.43-.59-.52 0-1.04.2-1.43.59L10.3 9.45l-7.72 7.72c-.78.78-.78 2.05 0 2.83L4 21.41c.39.39.9.59 1.41.59.51 0 1.02-.2 1.41-.59l7.78-7.78 2.81-2.81c.8-.78.8-2.07 0-2.86zM5.41 20L4 18.59l7.72-7.72 1.47 1.35L5.41 20z\"/>\n",
              "  </svg>\n",
              "      </button>\n",
              "      \n",
              "  <style>\n",
              "    .colab-df-container {\n",
              "      display:flex;\n",
              "      flex-wrap:wrap;\n",
              "      gap: 12px;\n",
              "    }\n",
              "\n",
              "    .colab-df-convert {\n",
              "      background-color: #E8F0FE;\n",
              "      border: none;\n",
              "      border-radius: 50%;\n",
              "      cursor: pointer;\n",
              "      display: none;\n",
              "      fill: #1967D2;\n",
              "      height: 32px;\n",
              "      padding: 0 0 0 0;\n",
              "      width: 32px;\n",
              "    }\n",
              "\n",
              "    .colab-df-convert:hover {\n",
              "      background-color: #E2EBFA;\n",
              "      box-shadow: 0px 1px 2px rgba(60, 64, 67, 0.3), 0px 1px 3px 1px rgba(60, 64, 67, 0.15);\n",
              "      fill: #174EA6;\n",
              "    }\n",
              "\n",
              "    [theme=dark] .colab-df-convert {\n",
              "      background-color: #3B4455;\n",
              "      fill: #D2E3FC;\n",
              "    }\n",
              "\n",
              "    [theme=dark] .colab-df-convert:hover {\n",
              "      background-color: #434B5C;\n",
              "      box-shadow: 0px 1px 3px 1px rgba(0, 0, 0, 0.15);\n",
              "      filter: drop-shadow(0px 1px 2px rgba(0, 0, 0, 0.3));\n",
              "      fill: #FFFFFF;\n",
              "    }\n",
              "  </style>\n",
              "\n",
              "      <script>\n",
              "        const buttonEl =\n",
              "          document.querySelector('#df-ab8d5640-74c3-406b-8cb2-8bd7d71960be button.colab-df-convert');\n",
              "        buttonEl.style.display =\n",
              "          google.colab.kernel.accessAllowed ? 'block' : 'none';\n",
              "\n",
              "        async function convertToInteractive(key) {\n",
              "          const element = document.querySelector('#df-ab8d5640-74c3-406b-8cb2-8bd7d71960be');\n",
              "          const dataTable =\n",
              "            await google.colab.kernel.invokeFunction('convertToInteractive',\n",
              "                                                     [key], {});\n",
              "          if (!dataTable) return;\n",
              "\n",
              "          const docLinkHtml = 'Like what you see? Visit the ' +\n",
              "            '<a target=\"_blank\" href=https://colab.research.google.com/notebooks/data_table.ipynb>data table notebook</a>'\n",
              "            + ' to learn more about interactive tables.';\n",
              "          element.innerHTML = '';\n",
              "          dataTable['output_type'] = 'display_data';\n",
              "          await google.colab.output.renderOutput(dataTable, element);\n",
              "          const docLink = document.createElement('div');\n",
              "          docLink.innerHTML = docLinkHtml;\n",
              "          element.appendChild(docLink);\n",
              "        }\n",
              "      </script>\n",
              "    </div>\n",
              "  </div>\n",
              "  "
            ]
          },
          "metadata": {},
          "execution_count": 55
        }
      ],
      "source": [
        "data.head()"
      ]
    },
    {
      "cell_type": "code",
      "execution_count": 56,
      "id": "fc247aad",
      "metadata": {
        "id": "fc247aad"
      },
      "outputs": [],
      "source": [
        "data=data.hotel_overview"
      ]
    },
    {
      "cell_type": "code",
      "execution_count": 57,
      "id": "fbbf7d92",
      "metadata": {
        "colab": {
          "base_uri": "https://localhost:8080/"
        },
        "id": "fbbf7d92",
        "outputId": "268c1d66-2d25-4ede-9994-30f2b499750f"
      },
      "outputs": [
        {
          "output_type": "execute_result",
          "data": {
            "text/plain": [
              "169"
            ]
          },
          "metadata": {},
          "execution_count": 57
        }
      ],
      "source": [
        "data.isna().sum()"
      ]
    },
    {
      "cell_type": "code",
      "execution_count": 58,
      "id": "ecd327a6",
      "metadata": {
        "colab": {
          "base_uri": "https://localhost:8080/"
        },
        "id": "ecd327a6",
        "outputId": "e10ed577-aaea-4bcb-a52b-de69f5d7a47a"
      },
      "outputs": [
        {
          "output_type": "execute_result",
          "data": {
            "text/plain": [
              "0"
            ]
          },
          "metadata": {},
          "execution_count": 58
        }
      ],
      "source": [
        "data.dropna(inplace=True)\n",
        "data.isna().sum()"
      ]
    },
    {
      "cell_type": "code",
      "execution_count": 59,
      "id": "c35bda00",
      "metadata": {
        "colab": {
          "base_uri": "https://localhost:8080/",
          "height": 127
        },
        "id": "c35bda00",
        "outputId": "ea531d3c-a786-4fb5-bff5-e429a3398e25"
      },
      "outputs": [
        {
          "output_type": "execute_result",
          "data": {
            "text/plain": [
              "'Just 2.7 km from Margao Railway Station, Hotel Om Shiv offers easy access to the Colva Beach and has a restaurant and internet cafe. Located in the heart of Margao, close to the famous Colva Beach, Hotel Om Shiv is a popular budget property in this region of Goa. With all the necessary amenities and well-furnished rooms, the hotel promises to provide a comfortable stay to guests. There are three categories of rooms available at the hotel, including Executive Room, Deluxe Room and Suite. All rooms are appointed with basic amenities, including air-conditioner, cable television and attached bathroom with hot and cold water supply. This six storey property is an ideal base for both business and leisure travellers as it lies in the vicinity of business centres, government offices and entertainment areas of the city. Besides a rooftop party lounge, the hotel also houses a mini internet cafe and a well-equipped conference hall Diamond having a seating capacity of around 50 persons. Shivam is the multi-cuisine restaurant of the hotel, which specialises in Goan cuisine and also serves Continental, Chinese and Tandoori delicacies. Guests can enjoy and de-stress with a range of drinks at served at Rock On Pub. Do enjoy a range of recreational activities at the Colva Beach that is walking distance from the hotel. ÃƒÆ’Ã†â€™Ãƒâ€\\xa0Ã¢â‚¬â„¢ÃƒÆ’Ã¢â‚¬Â\\xa0ÃƒÂ¢Ã¢â€šÂ¬Ã¢â€žÂ¢ÃƒÆ’Ã†â€™ÃƒÂ¢Ã¢â€šÂ¬Ã‚Â\\xa0ÃƒÆ’Ã‚Â¢ÃƒÂ¢Ã¢â‚¬Å¡Ã‚Â¬ÃƒÂ¢Ã¢â‚¬Å¾Ã‚Â¢ÃƒÆ’Ã†â€™Ãƒâ€\\xa0Ã¢â‚¬â„¢ÃƒÆ’Ã‚Â¢ÃƒÂ¢Ã¢â‚¬Å¡Ã‚Â¬Ãƒâ€šÃ‚Â\\xa0ÃƒÆ’Ã†â€™Ãƒâ€šÃ‚Â¢ÃƒÆ’Ã‚Â¢ÃƒÂ¢Ã¢â€šÂ¬Ã…Â¡Ãƒâ€šÃ‚Â¬ÃƒÆ’Ã‚Â¢ÃƒÂ¢Ã¢â€šÂ¬Ã…Â¾Ãƒâ€šÃ‚Â¢ÃƒÆ’Ã†â€™Ãƒâ€\\xa0Ã¢â‚¬â„¢ÃƒÆ’Ã¢â‚¬Â\\xa0ÃƒÂ¢Ã¢â€šÂ¬Ã¢â€žÂ¢ÃƒÆ’Ã†â€™ÃƒÂ¢Ã¢â€šÂ¬Ã…Â¡ÃƒÆ’Ã¢â‚¬Å¡Ãƒâ€šÃ‚Â¢ÃƒÆ’Ã†â€™Ãƒâ€\\xa0Ã¢â‚¬â„¢ÃƒÆ’Ã¢â‚¬Å¡Ãƒâ€šÃ‚Â¢ÃƒÆ’Ã†â€™Ãƒâ€šÃ‚Â¢ÃƒÆ’Ã‚Â¢ÃƒÂ¢Ã¢â€šÂ¬Ã…Â¡Ãƒâ€šÃ‚Â¬ÃƒÆ’Ã¢â‚¬Â¦Ãƒâ€šÃ‚Â¡ÃƒÆ’Ã†â€™ÃƒÂ¢Ã¢â€šÂ¬Ã…Â¡ÃƒÆ’Ã¢â‚¬Å¡Ãƒâ€šÃ‚Â¬ÃƒÆ’Ã†â€™Ãƒâ€\\xa0Ã¢â‚¬â„¢ÃƒÆ’Ã‚Â¢ÃƒÂ¢Ã¢â‚¬Å¡Ã‚Â¬Ãƒâ€šÃ‚Â¦ÃƒÆ’Ã†â€™ÃƒÂ¢Ã¢â€šÂ¬Ã…Â¡ÃƒÆ’Ã¢â‚¬Å¡Ãƒâ€šÃ‚Â¡ÃƒÆ’Ã†â€™Ãƒâ€\\xa0Ã¢â‚¬â„¢ÃƒÆ’Ã¢â‚¬Â\\xa0ÃƒÂ¢Ã¢â€šÂ¬Ã¢â€žÂ¢ÃƒÆ’Ã†â€™ÃƒÂ¢Ã¢â€šÂ¬Ã‚Â\\xa0ÃƒÆ’Ã‚Â¢ÃƒÂ¢Ã¢â‚¬Å¡Ã‚Â¬ÃƒÂ¢Ã¢â‚¬Å¾Ã‚Â¢ÃƒÆ’Ã†â€™Ãƒâ€\\xa0Ã¢â‚¬â„¢ÃƒÆ’Ã¢â‚¬Å¡Ãƒâ€šÃ‚Â¢ÃƒÆ’Ã†â€™Ãƒâ€šÃ‚Â¢ÃƒÆ’Ã‚Â¢ÃƒÂ¢Ã¢â‚¬Å¡Ã‚Â¬Ãƒâ€¦Ã‚Â¡ÃƒÆ’Ã¢â‚¬Å¡Ãƒâ€šÃ‚Â¬ÃƒÆ’Ã†â€™ÃƒÂ¢Ã¢â€šÂ¬Ã‚Â¦ÃƒÆ’Ã¢â‚¬Å¡Ãƒâ€šÃ‚Â¡ÃƒÆ’Ã†â€™Ãƒâ€\\xa0Ã¢â‚¬â„¢ÃƒÆ’Ã¢â‚¬Â\\xa0ÃƒÂ¢Ã¢â€šÂ¬Ã¢â€žÂ¢ÃƒÆ’Ã†â€™Ãƒâ€šÃ‚Â¢ÃƒÆ’Ã‚Â¢ÃƒÂ¢Ã¢â€šÂ¬Ã…Â¡Ãƒâ€šÃ‚Â¬ÃƒÆ’Ã¢â‚¬Â¦Ãƒâ€šÃ‚Â¡ÃƒÆ’Ã†â€™Ãƒâ€\\xa0Ã¢â‚¬â„¢ÃƒÆ’Ã‚Â¢ÃƒÂ¢Ã¢â‚¬Å¡Ã‚Â¬Ãƒâ€¦Ã‚Â¡ÃƒÆ’Ã†â€™ÃƒÂ¢Ã¢â€šÂ¬Ã…Â¡ÃƒÆ’Ã¢â‚¬Å¡Ãƒâ€šÃ‚Â\\xa0 Please note that Wi-Fi connectivity in this hotel will only be available in the lobby, and not in the room.'"
            ],
            "application/vnd.google.colaboratory.intrinsic+json": {
              "type": "string"
            }
          },
          "metadata": {},
          "execution_count": 59
        }
      ],
      "source": [
        "data.iloc[0]"
      ]
    },
    {
      "cell_type": "code",
      "execution_count": 60,
      "id": "2bca20fb",
      "metadata": {
        "colab": {
          "base_uri": "https://localhost:8080/"
        },
        "id": "2bca20fb",
        "outputId": "7f198654-27e3-4680-9725-0b8f74c38670"
      },
      "outputs": [
        {
          "output_type": "stream",
          "name": "stdout",
          "text": [
            "{'them', 'only', 'am', 'my', 'those', 'once', 'herself', 'ain', 'of', 'your', 'into', 'be', 'such', 'their', \"mustn't\", 'about', 'against', 'isn', 'have', 'haven', 'no', 'to', 'who', 'we', 'what', 'while', 'his', 'too', 'were', 'being', 'it', 'here', \"couldn't\", 'down', 'than', 'yourselves', \"aren't\", 'should', 'for', 'she', 'me', 'doing', 'don', 'ma', 're', \"shouldn't\", \"doesn't\", 'by', 'which', \"wouldn't\", \"should've\", 'd', 'but', 'any', 'where', 'is', 'with', 'won', 'they', 'her', 'he', 'did', 'why', 'few', \"you'll\", 'as', 'between', 'll', \"wasn't\", 'ours', \"didn't\", \"she's\", 'or', 'the', \"hasn't\", 'whom', 'most', 'there', 'at', \"needn't\", 'through', 'so', 'its', 'over', 'and', 'again', 'further', 'doesn', 'o', 'yours', 'ourselves', 'now', 'couldn', 'him', 'needn', 'itself', 'before', 'very', 'himself', \"you'd\", 'a', 'aren', 'from', 'nor', 'when', \"it's\", 'below', 'not', \"hadn't\", 'during', 'i', \"you've\", 'wouldn', \"haven't\", 'was', 'does', 'both', 'how', 'more', 'yourself', 'until', 'had', 'under', 'didn', 'hadn', 'that', 'theirs', 'will', 'you', 'after', \"won't\", 'all', 'an', \"weren't\", 'having', 'mightn', 'on', 'are', 'been', 'wasn', 'each', 'some', 'shouldn', 'out', \"that'll\", \"you're\", 'other', 'our', 'because', \"don't\", 'same', 's', 'these', 'has', 'themselves', 'if', 'up', 'mustn', 've', 'm', 'hasn', 'this', 'weren', 'own', 't', \"mightn't\", 'can', 'in', \"isn't\", 'y', 'do', 'just', 'then', 'shan', 'hers', 'myself', \"shan't\", 'above', 'off'}\n"
          ]
        }
      ],
      "source": [
        "stop=set(stopwords.words('english'))\n",
        "print(stop)"
      ]
    },
    {
      "cell_type": "code",
      "execution_count": 61,
      "id": "46a340c1",
      "metadata": {
        "colab": {
          "base_uri": "https://localhost:8080/"
        },
        "id": "46a340c1",
        "outputId": "0b674c26-91c0-4109-a2be-bf38f2a14716"
      },
      "outputs": [
        {
          "output_type": "execute_result",
          "data": {
            "text/plain": [
              "282    Just 2.7 km from Margao Railway Station, Hotel...\n",
              "288    Offering swimming pool, lawns/gardens and wate...\n",
              "294    Nestled in Mumbai, a city with strong historic...\n",
              "296    Diakon Holidays is situated in one of the most...\n",
              "297    Nestle in Goa, a land of never ceasing festivi...\n",
              "Name: hotel_overview, dtype: object"
            ]
          },
          "metadata": {},
          "execution_count": 61
        }
      ],
      "source": [
        "data.head()"
      ]
    },
    {
      "cell_type": "code",
      "execution_count": 62,
      "id": "7b6f9a55",
      "metadata": {
        "id": "7b6f9a55"
      },
      "outputs": [],
      "source": [
        "def stopwords_removal(data_point):\n",
        "    data=[x for x in data_point.split() if x not in stop]\n",
        "    return data"
      ]
    },
    {
      "cell_type": "code",
      "execution_count": 63,
      "id": "6d48d797",
      "metadata": {
        "id": "6d48d797"
      },
      "outputs": [],
      "source": [
        "def clean_data(data):\n",
        "    cleaned_data=[]\n",
        "    all_unique_words_in_each_description=[]\n",
        "    for entry in data:\n",
        "        entry = re.sub(pattern='[^a-zA-Z]',repl=' ',string = entry)\n",
        "        entry = re.sub(r'\\b\\w{0,1}\\b', repl=' ',string = entry)\n",
        "        entry = entry.lower()\n",
        "        entry = stopwords_removal(entry)\n",
        "        cleaned_data.append(entry)\n",
        "        unique = list(set(entry))\n",
        "        all_unique_words_in_each_description.extend(unique)\n",
        "    return cleaned_data, all_unique_words_in_each_description"
      ]
    },
    {
      "cell_type": "code",
      "execution_count": 64,
      "id": "c8621bc6",
      "metadata": {
        "id": "c8621bc6"
      },
      "outputs": [],
      "source": [
        "def unique_words(data):\n",
        "    unique_words = set(data)\n",
        "    return unique_words, len(unique_words)"
      ]
    },
    {
      "cell_type": "code",
      "execution_count": 65,
      "id": "d59752ed",
      "metadata": {
        "id": "d59752ed"
      },
      "outputs": [],
      "source": [
        "cleaned_data, all_unique_words_in_each_description = clean_data(data)\n",
        "unique_words, length_of_unique_words = unique_words(all_unique_words_in_each_description)"
      ]
    },
    {
      "cell_type": "code",
      "execution_count": 66,
      "id": "2a735e7c",
      "metadata": {
        "colab": {
          "base_uri": "https://localhost:8080/"
        },
        "id": "2a735e7c",
        "outputId": "57e73810-14b7-4876-b7dc-5fd7ce212205"
      },
      "outputs": [
        {
          "output_type": "stream",
          "name": "stdout",
          "text": [
            "['km', 'margao', 'railway', 'station', 'hotel', 'om', 'shiv', 'offers', 'easy', 'access', 'colva', 'beach', 'restaurant', 'internet', 'cafe', 'located', 'heart', 'margao', 'close', 'famous', 'colva', 'beach', 'hotel', 'om', 'shiv', 'popular', 'budget', 'property', 'region', 'goa', 'necessary', 'amenities', 'well', 'furnished', 'rooms', 'hotel', 'promises', 'provide', 'comfortable', 'stay', 'guests', 'three', 'categories', 'rooms', 'available', 'hotel', 'including', 'executive', 'room', 'deluxe', 'room', 'suite', 'rooms', 'appointed', 'basic', 'amenities', 'including', 'air', 'conditioner', 'cable', 'television', 'attached', 'bathroom', 'hot', 'cold', 'water', 'supply', 'six', 'storey', 'property', 'ideal', 'base', 'business', 'leisure', 'travellers', 'lies', 'vicinity', 'business', 'centres', 'government', 'offices', 'entertainment', 'areas', 'city', 'besides', 'rooftop', 'party', 'lounge', 'hotel', 'also', 'houses', 'mini', 'internet', 'cafe', 'well', 'equipped', 'conference', 'hall', 'diamond', 'seating', 'capacity', 'around', 'persons', 'shivam', 'multi', 'cuisine', 'restaurant', 'hotel', 'specialises', 'goan', 'cuisine', 'also', 'serves', 'continental', 'chinese', 'tandoori', 'delicacies', 'guests', 'enjoy', 'de', 'stress', 'range', 'drinks', 'served', 'rock', 'pub', 'enjoy', 'range', 'recreational', 'activities', 'colva', 'beach', 'walking', 'distance', 'hotel', 'please', 'note', 'wi', 'fi', 'connectivity', 'hotel', 'available', 'lobby', 'room']\n"
          ]
        }
      ],
      "source": [
        "print(cleaned_data[0])"
      ]
    },
    {
      "cell_type": "code",
      "execution_count": 67,
      "id": "ea68492d",
      "metadata": {
        "colab": {
          "base_uri": "https://localhost:8080/"
        },
        "id": "ea68492d",
        "outputId": "1d19b54f-ffca-4fc8-da9b-71066120e473"
      },
      "outputs": [
        {
          "output_type": "execute_result",
          "data": {
            "text/plain": [
              "6151"
            ]
          },
          "metadata": {},
          "execution_count": 67
        }
      ],
      "source": [
        "length_of_unique_words"
      ]
    },
    {
      "cell_type": "code",
      "execution_count": 68,
      "id": "e9afee50",
      "metadata": {
        "id": "e9afee50"
      },
      "outputs": [],
      "source": [
        "def build_indices(unique_words):\n",
        "    word_to_idx = {}\n",
        "    idx_to_word = {}\n",
        "    for i, word in enumerate(unique_words):\n",
        "        word_to_idx[word] = i\n",
        "        idx_to_word[i] = word\n",
        "    return word_to_idx, idx_to_word"
      ]
    },
    {
      "cell_type": "code",
      "execution_count": 69,
      "id": "62c4e06c",
      "metadata": {
        "colab": {
          "base_uri": "https://localhost:8080/"
        },
        "id": "62c4e06c",
        "outputId": "f2f995a7-0e0b-4bfb-a7cc-12faafd7af50"
      },
      "outputs": [
        {
          "output_type": "stream",
          "name": "stdout",
          "text": [
            "{0: 'triceps', 1: 'commotions', 2: 'khargar', 3: 'mosquito', 4: 'ttc', 5: 'cook', 6: 'kolem', 7: 'tourist', 8: 'rahi', 9: 'bose', 10: 'burgerpao', 11: 'inns', 12: 'changers', 13: 'manor', 14: 'banyan', 15: 'msrtc', 16: 'pinto', 17: 'groups', 18: 'ecotel', 19: 'wired', 20: 'sundowner', 21: 'palate', 22: 'suitable', 23: 'grill', 24: 'walled', 25: 'persons', 26: 'intricately', 27: 'lanes', 28: 'river', 29: 'treatments', 30: 'andrews', 31: 'vacations', 32: 'economical', 33: 'international', 34: 'magnificently', 35: 'supported', 36: 'organising', 37: 'aspect', 38: 'carved', 39: 'siesta', 40: 'often', 41: 'kept', 42: 'house', 43: 'nicknamed', 44: 'carbon', 45: 'portico', 46: 'myriad', 47: 'industry', 48: 'viceroy', 49: 'aid', 50: 'mobor', 51: 'snow', 52: 'surcharge', 53: 'might', 54: 'energizing', 55: 'zinhos', 56: 'cul', 57: 'requirements', 58: 'derives', 59: 'gagal', 60: 'dial', 61: 'original', 62: 'day', 63: 'generous', 64: 'ganesha', 65: 'beauties', 66: 'lonavala', 67: 'mallikarjuna', 68: 'stadium', 69: 'led', 70: 'standing', 71: 'mere', 72: 'tasty', 73: 'bouquet', 74: 'apartments', 75: 'elegant', 76: 'postal', 77: 'gobhi', 78: 'toor', 79: 'venue', 80: 'delivers', 81: 'grouped', 82: 'devices', 83: 'colloquially', 84: 'affluent', 85: 'banqueting', 86: 'demand', 87: 'cabs', 88: 'stay', 89: 'electronic', 90: 'kyle', 91: 'chattrapathi', 92: 'attractive', 93: 'hope', 94: 'jamavar', 95: 'dreamers', 96: 'mayhem', 97: 'parents', 98: 'source', 99: 'kalyan', 100: 'live', 101: 'caranzalem', 102: 'purifier', 103: 'nh', 104: 'rings', 105: 'palaces', 106: 'mudgoan', 107: 'explored', 108: 'onto', 109: 'rejuvinating', 110: 'may', 111: 'opportunity', 112: 'nothern', 113: 'bathrobes', 114: 'valuable', 115: 'stretching', 116: 'azure', 117: 'tennis', 118: 'basil', 119: 'bhave', 120: 'redefines', 121: 'april', 122: 'buddha', 123: 'gemini', 124: 'orion', 125: 'contained', 126: 'chair', 127: 'mid', 128: 'several', 129: 'diwa', 130: 'force', 131: 'noodles', 132: 'entrance', 133: 'cocktails', 134: 'valentines', 135: 'chalet', 136: 'interest', 137: 'convention', 138: 'natasha', 139: 'renton', 140: 'raaga', 141: 'typical', 142: 'cherry', 143: 'island', 144: 'pool', 145: 'afternoon', 146: 'stepping', 147: 'fixtures', 148: 'turndown', 149: 'marol', 150: 'debit', 151: 'puri', 152: 'sheekeys', 153: 'cinema', 154: 'imperial', 155: 'labyrinthine', 156: 'sarovar', 157: 'residential', 158: 'guide', 159: 'renting', 160: 'throwaway', 161: 'warmth', 162: 'discerning', 163: 'tried', 164: 'units', 165: 'ground', 166: 'grounds', 167: 'park', 168: 'boy', 169: 'posturepedic', 170: 'gracious', 171: 'cajole', 172: 'jivdani', 173: 'juices', 174: 'routine', 175: 'travelers', 176: 'suburbs', 177: 'housed', 178: 'beads', 179: 'newspaper', 180: 'hue', 181: 'nagila', 182: 'weekly', 183: 'categorised', 184: 'overlooking', 185: 'secrets', 186: 'designer', 187: 'feeling', 188: 'deus', 189: 'duties', 190: 'dose', 191: 'armchairs', 192: 'enclave', 193: 'kalpana', 194: 'waiting', 195: 'touch', 196: 'routes', 197: 'payal', 198: 'bohemian', 199: 'inspiration', 200: 'swiss', 201: 'mhape', 202: 'brew', 203: 'metropolitan', 204: 'paradiso', 205: 'become', 206: 'cigar', 207: 'tenders', 208: 'drawing', 209: 'ashoka', 210: 'cigars', 211: 'madgaon', 212: 'wrapped', 213: 'botelho', 214: 'glens', 215: 'november', 216: 'arresting', 217: 'spices', 218: 'enthusiasts', 219: 'inspires', 220: 'capture', 221: 'baked', 222: 'exceptional', 223: 'rendering', 224: 'frequented', 225: 'cravo', 226: 'required', 227: 'siddheshwar', 228: 'phase', 229: 'reality', 230: 'revitalized', 231: 'mogra', 232: 'joggers', 233: 'praia', 234: 'sion', 235: 'mt', 236: 'kiosk', 237: 'maharastra', 238: 'restsurant', 239: 'fonsecas', 240: 'boardrooms', 241: 'ajwa', 242: 'cabinet', 243: 'fabhotel', 244: 'global', 245: 'seafood', 246: 'alternatively', 247: 'cesky', 248: 'aviation', 249: 'deliciously', 250: 'campfire', 251: 'tailored', 252: 'paragon', 253: 'drowned', 254: 'majhi', 255: 'electricity', 256: 'definition', 257: 'feasible', 258: 'miss', 259: 'boast', 260: 'chocolates', 261: 'throughout', 262: 'wide', 263: 'maharaja', 264: 'cupboard', 265: 'three', 266: 'felt', 267: 'design', 268: 'decades', 269: 'youngsters', 270: 'eternity', 271: 'siddharthnagar', 272: 'fat', 273: 'unique', 274: 'shakes', 275: 'admired', 276: 'caphina', 277: 'affair', 278: 'sufficiency', 279: 'quick', 280: 'faqs', 281: 'iriss', 282: 'islands', 283: 'hao', 284: 'velsao', 285: 'fairly', 286: 'exteriors', 287: 'incense', 288: 'tie', 289: 'evershine', 290: 'heavenly', 291: 'stciked', 292: 'relaxing', 293: 'marg', 294: 'seeks', 295: 'sukhmantra', 296: 'vehicals', 297: 'cathedrals', 298: 'communication', 299: 'gorgeous', 300: 'awe', 301: 'fond', 302: 'intrusion', 303: 'kick', 304: 'youth', 305: 'rain', 306: 'oceanic', 307: 'apartment', 308: 'thalassa', 309: 'modish', 310: 'scanning', 311: 'inorbit', 312: 'foyer', 313: 'perfection', 314: 'khaana', 315: 'tikka', 316: 'dos', 317: 'hometel', 318: 'confectionaries', 319: 'technical', 320: 'rise', 321: 'elevators', 322: 'doors', 323: 'lying', 324: 'charged', 325: 'elaborate', 326: 'polished', 327: 'opus', 328: 'late', 329: 'complemented', 330: 'sundowners', 331: 'staircase', 332: 'souvenirs', 333: 'birthday', 334: 'equally', 335: 'visual', 336: 'common', 337: 'aarya', 338: 'avion', 339: 'cities', 340: 'ordinary', 341: 'kherwadi', 342: 'ask', 343: 'sole', 344: 'bath', 345: 'whiskys', 346: 'conditioner', 347: 'nariman', 348: 'senses', 349: 'holiday', 350: 'nagar', 351: 'brick', 352: 'willo', 353: 'instance', 354: 'cherish', 355: 'francis', 356: 'yogi', 357: 'tranquil', 358: 'saffron', 359: 'assist', 360: 'answer', 361: 'mardi', 362: 'whose', 363: 'enough', 364: 'mackys', 365: 'cable', 366: 'themed', 367: 'skyscrapers', 368: 'oritel', 369: 'uttan', 370: 'asia', 371: 'portuguesa', 372: 'vibes', 373: 'holidays', 374: 'wander', 375: 'providing', 376: 'spaciously', 377: 'fernandes', 378: 'beira', 379: 'morjem', 380: 'program', 381: 'woven', 382: 'del', 383: 'peshwa', 384: 'lie', 385: 'aster', 386: 'amidst', 387: 'williams', 388: 'bathroom', 389: 'huts', 390: 'flight', 391: 'bridge', 392: 'discovery', 393: 'backpackers', 394: 'firstly', 395: 'wants', 396: 'adorn', 397: 'charm', 398: 'fabrics', 399: 'sonawala', 400: 'goas', 401: 'beachcomber', 402: 'smiling', 403: 'trusted', 404: 'years', 405: 'fatima', 406: 'externally', 407: 'cyber', 408: 'trouble', 409: 'santiago', 410: 'devanshi', 411: 'specifically', 412: 'murrod', 413: 'trips', 414: 'revel', 415: 'chrgeable', 416: 'beatific', 417: 'promenade', 418: 'superlative', 419: 'share', 420: 'full', 421: 'viz', 422: 'location', 423: 'conference', 424: 'mention', 425: 'beluga', 426: 'chilling', 427: 'lady', 428: 'australian', 429: 'watersports', 430: 'esteemed', 431: 'plenty', 432: 'bookstore', 433: 'wish', 434: 'harmony', 435: 'aplenty', 436: 'agi', 437: 'ft', 438: 'rooftop', 439: 'cbd', 440: 'khil', 441: 'arpora', 442: 'limitations', 443: 'papers', 444: 'executive', 445: 'spatial', 446: 'bathed', 447: 'karan', 448: 'excursions', 449: 'heating', 450: 'proximate', 451: 'wines', 452: 'luscious', 453: 'station', 454: 'contradictions', 455: 'countryside', 456: 'shamiana', 457: 'inlay', 458: 'assuages', 459: 'auto', 460: 'purified', 461: 'early', 462: 'restaurants', 463: 'landmark', 464: 'vivanta', 465: 'shell', 466: 'emperor', 467: 'clinic', 468: 'rent', 469: 'bricks', 470: 'fired', 471: 'sightseeing', 472: 'paint', 473: 'boat', 474: 'phones', 475: 'banquet', 476: 'mansion', 477: 'pocket', 478: 'heart', 479: 'peace', 480: 'gem', 481: 'resources', 482: 'catch', 483: 'falcon', 484: 'nite', 485: 'frequent', 486: 'hustle', 487: 'devotees', 488: 'kerala', 489: 'ceilinged', 490: 'coastline', 491: 'xaviers', 492: 'exchange', 493: 'tastefull', 494: 'offer', 495: 'spritual', 496: 'caculo', 497: 'riviera', 498: 'setting', 499: 'hare', 500: 'consists', 501: 'achari', 502: 'jones', 503: 'browsing', 504: 'goveia', 505: 'straddles', 506: 'learnt', 507: 'expansiveness', 508: 'entices', 509: 'delicate', 510: 'hangings', 511: 'refreshed', 512: 'george', 513: 'stunning', 514: 'thriving', 515: 'trendz', 516: 'savoured', 517: 'object', 518: 'due', 519: 'yield', 520: 'utterly', 521: 'respect', 522: 'dana', 523: 'forested', 524: 'referred', 525: 'romaldo', 526: 'quieter', 527: 'army', 528: 'organize', 529: 'sunlight', 530: 'ticketing', 531: 'pirache', 532: 'keep', 533: 'steaming', 534: 'imagination', 535: 'kitchens', 536: 'categories', 537: 'suit', 538: 'bedcovers', 539: 'parasailing', 540: 'systems', 541: 'absence', 542: 'architectures', 543: 'stirs', 544: 'minute', 545: 'solution', 546: 'shampoo', 547: 'items', 548: 'surroundings', 549: 'televisions', 550: 'sayed', 551: 'kunj', 552: 'choices', 553: 'fancy', 554: 'science', 555: 'heavy', 556: 'trans', 557: 'amid', 558: 'mahad', 559: 'table', 560: 'active', 561: 'excessiveness', 562: 'appetites', 563: 'rachol', 564: 'organizes', 565: 'thivim', 566: 'paz', 567: 'dinners', 568: 'riding', 569: 'splendors', 570: 'tables', 571: 'better', 572: 'nightclub', 573: 'acre', 574: 'thousand', 575: 'making', 576: 'towers', 577: 'citrus', 578: 'availability', 579: 'gurukrupa', 580: 'temptations', 581: 'platinum', 582: 'onversations', 583: 'blanca', 584: 'state', 585: 'able', 586: 'styled', 587: 'shaped', 588: 'unprecedented', 589: 'perched', 590: 'sophistication', 591: 'manual', 592: 'possible', 593: 'multitude', 594: 'excursion', 595: 'dance', 596: 'sparkling', 597: 'pillow', 598: 'economy', 599: 'comprehensive', 600: 'gave', 601: 'courtyard', 602: 'capitol', 603: 'supermarkets', 604: 'hangout', 605: 'encircled', 606: 'babel', 607: 'plank', 608: 'grind', 609: 'maitri', 610: 'pastry', 611: 'sapana', 612: 'utilities', 613: 'circle', 614: 'paints', 615: 'panna', 616: 'fountains', 617: 'cotton', 618: 'comb', 619: 'tabledaily', 620: 'tequila', 621: 'suba', 622: 'cafeteria', 623: 'king', 624: 'churchgate', 625: 'beliefs', 626: 'bank', 627: 'bagh', 628: 'allowing', 629: 'mail', 630: 'packaged', 631: 'perola', 632: 'celebratory', 633: 'present', 634: 'byculla', 635: 'besides', 636: 'complexes', 637: 'shallow', 638: 'jewel', 639: 'meditation', 640: 'conventional', 641: 'diplomat', 642: 'featuring', 643: 'renovation', 644: 'friday', 645: 'satisfy', 646: 'majorda', 647: 'junior', 648: 'randhan', 649: 'various', 650: 'patterns', 651: 'exhilarate', 652: 'ksm', 653: 'trees', 654: 'famed', 655: 'grass', 656: 'attendant', 657: 'lockers', 658: 'kmfrom', 659: 'seminar', 660: 'lebanese', 661: 'quenches', 662: 'patnem', 663: 'modern', 664: 'utensils', 665: 'catholic', 666: 'knows', 667: 'personalities', 668: 'tamari', 669: 'chefs', 670: 'designated', 671: 'clarks', 672: 'musicians', 673: 'thoughtfully', 674: 'rendezvous', 675: 'meluha', 676: 'rama', 677: 'neptune', 678: 'suffice', 679: 'applicable', 680: 'dialling', 681: 'cozy', 682: 'since', 683: 'tibetan', 684: 'less', 685: 'like', 686: 'chaupati', 687: 'worship', 688: 'politan', 689: 'adorned', 690: 'flame', 691: 'sanpada', 692: 'clube', 693: 'gates', 694: 'darave', 695: 'enhance', 696: 'floor', 697: 'fee', 698: 'oberoi', 699: 'whitish', 700: 'specializes', 701: 'totally', 702: 'chances', 703: 'casablanca', 704: 'meal', 705: 'nad', 706: 'satisfaction', 707: 'fulfilled', 708: 'tiptop', 709: 'konkan', 710: 'temporarily', 711: 'energetic', 712: 'andspa', 713: 'language', 714: 'sanjay', 715: 'saheb', 716: 'asian', 717: 'cons', 718: 'newspapers', 719: 'santonio', 720: 'wavelet', 721: 'sterling', 722: 'panchakarma', 723: 'deposit', 724: 'frenzy', 725: 'freaks', 726: 'shallots', 727: 'royal', 728: 'mambos', 729: 'sircaim', 730: 'hammock', 731: 'houses', 732: 'intriguing', 733: 'nimantran', 734: 'immediate', 735: 'gatherings', 736: 'connections', 737: 'korum', 738: 'prestige', 739: 'safety', 740: 'national', 741: 'blend', 742: 'seem', 743: 'eyrie', 744: 'recreation', 745: 'assistance', 746: 'requirement', 747: 'returning', 748: 'spa', 749: 'wasabi', 750: 'explorers', 751: 'attractions', 752: 'doorstep', 753: 'canopy', 754: 'shower', 755: 'bhakti', 756: 'strolls', 757: 'movie', 758: 'cash', 759: 'tops', 760: 'standstill', 761: 'articles', 762: 'fafalia', 763: 'gazals', 764: 'much', 765: 'sapphire', 766: 'sip', 767: 'babysitting', 768: 'sony', 769: 'wonder', 770: 'lifetime', 771: 'delmon', 772: 'heads', 773: 'chinchoti', 774: 'locals', 775: 'shoe', 776: 'stacked', 777: 'shoppoholics', 778: 'soon', 779: 'enjoyable', 780: 'personas', 781: 'satyaheera', 782: 'oven', 783: 'reimbursed', 784: 'purchasing', 785: 'apmc', 786: 'without', 787: 'museum', 788: 'mahakali', 789: 'light', 790: 'connectivity', 791: 'replete', 792: 'apollo', 793: 'colonia', 794: 'prefatory', 795: 'lal', 796: 'expeditions', 797: 'wedding', 798: 'telephone', 799: 'wild', 800: 'fashion', 801: 'phalke', 802: 'hours', 803: 'alexson', 804: 'keeps', 805: 'alexus', 806: 'overall', 807: 'sleek', 808: 'multiple', 809: 'march', 810: 'wan', 811: 'types', 812: 'sizzlers', 813: 'shack', 814: 'prosperous', 815: 'laura', 816: 'gitanjali', 817: 'siolim', 818: 'sahara', 819: 'overlooks', 820: 'aldeia', 821: 'zac', 822: 'proceed', 823: 'rotary', 824: 'greenz', 825: 'hermitage', 826: 'fully', 827: 'bravado', 828: 'interested', 829: 'emotional', 830: 'satiate', 831: 'agashi', 832: 'ancestral', 833: 'although', 834: 'destination', 835: 'maximum', 836: 'sumptuous', 837: 'chaos', 838: 'veg', 839: 'indus', 840: 'gangtok', 841: 'continent', 842: 'cabo', 843: 'superb', 844: 'nautica', 845: 'related', 846: 'padding', 847: 'freezer', 848: 'ticket', 849: 'lotion', 850: 'sagres', 851: 'trading', 852: 'spirit', 853: 'oldest', 854: 'welcomes', 855: 'tungareshwar', 856: 'amigo', 857: 'vary', 858: 'quintessence', 859: 'usually', 860: 'calungate', 861: 'salim', 862: 'inez', 863: 'fishing', 864: 'reservoirs', 865: 'fresh', 866: 'defines', 867: 'finish', 868: 'rejuvenate', 869: 'lane', 870: 'signature', 871: 'eateries', 872: 'pie', 873: 'refuge', 874: 'borivali', 875: 'varying', 876: 'linked', 877: 'deltin', 878: 'eaten', 879: 'swad', 880: 'absolute', 881: 'pools', 882: 'crunch', 883: 'curved', 884: 'sector', 885: 'casa', 886: 'nacks', 887: 'earmark', 888: 'half', 889: 'munch', 890: 'mod', 891: 'betul', 892: 'salson', 893: 'annex', 894: 'sleeps', 895: 'bequeathed', 896: 'baga', 897: 'complex', 898: 'chance', 899: 'style', 900: 'blended', 901: 'evolution', 902: 'package', 903: 'jiva', 904: 'two', 905: 'princely', 906: 'pleases', 907: 'situiated', 908: 'vihangs', 909: 'hideaway', 910: 'converted', 911: 'woods', 912: 'markets', 913: 'days', 914: 'distant', 915: 'chakala', 916: 'euphoric', 917: 'shivaji', 918: 'hut', 919: 'grande', 920: 'iternational', 921: 'swaying', 922: 'whale', 923: 'mock', 924: 'exquisitely', 925: 'gonsua', 926: 'worktops', 927: 'windsor', 928: 'points', 929: 'nine', 930: 'hazel', 931: 'courtesy', 932: 'eating', 933: 'hills', 934: 'lawn', 935: 'hawker', 936: 'spaciousness', 937: 'olegario', 938: 'scrummy', 939: 'relaxed', 940: 'trident', 941: 'choicest', 942: 'zaara', 943: 'vijay', 944: 'microwave', 945: 'intricate', 946: 'steps', 947: 'synonymous', 948: 'ashwem', 949: 'decadent', 950: 'others', 951: 'problematic', 952: 'marve', 953: 'beyond', 954: 'diwar', 955: 'ocean', 956: 'acron', 957: 'sport', 958: 'utorda', 959: 'coastlines', 960: 'genuine', 961: 'rennovation', 962: 'represent', 963: 'cost', 964: 'fulfil', 965: 'vardhana', 966: 'vagator', 967: 'shacks', 968: 'rustic', 969: 'pillar', 970: 'relishing', 971: 'deliveries', 972: 'participate', 973: 'mocktails', 974: 'parade', 975: 'mode', 976: 'awadhi', 977: 'salcete', 978: 'illusive', 979: 'salad', 980: 'mystic', 981: 'swanky', 982: 'diverse', 983: 'worthy', 984: 'jalaja', 985: 'appliances', 986: 'acquiring', 987: 'negro', 988: 'double', 989: 'functional', 990: 'lessens', 991: 'changed', 992: 'glorious', 993: 'azul', 994: 'spectrum', 995: 'watch', 996: 'andconstant', 997: 'justify', 998: 'peak', 999: 'pioneer', 1000: 'bars', 1001: 'nesting', 1002: 'exhibition', 1003: 'kamala', 1004: 'facility', 1005: 'pedi', 1006: 'sliding', 1007: 'afghanistan', 1008: 'budbudyanchi', 1009: 'kegdole', 1010: 'purposes', 1011: 'applying', 1012: 'fits', 1013: 'culture', 1014: 'lifestyle', 1015: 'amount', 1016: 'offshore', 1017: 'group', 1018: 'charges', 1019: 'streams', 1020: 'horniman', 1021: 'base', 1022: 'favourites', 1023: 'mandavi', 1024: 'chirping', 1025: 'clostes', 1026: 'chabbria', 1027: 'railhead', 1028: 'east', 1029: 'months', 1030: 'railyway', 1031: 'police', 1032: 'paneer', 1033: 'visit', 1034: 'piscine', 1035: 'organised', 1036: 'temptation', 1037: 'economic', 1038: 'discos', 1039: 'stella', 1040: 'travels', 1041: 'tent', 1042: 'informed', 1043: 'stroll', 1044: 'everybody', 1045: 'badlapur', 1046: 'navi', 1047: 'octane', 1048: 'latin', 1049: 'bathe', 1050: 'se', 1051: 'sand', 1052: 'comes', 1053: 'char', 1054: 'bookshelf', 1055: 'szechuan', 1056: 'saleswoman', 1057: 'colaba', 1058: 'vegetarian', 1059: 'sher', 1060: 'foods', 1061: 'maratha', 1062: 'open', 1063: 'linda', 1064: 'outsiders', 1065: 'seville', 1066: 'children', 1067: 'poriat', 1068: 'captain', 1069: 'stage', 1070: 'telly', 1071: 'shanta', 1072: 'porvorim', 1073: 'pani', 1074: 'closes', 1075: 'tiara', 1076: 'colonialism', 1077: 'deck', 1078: 'cm', 1079: 'mahakalo', 1080: 'royale', 1081: 'cloud', 1082: 'dangle', 1083: 'curries', 1084: 'vividly', 1085: 'whims', 1086: 'wetted', 1087: 'woodlands', 1088: 'break', 1089: 'modular', 1090: 'couple', 1091: 'square', 1092: 'guestline', 1093: 'watering', 1094: 'prithvi', 1095: 'bhandup', 1096: 'dessert', 1097: 'avifauna', 1098: 'pleasing', 1099: 'notebook', 1100: 'speciality', 1101: 'dest', 1102: 'acacia', 1103: 'oyo', 1104: 'jan', 1105: 'lift', 1106: 'subsequently', 1107: 'approval', 1108: 'tend', 1109: 'partition', 1110: 'cuffe', 1111: 'considers', 1112: 'kfc', 1113: 'shantadurga', 1114: 'al', 1115: 'timely', 1116: 'amrit', 1117: 'famafa', 1118: 'example', 1119: 'timeless', 1120: 'metropolis', 1121: 'galactica', 1122: 'machans', 1123: 'suitably', 1124: 'biggest', 1125: 'add', 1126: 'opening', 1127: 'vashi', 1128: 'residency', 1129: 'dreamland', 1130: 'coice', 1131: 'sudama', 1132: 'comforts', 1133: 'crest', 1134: 'shopaholic', 1135: 'booking', 1136: 'tali', 1137: 'key', 1138: 'amoura', 1139: 'lounger', 1140: 'store', 1141: 'ilodge', 1142: 'monteiro', 1143: 'margaon', 1144: 'mandarin', 1145: 'gratify', 1146: 'wrought', 1147: 'adore', 1148: 'memories', 1149: 'dada', 1150: 'kalimiri', 1151: 'panels', 1152: 'fullest', 1153: 'wales', 1154: 'cruises', 1155: 'accore', 1156: 'designs', 1157: 'imagica', 1158: 'agnelo', 1159: 'power', 1160: 'memory', 1161: 'cookies', 1162: 'ozran', 1163: 'skies', 1164: 'mumbadevi', 1165: 'kitchenware', 1166: 'bougainvillea', 1167: 'nuvem', 1168: 'familes', 1169: 'solitude', 1170: 'designed', 1171: 'inviting', 1172: 'cards', 1173: 'hotelier', 1174: 'exercises', 1175: 'desire', 1176: 'citadel', 1177: 'yotel', 1178: 'attach', 1179: 'desert', 1180: 'crawford', 1181: 'cajetan', 1182: 'track', 1183: 'halls', 1184: 'spots', 1185: 'dragon', 1186: 'eternal', 1187: 'singled', 1188: 'boost', 1189: 'sweeping', 1190: 'khairane', 1191: 'nagoa', 1192: 'ensures', 1193: 'scheme', 1194: 'spaced', 1195: 'age', 1196: 'looked', 1197: 'shree', 1198: 'befits', 1199: 'hotspot', 1200: 'situated', 1201: 'elan', 1202: 'foa', 1203: 'space', 1204: 'indicate', 1205: 'built', 1206: 'duvets', 1207: 'eminent', 1208: 'beddng', 1209: 'twilight', 1210: 'apart', 1211: 'becomes', 1212: 'fields', 1213: 'benefit', 1214: 'naturally', 1215: 'least', 1216: 'yatri', 1217: 'porch', 1218: 'vaddo', 1219: 'color', 1220: 'synchronization', 1221: 'trains', 1222: 'thrill', 1223: 'thirsty', 1224: 'parks', 1225: 'freshwater', 1226: 'mangesh', 1227: 'brands', 1228: 'ethnic', 1229: 'chemists', 1230: 'anne', 1231: 'minor', 1232: 'condition', 1233: 'saldanaha', 1234: 'surreal', 1235: 'completed', 1236: 'mahamaya', 1237: 'contace', 1238: 'sukhsagar', 1239: 'special', 1240: 'decent', 1241: 'surrounding', 1242: 'kitchen', 1243: 'perpetual', 1244: 'depart', 1245: 'daylight', 1246: 'bustling', 1247: 'existing', 1248: 'anything', 1249: 'landmarks', 1250: 'fittings', 1251: 'closet', 1252: 'khandala', 1253: 'area', 1254: 'panday', 1255: 'sands', 1256: 'particles', 1257: 'crockery', 1258: 'smacking', 1259: 'die', 1260: 'cygnett', 1261: 'enjoyed', 1262: 'celestiial', 1263: 'accessed', 1264: 'rasa', 1265: 'inland', 1266: 'landscapes', 1267: 'art', 1268: 'collapsible', 1269: 'penthouse', 1270: 'rainbow', 1271: 'equip', 1272: 'dormitory', 1273: 'boshan', 1274: 'within', 1275: 'choosing', 1276: 'beneficial', 1277: 'monsoon', 1278: 'seek', 1279: 'repeat', 1280: 'decors', 1281: 'samsons', 1282: 'mesmerizing', 1283: 'spectacular', 1284: 'waters', 1285: 'realm', 1286: 'mtrs', 1287: 'turtles', 1288: 'cantonese', 1289: 'man', 1290: 'divar', 1291: 'located', 1292: 'forever', 1293: 'morimoto', 1294: 'ceasing', 1295: 'gulf', 1296: 'atleast', 1297: 'hypercity', 1298: 'temples', 1299: 'vintage', 1300: 'alpha', 1301: 'blends', 1302: 'avoid', 1303: 'dvds', 1304: 'bengal', 1305: 'symbolises', 1306: 'render', 1307: 'feels', 1308: 'highest', 1309: 'revered', 1310: 'apt', 1311: 'manages', 1312: 'swim', 1313: 'nevertheless', 1314: 'later', 1315: 'factory', 1316: 'intoxicating', 1317: 'usage', 1318: 'mascarenhas', 1319: 'barbeque', 1320: 'advise', 1321: 'laptops', 1322: 'goaou', 1323: 'loud', 1324: 'furniture', 1325: 'water', 1326: 'guestrooms', 1327: 'casamelhor', 1328: 'studios', 1329: 'perennial', 1330: 'milsim', 1331: 'uptime', 1332: 'luxurious', 1333: 'seaside', 1334: 'ruffles', 1335: 'ruby', 1336: 'gova', 1337: 'bazzar', 1338: 'voice', 1339: 'heater', 1340: 'passion', 1341: 'bottle', 1342: 'opens', 1343: 'attached', 1344: 'rooms', 1345: 'month', 1346: 'enviro', 1347: 'dragonfly', 1348: 'social', 1349: 'bikes', 1350: 'vera', 1351: 'spick', 1352: 'myth', 1353: 'continental', 1354: 'mangueshi', 1355: 'classic', 1356: 'toilet', 1357: 'induction', 1358: 'scrubs', 1359: 'yrs', 1360: 'parlour', 1361: 'would', 1362: 'sahar', 1363: 'net', 1364: 'jama', 1365: 'greenery', 1366: 'ergonomically', 1367: 'favored', 1368: 'tivim', 1369: 'latitude', 1370: 'brown', 1371: 'rosewood', 1372: 'polluted', 1373: 'traffic', 1374: 'tickets', 1375: 'paid', 1376: 'extensive', 1377: 'mango', 1378: 'josephs', 1379: 'aksa', 1380: 'gulmohar', 1381: 'majestic', 1382: 'tease', 1383: 'milk', 1384: 'tropical', 1385: 'utilize', 1386: 'celebrating', 1387: 'car', 1388: 'belongs', 1389: 'cookware', 1390: 'tidy', 1391: 'expats', 1392: 'newer', 1393: 'feet', 1394: 'buy', 1395: 'rented', 1396: 'floored', 1397: 'elderly', 1398: 'enjoying', 1399: 'perfectly', 1400: 'pizza', 1401: 'colorful', 1402: 'moments', 1403: 'go', 1404: 'food', 1405: 'ancient', 1406: 'barbecues', 1407: 'tendencies', 1408: 'magic', 1409: 'orange', 1410: 'chirpings', 1411: 'post', 1412: 'bhavan', 1413: 'virgin', 1414: 'stars', 1415: 'think', 1416: 'palette', 1417: 'ceremony', 1418: 'bodyscape', 1419: 'beverage', 1420: 'kamat', 1421: 'sana', 1422: 'level', 1423: 'sona', 1424: 'ready', 1425: 'discotheques', 1426: 'hathaway', 1427: 'best', 1428: 'graceful', 1429: 'waterfall', 1430: 'workflow', 1431: 'roman', 1432: 'koldongri', 1433: 'desired', 1434: 'paula', 1435: 'majority', 1436: 'capacious', 1437: 'sense', 1438: 'sunrise', 1439: 'dom', 1440: 'essentials', 1441: 'failure', 1442: 'storey', 1443: 'calls', 1444: 'betalbatim', 1445: 'return', 1446: 'louis', 1447: 'crystal', 1448: 'tradition', 1449: 'spazio', 1450: 'entice', 1451: 'hygienic', 1452: 'turtle', 1453: 'fit', 1454: 'nestor', 1455: 'neo', 1456: 'dakshin', 1457: 'pearl', 1458: 'siddhi', 1459: 'exhaustive', 1460: 'seabreeze', 1461: 'economically', 1462: 'skilled', 1463: 'expansive', 1464: 'sizes', 1465: 'shoer', 1466: 'specialties', 1467: 'savoring', 1468: 'bonus', 1469: 'banquets', 1470: 'even', 1471: 'endeavours', 1472: 'lofty', 1473: 'industrial', 1474: 'amber', 1475: 'victorian', 1476: 'taverna', 1477: 'showcasing', 1478: 'guarantee', 1479: 'dhaga', 1480: 'paintings', 1481: 'sutra', 1482: 'enthralling', 1483: 'parth', 1484: 'vida', 1485: 'virtual', 1486: 'preference', 1487: 'mansions', 1488: 'fontainhas', 1489: 'partially', 1490: 'captures', 1491: 'future', 1492: 'gilbert', 1493: 'rita', 1494: 'floors', 1495: 'portrays', 1496: 'coupled', 1497: 'enterprises', 1498: 'hub', 1499: 'alarm', 1500: 'gym', 1501: 'coconut', 1502: 'licking', 1503: 'tikuji', 1504: 'basket', 1505: 'engagement', 1506: 'taloja', 1507: 'trendy', 1508: 'soares', 1509: 'idyllic', 1510: 'seasons', 1511: 'got', 1512: 'ananaz', 1513: 'menu', 1514: 'marvellous', 1515: 'anjuna', 1516: 'estuary', 1517: 'pilgrimage', 1518: 'vacation', 1519: 'wintergreen', 1520: 'free', 1521: 'natural', 1522: 'crowd', 1523: 'walls', 1524: 'competitive', 1525: 'balcao', 1526: 'dip', 1527: 'badminton', 1528: 'comprise', 1529: 'spruha', 1530: 'ballrooms', 1531: 'raj', 1532: 'confectionery', 1533: 'leo', 1534: 'bhavani', 1535: 'duplex', 1536: 'transfers', 1537: 'ramacon', 1538: 'dazzling', 1539: 'tandoori', 1540: 'darkness', 1541: 'haveli', 1542: 'om', 1543: 'marivel', 1544: 'january', 1545: 'sheer', 1546: 'means', 1547: 'information', 1548: 'starry', 1549: 'mncs', 1550: 'recently', 1551: 'vendors', 1552: 'ultimate', 1553: 'comfortably', 1554: 'bondava', 1555: 'generally', 1556: 'promise', 1557: 'appreciate', 1558: 'found', 1559: 'balance', 1560: 'proper', 1561: 'pubs', 1562: 'evangelist', 1563: 'black', 1564: 'refined', 1565: 'holidaying', 1566: 'heavily', 1567: 'helpful', 1568: 'kmz', 1569: 'fortune', 1570: 'panjim', 1571: 'infraserve', 1572: 'admiring', 1573: 'consist', 1574: 'cansaulim', 1575: 'embellished', 1576: 'provide', 1577: 'shrine', 1578: 'motorised', 1579: 'rodeo', 1580: 'chain', 1581: 'zones', 1582: 'roberts', 1583: 'abrigo', 1584: 'dishwasher', 1585: 'request', 1586: 'den', 1587: 'accepted', 1588: 'commonly', 1589: 'tones', 1590: 'soma', 1591: 'squeezed', 1592: 'easily', 1593: 'highlight', 1594: 'allowed', 1595: 'supremo', 1596: 'entertained', 1597: 'perch', 1598: 'categorized', 1599: 'proficient', 1600: 'broadband', 1601: 'tea', 1602: 'oyster', 1603: 'sunny', 1604: 'beds', 1605: 'arrive', 1606: 'beddings', 1607: 'medium', 1608: 'disc', 1609: 'anand', 1610: 'hints', 1611: 'supposed', 1612: 'forest', 1613: 'le', 1614: 'sunken', 1615: 'awards', 1616: 'centre', 1617: 'purification', 1618: 'spread', 1619: 'tomb', 1620: 'fare', 1621: 'metropolitans', 1622: 'hampers', 1623: 'trattoria', 1624: 'rhythm', 1625: 'aayush', 1626: 'guides', 1627: 'roaming', 1628: 'attainable', 1629: 'laxmi', 1630: 'tawa', 1631: 'zarap', 1632: 'climb', 1633: 'dust', 1634: 'regions', 1635: 'exist', 1636: 'hamlet', 1637: 'arcades', 1638: 'expect', 1639: 'odxel', 1640: 'slides', 1641: 'kanch', 1642: 'function', 1643: 'seclude', 1644: 'solmar', 1645: 'naikawaddo', 1646: 'pump', 1647: 'younger', 1648: 'shimmering', 1649: 'exclusively', 1650: 'church', 1651: 'safe', 1652: 'agua', 1653: 'deo', 1654: 'sirocco', 1655: 'bombay', 1656: 'vietnamese', 1657: 'diya', 1658: 'industries', 1659: 'variously', 1660: 'centres', 1661: 'marjim', 1662: 'trained', 1663: 'mae', 1664: 'dabolim', 1665: 'environment', 1666: 'leading', 1667: 'handicapped', 1668: 'convenience', 1669: 'fitted', 1670: 'globetrotters', 1671: 'confines', 1672: 'grant', 1673: 'flavoursome', 1674: 'lcd', 1675: 'blissful', 1676: 'transfer', 1677: 'trance', 1678: 'fatorda', 1679: 'supreme', 1680: 'sun', 1681: 'inch', 1682: 'aquamarine', 1683: 'manipal', 1684: 'mudhgaon', 1685: 'accustomed', 1686: 'magnificient', 1687: 'important', 1688: 'turn', 1689: 'workspace', 1690: 'vista', 1691: 'list', 1692: 'life', 1693: 'titos', 1694: 'rejuvinate', 1695: 'equipment', 1696: 'steel', 1697: 'vessel', 1698: 'aristocracy', 1699: 'crocodile', 1700: 'karaswada', 1701: 'port', 1702: 'flee', 1703: 'karnataka', 1704: 'navelim', 1705: 'greens', 1706: 'upmarket', 1707: 'projector', 1708: 'hyper', 1709: 'availed', 1710: 'anjali', 1711: 'stalwarts', 1712: 'appearance', 1713: 'configuration', 1714: 'elite', 1715: 'fusion', 1716: 'depending', 1717: 'complement', 1718: 'individual', 1719: 'jawahar', 1720: 'millenium', 1721: 'adding', 1722: 'travellers', 1723: 'walkable', 1724: 'cheshire', 1725: 'ipod', 1726: 'mesmerising', 1727: 'ranging', 1728: 'master', 1729: 'endlessly', 1730: 'queries', 1731: 'upon', 1732: 'contrasts', 1733: 'strand', 1734: 'therapy', 1735: 'enabled', 1736: 'palacete', 1737: 'zuariview', 1738: 'hatole', 1739: 'occasion', 1740: 'hill', 1741: 'sshop', 1742: 'craftsmen', 1743: 'koithra', 1744: 'families', 1745: 'rides', 1746: 'towards', 1747: 'seat', 1748: 'scooters', 1749: 'sober', 1750: 'align', 1751: 'hand', 1752: 'brittos', 1753: 'saki', 1754: 'posters', 1755: 'cupids', 1756: 'mahim', 1757: 'tentacao', 1758: 'doodh', 1759: 'resides', 1760: 'waddo', 1761: 'rejuvenation', 1762: 'jewellery', 1763: 'refer', 1764: 'supply', 1765: 'nigh', 1766: 'soft', 1767: 'fridge', 1768: 'capacity', 1769: 'shon', 1770: 'delicatessen', 1771: 'luz', 1772: 'travelling', 1773: 'veranda', 1774: 'sold', 1775: 'surprisingly', 1776: 'pm', 1777: 'cabanas', 1778: 'saturday', 1779: 'evening', 1780: 'exclusive', 1781: 'aarhaah', 1782: 'joao', 1783: 'speaks', 1784: 'goldfinch', 1785: 'uttorda', 1786: 'recommended', 1787: 'sensuality', 1788: 'assisi', 1789: 'penthouses', 1790: 'bite', 1791: 'alfran', 1792: 'folk', 1793: 'slice', 1794: 'bathtubs', 1795: 'kindly', 1796: 'fly', 1797: 'undertaken', 1798: 'taxes', 1799: 'gloria', 1800: 'glistening', 1801: 'plates', 1802: 'chitra', 1803: 'bustle', 1804: 'density', 1805: 'splashdown', 1806: 'stationand', 1807: 'useful', 1808: 'princess', 1809: 'see', 1810: 'wave', 1811: 'bright', 1812: 'swigs', 1813: 'second', 1814: 'antique', 1815: 'mallikarjun', 1816: 'skyway', 1817: 'closed', 1818: 'smooth', 1819: 'ferry', 1820: 'study', 1821: 'private', 1822: 'mahalakshmi', 1823: 'sophisticatedly', 1824: 'hacienda', 1825: 'emergency', 1826: 'funfilled', 1827: 'seraulim', 1828: 'querim', 1829: 'transit', 1830: 'sairesidency', 1831: 'ala', 1832: 'canvassed', 1833: 'wonderfully', 1834: 'kalika', 1835: 'member', 1836: 'longing', 1837: 'lamp', 1838: 'historical', 1839: 'flavorful', 1840: 'console', 1841: 'carrom', 1842: 'efficient', 1843: 'nazri', 1844: 'coloured', 1845: 'kopar', 1846: 'ghodbunder', 1847: 'enhances', 1848: 'one', 1849: 'bike', 1850: 'adjoining', 1851: 'souls', 1852: 'take', 1853: 'prices', 1854: 'maroshi', 1855: 'splendours', 1856: 'gift', 1857: 'pam', 1858: 'exercise', 1859: 'talao', 1860: 'intercoms', 1861: 'coziness', 1862: 'accessible', 1863: 'accompanied', 1864: 'point', 1865: 'baluchi', 1866: 'mahatma', 1867: 'swan', 1868: 'ancora', 1869: 'internally', 1870: 'jacuzzi', 1871: 'banking', 1872: 'boating', 1873: 'wisdom', 1874: 'mattress', 1875: 'hotspots', 1876: 'metre', 1877: 'whistle', 1878: 'aquatic', 1879: 'rocking', 1880: 'sessions', 1881: 'ondas', 1882: 'turquoise', 1883: 'genuinely', 1884: 'influx', 1885: 'isha', 1886: 'good', 1887: 'skky', 1888: 'powers', 1889: 'spaces', 1890: 'kranti', 1891: 'silvery', 1892: 'manderm', 1893: 'read', 1894: 'successfully', 1895: 'anchorage', 1896: 'extra', 1897: 'belapur', 1898: 'bon', 1899: 'alfredos', 1900: 'beatle', 1901: 'requisite', 1902: 'shifted', 1903: 'shiv', 1904: 'links', 1905: 'elegance', 1906: 'arcade', 1907: 'proximity', 1908: 'nets', 1909: 'arranges', 1910: 'culinary', 1911: 'adventure', 1912: 'pavitra', 1913: 'backed', 1914: 'processor', 1915: 'talve', 1916: 'docking', 1917: 'earth', 1918: 'yet', 1919: 'mountains', 1920: 'legends', 1921: 'taraporewala', 1922: 'tell', 1923: 'blessings', 1924: 'buses', 1925: 'seanete', 1926: 'khajrana', 1927: 'shelters', 1928: 'sub', 1929: 'luxuriously', 1930: 'moonlight', 1931: 'woderfull', 1932: 'tiles', 1933: 'carnival', 1934: 'celebration', 1935: 'upper', 1936: 'loacted', 1937: 'manguesh', 1938: 'cramped', 1939: 'arts', 1940: 'terms', 1941: 'festivals', 1942: 'liquors', 1943: 'site', 1944: 'shalimaar', 1945: 'maruti', 1946: 'ridley', 1947: 'clustered', 1948: 'skiing', 1949: 'vicinity', 1950: 'obdurate', 1951: 'cheery', 1952: 'lambana', 1953: 'laptop', 1954: 'hair', 1955: 'gras', 1956: 'secular', 1957: 'snack', 1958: 'namely', 1959: 'bakerie', 1960: 'cosseting', 1961: 'foliage', 1962: 'foodies', 1963: 'tata', 1964: 'neelam', 1965: 'flocked', 1966: 'exciting', 1967: 'facilitated', 1968: 'golf', 1969: 'kokilaben', 1970: 'lotus', 1971: 'consciousness', 1972: 'additional', 1973: 'bollywood', 1974: 'propertys', 1975: 'driven', 1976: 'benzy', 1977: 'executives', 1978: 'paintball', 1979: 'karting', 1980: 'properties', 1981: 'soulful', 1982: 'ambernath', 1983: 'laundry', 1984: 'win', 1985: 'holy', 1986: 'barstudy', 1987: 'crossed', 1988: 'applied', 1989: 'karaoke', 1990: 'panchsheel', 1991: 'toned', 1992: 'worry', 1993: 'bogmalo', 1994: 'neutrals', 1995: 'atlanta', 1996: 'lighting', 1997: 'favourite', 1998: 'yogic', 1999: 'mackies', 2000: 'spirits', 2001: 'stretches', 2002: 'cat', 2003: 'vardhaman', 2004: 'savour', 2005: 'proeprty', 2006: 'seas', 2007: 'congenial', 2008: 'morning', 2009: 'flats', 2010: 'called', 2011: 'vogue', 2012: 'promises', 2013: 'adlabs', 2014: 'symphony', 2015: 'informal', 2016: 'snorkelling', 2017: 'advanced', 2018: 'finest', 2019: 'lunch', 2020: 'play', 2021: 'solitaire', 2022: 'discreet', 2023: 'rs', 2024: 'engage', 2025: 'basketball', 2026: 'stocked', 2027: 'basis', 2028: 'drink', 2029: 'employment', 2030: 'fulfilling', 2031: 'nanu', 2032: 'flor', 2033: 'dished', 2034: 'supplies', 2035: 'incomplete', 2036: 'nearest', 2037: 'hire', 2038: 'demands', 2039: 'nestling', 2040: 'six', 2041: 'shortly', 2042: 'favourable', 2043: 'vehicles', 2044: 'five', 2045: 'bay', 2046: 'shady', 2047: 'mexican', 2048: 'veggie', 2049: 'kolkars', 2050: 'drinking', 2051: 'specialities', 2052: 'prefect', 2053: 'esselworld', 2054: 'waterfronts', 2055: 'easier', 2056: 'check', 2057: 'serving', 2058: 'savouring', 2059: 'awaits', 2060: 'cocos', 2061: 'dambolin', 2062: 'composure', 2063: 'sizeable', 2064: 'pathways', 2065: 'kiara', 2066: 'care', 2067: 'professional', 2068: 'uzbeik', 2069: 'vivant', 2070: 'distinctively', 2071: 'sangam', 2072: 'explore', 2073: 'ldc', 2074: 'taking', 2075: 'brothers', 2076: 'nehru', 2077: 'mouthwash', 2078: 'volga', 2079: 'walk', 2080: 'wheelchairs', 2081: 'suraj', 2082: 'conduct', 2083: 'foreigners', 2084: 'earliest', 2085: 'soothing', 2086: 'extend', 2087: 'hollywood', 2088: 'abyss', 2089: 'recipes', 2090: 'dense', 2091: 'appeal', 2092: 'sauna', 2093: 'latest', 2094: 'moreover', 2095: 'cart', 2096: 'colonial', 2097: 'let', 2098: 'gastronomic', 2099: 'brush', 2100: 'krish', 2101: 'journey', 2102: 'flights', 2103: 'premiere', 2104: 'incredibly', 2105: 'guest', 2106: 'ayyappa', 2107: 'itt', 2108: 'heritage', 2109: 'inside', 2110: 'geyser', 2111: 'pretty', 2112: 'traveling', 2113: 'total', 2114: 'carefully', 2115: 'festive', 2116: 'crown', 2117: 'viviana', 2118: 'suite', 2119: 'chowpatty', 2120: 'nightly', 2121: 'premier', 2122: 'variant', 2123: 'prospect', 2124: 'levels', 2125: 'snuggle', 2126: 'saude', 2127: 'diakon', 2128: 'plain', 2129: 'std', 2130: 'minimalistic', 2131: 'french', 2132: 'makeshift', 2133: 'corporate', 2134: 'known', 2135: 'homely', 2136: 'recognized', 2137: 'busy', 2138: 'osborn', 2139: 'destiny', 2140: 'ethos', 2141: 'connect', 2142: 'intercom', 2143: 'management', 2144: 'residences', 2145: 'either', 2146: 'naka', 2147: 'expenses', 2148: 'cabana', 2149: 'starter', 2150: 'strategic', 2151: 'bungalows', 2152: 'cxo', 2153: 'small', 2154: 'convenient', 2155: 'ashiana', 2156: 'luggage', 2157: 'anita', 2158: 'epitome', 2159: 'chamber', 2160: 'beside', 2161: 'masala', 2162: 'selling', 2163: 'manager', 2164: 'neighbors', 2165: 'aesthetics', 2166: 'ashvem', 2167: 'descend', 2168: 'edifices', 2169: 'arrow', 2170: 'opium', 2171: 'schedule', 2172: 'native', 2173: 'bazar', 2174: 'count', 2175: 'restored', 2176: 'roof', 2177: 'skylark', 2178: 'golfing', 2179: 'novotel', 2180: 'riva', 2181: 'verandah', 2182: 'bursting', 2183: 'fair', 2184: 'panvel', 2185: 'godrej', 2186: 'cake', 2187: 'sleepy', 2188: 'ringo', 2189: 'pent', 2190: 'woodstock', 2191: 'laces', 2192: 'workshop', 2193: 'secretariat', 2194: 'fariyas', 2195: 'gyespa', 2196: 'white', 2197: 'lagoon', 2198: 'udyaan', 2199: 'justa', 2200: 'preferable', 2201: 'reasons', 2202: 'burn', 2203: 'bangladesh', 2204: 'vasai', 2205: 'grown', 2206: 'seven', 2207: 'fratelli', 2208: 'mattresses', 2209: 'bicycle', 2210: 'associated', 2211: 'wta', 2212: 'peaceful', 2213: 'apparels', 2214: 'cadell', 2215: 'rosemary', 2216: 'wildernest', 2217: 'skyview', 2218: 'burners', 2219: 'environmental', 2220: 'nxtgen', 2221: 'sight', 2222: 'paradise', 2223: 'shaded', 2224: 'bungalow', 2225: 'artistic', 2226: 'fabulous', 2227: 'customs', 2228: 'ingredients', 2229: 'linen', 2230: 'arabian', 2231: 'caravela', 2232: 'needful', 2233: 'stylish', 2234: 'searching', 2235: 'restful', 2236: 'thrives', 2237: 'botanical', 2238: 'held', 2239: 'propmixity', 2240: 'sigri', 2241: 'serviced', 2242: 'sunburn', 2243: 'budget', 2244: 'well', 2245: 'suiting', 2246: 'guitar', 2247: 'horse', 2248: 'whitewashed', 2249: 'soap', 2250: 'towns', 2251: 'zappia', 2252: 'circular', 2253: 'hosts', 2254: 'person', 2255: 'stayed', 2256: 'need', 2257: 'gomati', 2258: 'hectic', 2259: 'collection', 2260: 'provides', 2261: 'star', 2262: 'leads', 2263: 'astro', 2264: 'ivy', 2265: 'money', 2266: 'scrubbed', 2267: 'rich', 2268: 'colour', 2269: 'away', 2270: 'barbecue', 2271: 'bygone', 2272: 'echo', 2273: 'peninsular', 2274: 'proves', 2275: 'generator', 2276: 'hospitalities', 2277: 'lalit', 2278: 'corner', 2279: 'domino', 2280: 'landscaping', 2281: 'flamboyante', 2282: 'listen', 2283: 'major', 2284: 'extraordinary', 2285: 'capability', 2286: 'conducted', 2287: 'green', 2288: 'epabx', 2289: 'expertise', 2290: 'lakefield', 2291: 'bengali', 2292: 'temporary', 2293: 'singles', 2294: 'gaothan', 2295: 'famous', 2296: 'emanate', 2297: 'inbuilt', 2298: 'wakes', 2299: 'feast', 2300: 'bats', 2301: 'practitioners', 2302: 'anthonys', 2303: 'desk', 2304: 'cloakroom', 2305: 'golden', 2306: 'suites', 2307: 'accepts', 2308: 'secluded', 2309: 'goodyland', 2310: 'worli', 2311: 'wadhwani', 2312: 'ceiling', 2313: 'alcohol', 2314: 'cold', 2315: 'colonization', 2316: 'mahaveer', 2317: 'isfahan', 2318: 'personalized', 2319: 'textures', 2320: 'goal', 2321: 'isd', 2322: 'order', 2323: 'building', 2324: 'tides', 2325: 'thereby', 2326: 'backup', 2327: 'states', 2328: 'knacks', 2329: 'aptly', 2330: 'forward', 2331: 'ghats', 2332: 'vivre', 2333: 'hanuman', 2334: 'female', 2335: 'chosen', 2336: 'central', 2337: 'mellow', 2338: 'tiracol', 2339: 'residing', 2340: 'exploring', 2341: 'unplugged', 2342: 'imagine', 2343: 'ride', 2344: 'dear', 2345: 'treats', 2346: 'vessels', 2347: 'donalds', 2348: 'excellence', 2349: 'match', 2350: 'quench', 2351: 'game', 2352: 'estate', 2353: 'expense', 2354: 'vaiencia', 2355: 'cottages', 2356: 'tivai', 2357: 'propinquity', 2358: 'sanctuary', 2359: 'settings', 2360: 'access', 2361: 'cigarettes', 2362: 'influence', 2363: 'zero', 2364: 'airlink', 2365: 'seats', 2366: 'favorite', 2367: 'reminders', 2368: 'morgim', 2369: 'dwellers', 2370: 'assagao', 2371: 'versa', 2372: 'adrenaline', 2373: 'charming', 2374: 'sophisticated', 2375: 'graciano', 2376: 'con', 2377: 'cosier', 2378: 'heath', 2379: 'avail', 2380: 'employed', 2381: 'enticing', 2382: 'forgettable', 2383: 'bar', 2384: 'colvale', 2385: 'parking', 2386: 'yeat', 2387: 'delights', 2388: 'bistro', 2389: 'workout', 2390: 'operate', 2391: 'futuristic', 2392: 'laid', 2393: 'ananda', 2394: 'yards', 2395: 'homelike', 2396: 'pvt', 2397: 'pheonix', 2398: 'umta', 2399: 'guna', 2400: 'alexs', 2401: 'congeniality', 2402: 'unwind', 2403: 'mirror', 2404: 'theatre', 2405: 'sheraton', 2406: 'cst', 2407: 'sure', 2408: 'mughlai', 2409: 'requires', 2410: 'lot', 2411: 'appetisers', 2412: 'shave', 2413: 'philosophy', 2414: 'worth', 2415: 'greets', 2416: 'superior', 2417: 'june', 2418: 'candolim', 2419: 'ni', 2420: 'prime', 2421: 'ambiance', 2422: 'midc', 2423: 'accepeptance', 2424: 'nirvaana', 2425: 'minimalist', 2426: 'hall', 2427: 'apartemnts', 2428: 'toes', 2429: 'divan', 2430: 'payment', 2431: 'availaible', 2432: 'tara', 2433: 'positive', 2434: 'falls', 2435: 'beach', 2436: 'know', 2437: 'locker', 2438: 'seater', 2439: 'western', 2440: 'duke', 2441: 'true', 2442: 'xviii', 2443: 'vice', 2444: 'thoroughly', 2445: 'legs', 2446: 'casinha', 2447: 'caught', 2448: 'channels', 2449: 'exotic', 2450: 'shopaholics', 2451: 'emerald', 2452: 'ironing', 2453: 'pandit', 2454: 'relish', 2455: 'male', 2456: 'financial', 2457: 'heaven', 2458: 'bakeries', 2459: 'immaculately', 2460: 'shad', 2461: 'brahmani', 2462: 'propery', 2463: 'served', 2464: 'conducting', 2465: 'vg', 2466: 'spoons', 2467: 'coral', 2468: 'neutral', 2469: 'refusing', 2470: 'charni', 2471: 'exude', 2472: 'casinhas', 2473: 'farm', 2474: 'calories', 2475: 'mythos', 2476: 'formerly', 2477: 'sagar', 2478: 'kalwa', 2479: 'zodiac', 2480: 'damaged', 2481: 'caretaker', 2482: 'meadows', 2483: 'aguada', 2484: 'line', 2485: 'railway', 2486: 'evenings', 2487: 'times', 2488: 'banana', 2489: 'rightly', 2490: 'andheri', 2491: 'befitting', 2492: 'course', 2493: 'fruits', 2494: 'dealing', 2495: 'uno', 2496: 'kidzania', 2497: 'ethnicity', 2498: 'summit', 2499: 'tiring', 2500: 'platter', 2501: 'alex', 2502: 'presentations', 2503: 'idd', 2504: 'advance', 2505: 'manner', 2506: 'rear', 2507: 'delicately', 2508: 'watching', 2509: 'completely', 2510: 'rubbish', 2511: 'raghuleela', 2512: 'phule', 2513: 'vehical', 2514: 'enable', 2515: 'stores', 2516: 'accommodation', 2517: 'teak', 2518: 'flat', 2519: 'time', 2520: 'wc', 2521: 'express', 2522: 'orchestra', 2523: 'soaking', 2524: 'kid', 2525: 'foot', 2526: 'touches', 2527: 'indulging', 2528: 'waves', 2529: 'starters', 2530: 'reflexology', 2531: 'cooperative', 2532: 'twin', 2533: 'recreational', 2534: 'ovalekar', 2535: 'retro', 2536: 'split', 2537: 'characteristics', 2538: 'devi', 2539: 'emerged', 2540: 'contented', 2541: 'coach', 2542: 'caf', 2543: 'nation', 2544: 'tails', 2545: 'focuses', 2546: 'interior', 2547: 'weekends', 2548: 'please', 2549: 'oct', 2550: 'tantalizing', 2551: 'counted', 2552: 'damodar', 2553: 'pleasurable', 2554: 'parts', 2555: 'relief', 2556: 'festooned', 2557: 'supportive', 2558: 'treating', 2559: 'renaissance', 2560: 'discomfort', 2561: 'cheaper', 2562: 'ola', 2563: 'linking', 2564: 'una', 2565: 'cellar', 2566: 'caters', 2567: 'layout', 2568: 'sundays', 2569: 'rei', 2570: 'risotto', 2571: 'dining', 2572: 'bird', 2573: 'bullock', 2574: 'florys', 2575: 'adequate', 2576: 'unlike', 2577: 'kalacha', 2578: 'intimate', 2579: 'birders', 2580: 'home', 2581: 'ports', 2582: 'lush', 2583: 'seascape', 2584: 'party', 2585: 'ultra', 2586: 'following', 2587: 'inspired', 2588: 'eyes', 2589: 'avails', 2590: 'getaway', 2591: 'mind', 2592: 'blue', 2593: 'four', 2594: 'sustainable', 2595: 'wardrobe', 2596: 'assuring', 2597: 'ferns', 2598: 'conception', 2599: 'linens', 2600: 'unisex', 2601: 'villagio', 2602: 'pousada', 2603: 'spotting', 2604: 'cpsi', 2605: 'lures', 2606: 'juhu', 2607: 'mc', 2608: 'aviva', 2609: 'disturbance', 2610: 'stocks', 2611: 'beachfront', 2612: 'chakrika', 2613: 'edc', 2614: 'quite', 2615: 'pritam', 2616: 'canaguinim', 2617: 'aithi', 2618: 'dreamhome', 2619: 'moshes', 2620: 'presidential', 2621: 'promiscuous', 2622: 'chhatrapati', 2623: 'treated', 2624: 'neelams', 2625: 'beautifully', 2626: 'lazy', 2627: 'lunches', 2628: 'ace', 2629: 'emerging', 2630: 'homey', 2631: 'facsimile', 2632: 'mangrove', 2633: 'maintained', 2634: 'availablecheck', 2635: 'malaysian', 2636: 'nearby', 2637: 'exorbitant', 2638: 'hillocks', 2639: 'chapel', 2640: 'challenge', 2641: 'conditions', 2642: 'universe', 2643: 'luxury', 2644: 'exterior', 2645: 'caramel', 2646: 'cosma', 2647: 'artists', 2648: 'technology', 2649: 'castles', 2650: 'fortifies', 2651: 'avenue', 2652: 'eclectic', 2653: 'truly', 2654: 'encore', 2655: 'polem', 2656: 'arvalam', 2657: 'brewed', 2658: 'philosophies', 2659: 'living', 2660: 'shamiyana', 2661: 'willing', 2662: 'traditions', 2663: 'northern', 2664: 'camp', 2665: 'salt', 2666: 'nirvana', 2667: 'vasco', 2668: 'normal', 2669: 'elements', 2670: 'henrys', 2671: 'weh', 2672: 'talent', 2673: 'comfort', 2674: 'ruins', 2675: 'adds', 2676: 'part', 2677: 'keen', 2678: 'connecting', 2679: 'daffodils', 2680: 'cuts', 2681: 'olive', 2682: 'iron', 2683: 'ville', 2684: 'museums', 2685: 'loungers', 2686: 'gare', 2687: 'spot', 2688: 'cxscape', 2689: 'mini', 2690: 'balaji', 2691: 'specialise', 2692: 'hallmark', 2693: 'maria', 2694: 'animal', 2695: 'manikgad', 2696: 'stupendous', 2697: 'people', 2698: 'pans', 2699: 'shoeshine', 2700: 'flex', 2701: 'mary', 2702: 'crowded', 2703: 'retractable', 2704: 'quietly', 2705: 'guard', 2706: 'dates', 2707: 'experience', 2708: 'super', 2709: 'elementary', 2710: 'retain', 2711: 'zone', 2712: 'sandwiches', 2713: 'frightened', 2714: 'shape', 2715: 'ccd', 2716: 'planned', 2717: 'bicycles', 2718: 'encompasses', 2719: 'amthane', 2720: 'everything', 2721: 'westin', 2722: 'spotless', 2723: 'disco', 2724: 'cum', 2725: 'history', 2726: 'rajbag', 2727: 'worlds', 2728: 'tastes', 2729: 'mugs', 2730: 'marvelous', 2731: 'secretarial', 2732: 'kunkalikarin', 2733: 'remarkable', 2734: 'resto', 2735: 'svelton', 2736: 'remote', 2737: 'note', 2738: 'vivacious', 2739: 'rejuvenating', 2740: 'tucked', 2741: 'dedicated', 2742: 'baskets', 2743: 'plateful', 2744: 'sculptures', 2745: 'activity', 2746: 'sensation', 2747: 'unit', 2748: 'inn', 2749: 'socialize', 2750: 'ingredient', 2751: 'toaster', 2752: 'surely', 2753: 'mati', 2754: 'naval', 2755: 'huge', 2756: 'rice', 2757: 'lakshmi', 2758: 'colors', 2759: 'pampering', 2760: 'baithak', 2761: 'selected', 2762: 'razor', 2763: 'refrigerators', 2764: 'agreement', 2765: 'villas', 2766: 'radiating', 2767: 'premises', 2768: 'aquarius', 2769: 'short', 2770: 'valet', 2771: 'hairdryer', 2772: 'serve', 2773: 'centerlifthandicap', 2774: 'fi', 2775: 'attentive', 2776: 'aroma', 2777: 'township', 2778: 'cooks', 2779: 'cinematic', 2780: 'multicusine', 2781: 'video', 2782: 'never', 2783: 'basic', 2784: 'samira', 2785: 'hollant', 2786: 'apts', 2787: 'cultures', 2788: 'raves', 2789: 'nakshatra', 2790: 'rendered', 2791: 'atmosphere', 2792: 'hostel', 2793: 'kadamba', 2794: 'membership', 2795: 'medical', 2796: 'enormous', 2797: 'rainforest', 2798: 'dream', 2799: 'casual', 2800: 'susegad', 2801: 'edapally', 2802: 'singh', 2803: 'limited', 2804: 'bag', 2805: 'practicing', 2806: 'wealth', 2807: 'paddy', 2808: 'cater', 2809: 'konark', 2810: 'mentioning', 2811: 'renewable', 2812: 'wrenching', 2813: 'said', 2814: 'glimpse', 2815: 'lokhandwala', 2816: 'moksh', 2817: 'urba', 2818: 'libra', 2819: 'adil', 2820: 'sofas', 2821: 'abled', 2822: 'pieces', 2823: 'rnb', 2824: 'whirl', 2825: 'reflected', 2826: 'popularly', 2827: 'pictures', 2828: 'gentle', 2829: 'cots', 2830: 'fauna', 2831: 'nice', 2832: 'yarns', 2833: 'dam', 2834: 'lively', 2835: 'finger', 2836: 'conditioned', 2837: 'witnesses', 2838: 'electrifying', 2839: 'obscure', 2840: 'similarly', 2841: 'customers', 2842: 'boutique', 2843: 'sodder', 2844: 'alive', 2845: 'celebrations', 2846: 'direct', 2847: 'kind', 2848: 'eviva', 2849: 'shraddha', 2850: 'transporting', 2851: 'predict', 2852: 'ali', 2853: 'gcc', 2854: 'baywalk', 2855: 'vision', 2856: 'large', 2857: 'bhojan', 2858: 'follows', 2859: 'lavishly', 2860: 'offered', 2861: 'mtr', 2862: 'gluten', 2863: 'marinha', 2864: 'purpose', 2865: 'happy', 2866: 'gauravaddo', 2867: 'frost', 2868: 'overlaid', 2869: 'welcoming', 2870: 'species', 2871: 'expensive', 2872: 'veera', 2873: 'entertains', 2874: 'controlled', 2875: 'spiral', 2876: 'tavern', 2877: 'needs', 2878: 'unesco', 2879: 'fire', 2880: 'lover', 2881: 'enhanced', 2882: 'lad', 2883: 'timings', 2884: 'healthy', 2885: 'specific', 2886: 'bonaventure', 2887: 'reach', 2888: 'door', 2889: 'whim', 2890: 'waste', 2891: 'aqua', 2892: 'bela', 2893: 'driver', 2894: 'collecting', 2895: 'accommodates', 2896: 'hotel', 2897: 'kinara', 2898: 'rentals', 2899: 'parleshwar', 2900: 'brand', 2901: 'liberty', 2902: 'cottage', 2903: 'gadeshwar', 2904: 'vitality', 2905: 'thousands', 2906: 'whereas', 2907: 'duration', 2908: 'big', 2909: 'manoshanti', 2910: 'urban', 2911: 'smallest', 2912: 'focus', 2913: 'roofs', 2914: 'cubicles', 2915: 'mandrem', 2916: 'arrange', 2917: 'needed', 2918: 'reservations', 2919: 'pantry', 2920: 'cooper', 2921: 'treatment', 2922: 'soul', 2923: 'spent', 2924: 'maharashtra', 2925: 'jyotiba', 2926: 'ori', 2927: 'sydewok', 2928: 'aldona', 2929: 'saphire', 2930: 'pollution', 2931: 'panoramic', 2932: 'foothills', 2933: 'swastik', 2934: 'efficiency', 2935: 'toiletaries', 2936: 'earnest', 2937: 'rests', 2938: 'degrees', 2939: 'lawande', 2940: 'partnership', 2941: 'bnb', 2942: 'strip', 2943: 'pleasures', 2944: 'ang', 2945: 'elephanta', 2946: 'westwind', 2947: 'distinct', 2948: 'conveniently', 2949: 'cinemas', 2950: 'patto', 2951: 'swing', 2952: 'chauffeur', 2953: 'lungi', 2954: 'organized', 2955: 'operative', 2956: 'bean', 2957: 'resort', 2958: 'lip', 2959: 'capital', 2960: 'nutrients', 2961: 'routed', 2962: 'offerings', 2963: 'iconic', 2964: 'weighing', 2965: 'bukhara', 2966: 'omr', 2967: 'florida', 2968: 'reside', 2969: 'mahindra', 2970: 'sports', 2971: 'wine', 2972: 'accord', 2973: 'swimming', 2974: 'liquor', 2975: 'chicken', 2976: 'goes', 2977: 'breeze', 2978: 'paguer', 2979: 'toff', 2980: 'terra', 2981: 'operates', 2982: 'flute', 2983: 'mayura', 2984: 'matters', 2985: 'dentist', 2986: 'concierge', 2987: 'fireplace', 2988: 'reasonable', 2989: 'accommodations', 2990: 'palolem', 2991: 'eaters', 2992: 'ending', 2993: 'leather', 2994: 'barbequed', 2995: 'cream', 2996: 'village', 2997: 'legend', 2998: 'manvins', 2999: 'sq', 3000: 'jogging', 3001: 'amazing', 3002: 'wherein', 3003: 'twenty', 3004: 'policies', 3005: 'socialising', 3006: 'flowing', 3007: 'wear', 3008: 'kettles', 3009: 'infused', 3010: 'rezos', 3011: 'matiere', 3012: 'restaurant', 3013: 'covered', 3014: 'weddings', 3015: 'nested', 3016: 'cordial', 3017: 'eastern', 3018: 'leaf', 3019: 'girgaum', 3020: 'sohum', 3021: 'ravana', 3022: 'arrives', 3023: 'moon', 3024: 'gas', 3025: 'cup', 3026: 'permanent', 3027: 'wheelchair', 3028: 'workouts', 3029: 'type', 3030: 'millesime', 3031: 'glassware', 3032: 'la', 3033: 'betelnut', 3034: 'kada', 3035: 'shakti', 3036: 'earned', 3037: 'panchratna', 3038: 'dreams', 3039: 'liveliness', 3040: 'marketplace', 3041: 'pond', 3042: 'gourmet', 3043: 'witness', 3044: 'standalone', 3045: 'stylist', 3046: 'grooved', 3047: 'safira', 3048: 'carom', 3049: 'tide', 3050: 'servant', 3051: 'multiethnic', 3052: 'infotech', 3053: 'artwork', 3054: 'cathedral', 3055: 'shampoos', 3056: 'furnishings', 3057: 'book', 3058: 'boasts', 3059: 'guesthouse', 3060: 'though', 3061: 'eighteen', 3062: 'shiva', 3063: 'ag', 3064: 'onwards', 3065: 'bloom', 3066: 'captured', 3067: 'queen', 3068: 'sky', 3069: 'furthermore', 3070: 'pub', 3071: 'bio', 3072: 'declared', 3073: 'lifestyles', 3074: 'beleza', 3075: 'zaffran', 3076: 'barracuda', 3077: 'clear', 3078: 'expression', 3079: 'renters', 3080: 'visitor', 3081: 'freshest', 3082: 'conditioning', 3083: 'estadia', 3084: 'incredible', 3085: 'barely', 3086: 'headed', 3087: 'abounds', 3088: 'datta', 3089: 'privacy', 3090: 'surya', 3091: 'encased', 3092: 'krishna', 3093: 'un', 3094: 'trail', 3095: 'restro', 3096: 'fatrade', 3097: 'feel', 3098: 'joie', 3099: 'ayurveda', 3100: 'look', 3101: 'backyard', 3102: 'meters', 3103: 'poison', 3104: 'govandi', 3105: 'fax', 3106: 'pondicherry', 3107: 'regenta', 3108: 'railways', 3109: 'migrants', 3110: 'kalp', 3111: 'girls', 3112: 'logitech', 3113: 'mumbaiinternational', 3114: 'divided', 3115: 'savvy', 3116: 'neighbouring', 3117: 'scooter', 3118: 'bedded', 3119: 'dialing', 3120: 'areal', 3121: 'varieties', 3122: 'ave', 3123: 'karjat', 3124: 'chavana', 3125: 'chaudi', 3126: 'joecons', 3127: 'helping', 3128: 'indian', 3129: 'era', 3130: 'pipe', 3131: 'hospitals', 3132: 'regal', 3133: 'painted', 3134: 'rising', 3135: 'romantic', 3136: 'actually', 3137: 'pampered', 3138: 'birds', 3139: 'rush', 3140: 'drying', 3141: 'canacona', 3142: 'luxrious', 3143: 'little', 3144: 'notable', 3145: 'furnishing', 3146: 'candle', 3147: 'fabulously', 3148: 'punjab', 3149: 'visiting', 3150: 'casino', 3151: 'tulip', 3152: 'panjabi', 3153: 'winter', 3154: 'forts', 3155: 'beat', 3156: 'geysers', 3157: 'beacho', 3158: 'bedside', 3159: 'wishes', 3160: 'arc', 3161: 'vegetables', 3162: 'ecologically', 3163: 'impressive', 3164: 'cctv', 3165: 'gurudwara', 3166: 'cases', 3167: 'null', 3168: 'interactive', 3169: 'turkish', 3170: 'cavelossim', 3171: 'tariff', 3172: 'ahdheri', 3173: 'buying', 3174: 'reflecting', 3175: 'infinite', 3176: 'lila', 3177: 'riverside', 3178: 'protected', 3179: 'fountain', 3180: 'stories', 3181: 'thanes', 3182: 'slow', 3183: 'personalised', 3184: 'interiors', 3185: 'cute', 3186: 'detailing', 3187: 'carlson', 3188: 'machine', 3189: 'calipso', 3190: 'propounds', 3191: 'gulmurg', 3192: 'relive', 3193: 'way', 3194: 'salsette', 3195: 'tripthrill', 3196: 'owner', 3197: 'comprising', 3198: 'makes', 3199: 'create', 3200: 'nidhi', 3201: 'murbad', 3202: 'massages', 3203: 'left', 3204: 'theme', 3205: 'drawn', 3206: 'leela', 3207: 'trends', 3208: 'suitability', 3209: 'connected', 3210: 'vajreshwari', 3211: 'widely', 3212: 'daborlim', 3213: 'attention', 3214: 'madgon', 3215: 'tourists', 3216: 'spreads', 3217: 'embark', 3218: 'ashir', 3219: 'settled', 3220: 'sandwich', 3221: 'shoppers', 3222: 'concerts', 3223: 'complimentary', 3224: 'tickle', 3225: 'service', 3226: 'attend', 3227: 'centrally', 3228: 'uncompromising', 3229: 'hiring', 3230: 'whence', 3231: 'ayurvedic', 3232: 'saunsthan', 3233: 'trekking', 3234: 'ad', 3235: 'heading', 3236: 'shant', 3237: 'till', 3238: 'arrangements', 3239: 'illusions', 3240: 'establishments', 3241: 'gunas', 3242: 'dj', 3243: 'millions', 3244: 'resplendent', 3245: 'presence', 3246: 'everest', 3247: 'eco', 3248: 'depot', 3249: 'rivers', 3250: 'rental', 3251: 'selves', 3252: 'merging', 3253: 'waterfalls', 3254: 'overlook', 3255: 'lovely', 3256: 'dy', 3257: 'straw', 3258: 'epicures', 3259: 'considering', 3260: 'dourada', 3261: 'annexe', 3262: 'includes', 3263: 'titto', 3264: 'swapna', 3265: 'homestay', 3266: 'tonic', 3267: 'dinner', 3268: 'spice', 3269: 'selection', 3270: 'fern', 3271: 'yeoor', 3272: 'spending', 3273: 'stationa', 3274: 'poised', 3275: 'lakes', 3276: 'santacruz', 3277: 'foreign', 3278: 'paris', 3279: 'robert', 3280: 'acres', 3281: 'coast', 3282: 'pet', 3283: 'fondue', 3284: 'mostly', 3285: 'infirm', 3286: 'fresco', 3287: 'programmes', 3288: 'entitles', 3289: 'stock', 3290: 'government', 3291: 'etc', 3292: 'acceptance', 3293: 'meets', 3294: 'sakinaka', 3295: 'named', 3296: 'radius', 3297: 'tailor', 3298: 'cycling', 3299: 'bonding', 3300: 'peepal', 3301: 'harmonic', 3302: 'convienence', 3303: 'cricket', 3304: 'busiest', 3305: 'turbhe', 3306: 'want', 3307: 'lucky', 3308: 'abbott', 3309: 'paleolm', 3310: 'populous', 3311: 'lava', 3312: 'offices', 3313: 'delta', 3314: 'liz', 3315: 'classy', 3316: 'charismatic', 3317: 'vaio', 3318: 'rgit', 3319: 'emergencies', 3320: 'roughly', 3321: 'touristy', 3322: 'sized', 3323: 'japanese', 3324: 'revelling', 3325: 'sai', 3326: 'compound', 3327: 'photocopy', 3328: 'kizhi', 3329: 'chess', 3330: 'snooker', 3331: 'sweet', 3332: 'irresistible', 3333: 'thomas', 3334: 'plays', 3335: 'housekeeping', 3336: 'mp', 3337: 'railheads', 3338: 'middle', 3339: 'wink', 3340: 'honeymooners', 3341: 'surround', 3342: 'older', 3343: 'fulfills', 3344: 'bianca', 3345: 'events', 3346: 'arvalem', 3347: 'vishnudas', 3348: 'tooth', 3349: 'cheerful', 3350: 'madgoan', 3351: 'jazz', 3352: 'country', 3353: 'herb', 3354: 'cuisine', 3355: 'find', 3356: 'versova', 3357: 'seashell', 3358: 'views', 3359: 'cow', 3360: 'exhilarating', 3361: 'dressing', 3362: 'hearts', 3363: 'schooner', 3364: 'oodles', 3365: 'fluctuation', 3366: 'digestable', 3367: 'tamas', 3368: 'altered', 3369: 'nat', 3370: 'weekend', 3371: 'kalanagar', 3372: 'mellorosa', 3373: 'lucio', 3374: 'excellently', 3375: 'reading', 3376: 'beginners', 3377: 'transition', 3378: 'guru', 3379: 'rarely', 3380: 'bathtub', 3381: 'wonders', 3382: 'lake', 3383: 'wining', 3384: 'regent', 3385: 'craving', 3386: 'beaches', 3387: 'seminary', 3388: 'preparations', 3389: 'issue', 3390: 'flamingo', 3391: 'nelmar', 3392: 'came', 3393: 'vaidya', 3394: 'dandarim', 3395: 'cooker', 3396: 'sample', 3397: 'houseboats', 3398: 'psychologically', 3399: 'nick', 3400: 'paying', 3401: 'serves', 3402: 'thanks', 3403: 'affordable', 3404: 'pathway', 3405: 'concoction', 3406: 'air', 3407: 'official', 3408: 'thome', 3409: 'computer', 3410: 'kitchenette', 3411: 'region', 3412: 'reclamation', 3413: 'zuari', 3414: 'festivity', 3415: 'rome', 3416: 'spell', 3417: 'discover', 3418: 'opp', 3419: 'alcove', 3420: 'quality', 3421: 'enclosed', 3422: 'side', 3423: 'prepared', 3424: 'ladies', 3425: 'clean', 3426: 'tilak', 3427: 'pritams', 3428: 'sites', 3429: 'castle', 3430: 'sleeping', 3431: 'sinquierim', 3432: 'sanchi', 3433: 'search', 3434: 'bhau', 3435: 'caretakers', 3436: 'therefore', 3437: 'guests', 3438: 'freedom', 3439: 'nostradamus', 3440: 'appropriate', 3441: 'english', 3442: 'mood', 3443: 'ecological', 3444: 'pavilion', 3445: 'cruise', 3446: 'kandivali', 3447: 'wishing', 3448: 'performances', 3449: 'pao', 3450: 'flags', 3451: 'mingle', 3452: 'yoga', 3453: 'experienced', 3454: 'september', 3455: 'pilana', 3456: 'roms', 3457: 'cola', 3458: 'mayflower', 3459: 'maroon', 3460: 'surf', 3461: 'necessities', 3462: 'foodie', 3463: 'simpler', 3464: 'gets', 3465: 'bunglows', 3466: 'churches', 3467: 'move', 3468: 'dwelling', 3469: 'separately', 3470: 'bowling', 3471: 'washing', 3472: 'attended', 3473: 'mixture', 3474: 'resonate', 3475: 'de', 3476: 'calcutta', 3477: 'instant', 3478: 'pasta', 3479: 'something', 3480: 'general', 3481: 'broken', 3482: 'nationalities', 3483: 'wall', 3484: 'practices', 3485: 'conditioners', 3486: 'cosiness', 3487: 'frames', 3488: 'belle', 3489: 'marv', 3490: 'sights', 3491: 'resturants', 3492: 'personal', 3493: 'mount', 3494: 'bargain', 3495: 'planning', 3496: 'toiletriesthe', 3497: 'calm', 3498: 'books', 3499: 'architecture', 3500: 'allow', 3501: 'compounded', 3502: 'employees', 3503: 'blu', 3504: 'vailakanni', 3505: 'support', 3506: 'massage', 3507: 'ajoy', 3508: 'week', 3509: 'malls', 3510: 'sattva', 3511: 'plethora', 3512: 'ecstatically', 3513: 'sound', 3514: 'welcome', 3515: 'brimming', 3516: 'corners', 3517: 'benaulim', 3518: 'savoi', 3519: 'tantalise', 3520: 'minutes', 3521: 'scale', 3522: 'scenic', 3523: 'warm', 3524: 'areas', 3525: 'thrilling', 3526: 'urbanism', 3527: 'themes', 3528: 'family', 3529: 'physically', 3530: 'appartment', 3531: 'saiesh', 3532: 'nature', 3533: 'gladly', 3534: 'estrela', 3535: 'must', 3536: 'combining', 3537: 'verdant', 3538: 'soak', 3539: 'talpona', 3540: 'plus', 3541: 'alcoholic', 3542: 'shops', 3543: 'vast', 3544: 'frequently', 3545: 'corporation', 3546: 'aquarium', 3547: 'standards', 3548: 'devaaya', 3549: 'lite', 3550: 'distributed', 3551: 'gratification', 3552: 'religious', 3553: 'bases', 3554: 'reference', 3555: 'court', 3556: 'serene', 3557: 'pune', 3558: 'cinnamon', 3559: 'depo', 3560: 'helps', 3561: 'backdrop', 3562: 'cooking', 3563: 'alina', 3564: 'facilityinternet', 3565: 'local', 3566: 'staple', 3567: 'cruz', 3568: 'reserved', 3569: 'vastu', 3570: 'vrindavan', 3571: 'holistic', 3572: 'roundcube', 3573: 'availing', 3574: 'costa', 3575: 'tranquility', 3576: 'bedroom', 3577: 'artefact', 3578: 'writing', 3579: 'aims', 3580: 'hanging', 3581: 'affordability', 3582: 'shooters', 3583: 'accordingly', 3584: 'strategically', 3585: 'worships', 3586: 'facets', 3587: 'mortal', 3588: 'sarafa', 3589: 'sharing', 3590: 'pressure', 3591: 'retire', 3592: 'refreshing', 3593: 'offers', 3594: 'larger', 3595: 'mapuche', 3596: 'tubs', 3597: 'tv', 3598: 'chapora', 3599: 'dadasaheb', 3600: 'silken', 3601: 'assistant', 3602: 'printing', 3603: 'slum', 3604: 'sushi', 3605: 'remarkably', 3606: 'tents', 3607: 'toro', 3608: 'remains', 3609: 'saligao', 3610: 'holidaymaker', 3611: 'seated', 3612: 'milieu', 3613: 'handi', 3614: 'literally', 3615: 'colva', 3616: 'mulund', 3617: 'eagle', 3618: 'promised', 3619: 'visits', 3620: 'dudhsagar', 3621: 'celebotary', 3622: 'price', 3623: 'sampled', 3624: 'pals', 3625: 'cosmos', 3626: 'preferences', 3627: 'boomerang', 3628: 'photocopier', 3629: 'opposite', 3630: 'gadgets', 3631: 'rk', 3632: 'whispering', 3633: 'show', 3634: 'conservatory', 3635: 'vantage', 3636: 'narrow', 3637: 'distanced', 3638: 'satvaa', 3639: 'lines', 3640: 'homes', 3641: 'select', 3642: 'amusement', 3643: 'cleanliness', 3644: 'upto', 3645: 'already', 3646: 'dhaam', 3647: 'osborne', 3648: 'ganapati', 3649: 'unspoilt', 3650: 'sketch', 3651: 'looking', 3652: 'spoils', 3653: 'included', 3654: 'sri', 3655: 'attributes', 3656: 'mist', 3657: 'historic', 3658: 'peoples', 3659: 'offering', 3660: 'allows', 3661: 'bask', 3662: 'switched', 3663: 'clients', 3664: 'occupying', 3665: 'aromatherapy', 3666: 'sunsets', 3667: 'plush', 3668: 'pragati', 3669: 'rejoice', 3670: 'lpg', 3671: 'throbbing', 3672: 'greet', 3673: 'range', 3674: 'reception', 3675: 'constitutes', 3676: 'paragliding', 3677: 'melt', 3678: 'combined', 3679: 'sauces', 3680: 'leoney', 3681: 'mystique', 3682: 'colours', 3683: 'guarding', 3684: 'kerela', 3685: 'cloths', 3686: 'cylinder', 3687: 'respectively', 3688: 'gorai', 3689: 'sunbathe', 3690: 'running', 3691: 'expedition', 3692: 'sassoon', 3693: 'magnet', 3694: 'granpas', 3695: 'elaborately', 3696: 'ramada', 3697: 'becahes', 3698: 'villa', 3699: 'yellow', 3700: 'ring', 3701: 'standard', 3702: 'bassein', 3703: 'flavorsome', 3704: 'directly', 3705: 'wldlife', 3706: 'relieve', 3707: 'dark', 3708: 'learn', 3709: 'remain', 3710: 'castella', 3711: 'prerequisite', 3712: 'locality', 3713: 'tambdi', 3714: 'unobtrusive', 3715: 'fig', 3716: 'wings', 3717: 'kalamboli', 3718: 'shaving', 3719: 'morjim', 3720: 'heat', 3721: 'rangoli', 3722: 'glass', 3723: 'chemist', 3724: 'successful', 3725: 'chic', 3726: 'prasanna', 3727: 'lives', 3728: 'rays', 3729: 'occupancy', 3730: 'physical', 3731: 'pleasure', 3732: 'mixed', 3733: 'outside', 3734: 'awaken', 3735: 'spirited', 3736: 'bands', 3737: 'jyran', 3738: 'opportunities', 3739: 'budgets', 3740: 'calangute', 3741: 'compact', 3742: 'shopping', 3743: 'impress', 3744: 'jasminn', 3745: 'augmenting', 3746: 'orderly', 3747: 'th', 3748: 'counter', 3749: 'smaller', 3750: 'camelot', 3751: 'remember', 3752: 'unobstructed', 3753: 'relished', 3754: 'rafting', 3755: 'locations', 3756: 'cleaning', 3757: 'nd', 3758: 'sarita', 3759: 'knack', 3760: 'panaji', 3761: 'music', 3762: 'sholinganallur', 3763: 'mouthwatering', 3764: 'chor', 3765: 'option', 3766: 'mosaic', 3767: 'challenged', 3768: 'contributes', 3769: 'prefer', 3770: 'highlights', 3771: 'could', 3772: 'old', 3773: 'rishi', 3774: 'combines', 3775: 'grocery', 3776: 'morod', 3777: 'lodgers', 3778: 'facilitates', 3779: 'volleyball', 3780: 'cab', 3781: 'bikerider', 3782: 'misquita', 3783: 'northgoa', 3784: 'revealing', 3785: 'saritas', 3786: 'vivo', 3787: 'traveller', 3788: 'pure', 3789: 'doctors', 3790: 'alibaugh', 3791: 'destinations', 3792: 'possibility', 3793: 'tour', 3794: 'indulgence', 3795: 'year', 3796: 'ashtavinayak', 3797: 'pernem', 3798: 'caused', 3799: 'essence', 3800: 'rod', 3801: 'grapevine', 3802: 'turned', 3803: 'football', 3804: 'intervals', 3805: 'vishram', 3806: 'band', 3807: 'municipal', 3808: 'dvd', 3809: 'zense', 3810: 'grand', 3811: 'sodders', 3812: 'privileged', 3813: 'chairs', 3814: 'breads', 3815: 'suncity', 3816: 'commissioned', 3817: 'hired', 3818: 'palates', 3819: 'review', 3820: 'everyone', 3821: 'sides', 3822: 'paras', 3823: 'seepz', 3824: 'acclaimed', 3825: 'office', 3826: 'carmona', 3827: 'dreamy', 3828: 'gated', 3829: 'invigorating', 3830: 'sinquerim', 3831: 'dusting', 3832: 'arranging', 3833: 'differentiating', 3834: 'address', 3835: 'seva', 3836: 'hang', 3837: 'birdwatching', 3838: 'leave', 3839: 'extends', 3840: 'programme', 3841: 'colv', 3842: 'tastefully', 3843: 'rejuvenates', 3844: 'done', 3845: 'relaxation', 3846: 'pukht', 3847: 'sheesha', 3848: 'october', 3849: 'pre', 3850: 'atm', 3851: 'traditional', 3852: 'mandovi', 3853: 'rates', 3854: 'terminus', 3855: 'painstakingly', 3856: 'enjoys', 3857: 'enjoyment', 3858: 'spicy', 3859: 'sugar', 3860: 'baggage', 3861: 'packages', 3862: 'renonwed', 3863: 'agoda', 3864: 'breakfast', 3865: 'flexible', 3866: 'indulgences', 3867: 'andher', 3868: 'clova', 3869: 'tangerine', 3870: 'comfortable', 3871: 'narrates', 3872: 'bahri', 3873: 'baptist', 3874: 'carpet', 3875: 'solemn', 3876: 'cheer', 3877: 'features', 3878: 'hrs', 3879: 'according', 3880: 'beaming', 3881: 'center', 3882: 'reasonably', 3883: 'desserts', 3884: 'bukhari', 3885: 'owned', 3886: 'bus', 3887: 'marked', 3888: 'discotheque', 3889: 'choose', 3890: 'chargeable', 3891: 'together', 3892: 'greek', 3893: 'exemplary', 3894: 'proven', 3895: 'simple', 3896: 'generously', 3897: 'solace', 3898: 'ease', 3899: 'petrol', 3900: 'testament', 3901: 'trying', 3902: 'artifact', 3903: 'thick', 3904: 'lining', 3905: 'mumbai', 3906: 'bound', 3907: 'freshly', 3908: 'kala', 3909: 'single', 3910: 'segregation', 3911: 'runs', 3912: 'coqueiral', 3913: 'vacationers', 3914: 'harry', 3915: 'boulevard', 3916: 'provision', 3917: 'buildings', 3918: 'coco', 3919: 'aiport', 3920: 'prominent', 3921: 'customised', 3922: 'pack', 3923: 'iris', 3924: 'cubana', 3925: 'hyatt', 3926: 'summer', 3927: 'balcony', 3928: 'bolcao', 3929: 'italian', 3930: 'flora', 3931: 'hawaii', 3932: 'draw', 3933: 'readily', 3934: 'baywatch', 3935: 'basilica', 3936: 'fizz', 3937: 'km', 3938: 'casinos', 3939: 'shaheed', 3940: 'centralized', 3941: 'possess', 3942: 'placid', 3943: 'available', 3944: 'contended', 3945: 'mykonos', 3946: 'magnum', 3947: 'bunder', 3948: 'inngoa', 3949: 'richly', 3950: 'mafco', 3951: 'vuitton', 3952: 'hygiene', 3953: 'nooks', 3954: 'habitat', 3955: 'easiest', 3956: 'foster', 3957: 'holder', 3958: 'creating', 3959: 'wednesday', 3960: 'low', 3961: 'sunkissed', 3962: 'tranquillity', 3963: 'shores', 3964: 'abhyangam', 3965: 'feature', 3966: 'former', 3967: 'rajas', 3968: 'specially', 3969: 'primavera', 3970: 'piece', 3971: 'minimum', 3972: 'veer', 3973: 'karim', 3974: 'magazines', 3975: 'resorted', 3976: 'strolled', 3977: 'definitely', 3978: 'sangolda', 3979: 'lend', 3980: 'accommodate', 3981: 'wadi', 3982: 'finance', 3983: 'gives', 3984: 'hiranandani', 3985: 'fruit', 3986: 'palatial', 3987: 'ample', 3988: 'ness', 3989: 'wake', 3990: 'confectioneries', 3991: 'michael', 3992: 'conversations', 3993: 'longer', 3994: 'baths', 3995: 'promising', 3996: 'facade', 3997: 'eight', 3998: 'nsc', 3999: 'bom', 4000: 'burner', 4001: 'ever', 4002: 'properly', 4003: 'limits', 4004: 'assures', 4005: 'favourably', 4006: 'backwaters', 4007: 'cross', 4008: 'chatrapati', 4009: 'recreates', 4010: 'maintain', 4011: 'latino', 4012: 'atlantic', 4013: 'clothes', 4014: 'dinnerware', 4015: 'ensuite', 4016: 'working', 4017: 'bathrooms', 4018: 'palettes', 4019: 'ekta', 4020: 'plan', 4021: 'strong', 4022: 'togethers', 4023: 'mhadei', 4024: 'adults', 4025: 'miroslav', 4026: 'kilometer', 4027: 'individuals', 4028: 'fourth', 4029: 'talcum', 4030: 'haji', 4031: 'interview', 4032: 'long', 4033: 'undergoing', 4034: 'reigns', 4035: 'cozinha', 4036: 'wardrobes', 4037: 'caves', 4038: 'typically', 4039: 'ceilings', 4040: 'mundane', 4041: 'galjibaga', 4042: 'graced', 4043: 'changing', 4044: 'studio', 4045: 'outdoor', 4046: 'closeness', 4047: 'rare', 4048: 'oasis', 4049: 'enclosure', 4050: 'columbus', 4051: 'drop', 4052: 'bliss', 4053: 'credit', 4054: 'july', 4055: 'indraprastha', 4056: 'divya', 4057: 'ranges', 4058: 'lavie', 4059: 'eden', 4060: 'soaring', 4061: 'stand', 4062: 'indiana', 4063: 'fiction', 4064: 'mirage', 4065: 'multicuisine', 4066: 'scrupulously', 4067: 'powai', 4068: 'pillars', 4069: 'phoenix', 4070: 'amphitheatre', 4071: 'banganga', 4072: 'branded', 4073: 'experiences', 4074: 'concrete', 4075: 'classical', 4076: 'exudes', 4077: 'rodrigues', 4078: 'lounging', 4079: 'substantive', 4080: 'lesuire', 4081: 'myst', 4082: 'leaving', 4083: 'lined', 4084: 'soothes', 4085: 'naans', 4086: 'cotto', 4087: 'inox', 4088: 'bit', 4089: 'enables', 4090: 'facilitate', 4091: 'reachable', 4092: 'pinnacle', 4093: 'vasantashram', 4094: 'southern', 4095: 'mahogany', 4096: 'splendid', 4097: 'wash', 4098: 'numerous', 4099: 'monte', 4100: 'firm', 4101: 'president', 4102: 'formal', 4103: 'everyday', 4104: 'bathrobe', 4105: 'enchanting', 4106: 'evoking', 4107: 'control', 4108: 'din', 4109: 'pause', 4110: 'accept', 4111: 'degradable', 4112: 'generated', 4113: 'utmost', 4114: 'riverfront', 4115: 'friendly', 4116: 'sit', 4117: 'cylinders', 4118: 'change', 4119: 'delightful', 4120: 'entire', 4121: 'couches', 4122: 'notice', 4123: 'speak', 4124: 'alto', 4125: 'legant', 4126: 'incase', 4127: 'creparia', 4128: 'masseurs', 4129: 'onsite', 4130: 'narayan', 4131: 'engaging', 4132: 'grab', 4133: 'fimini', 4134: 'kilometers', 4135: 'mjs', 4136: 'stones', 4137: 'maha', 4138: 'met', 4139: 'leakage', 4140: 'love', 4141: 'cavellosim', 4142: 'spree', 4143: 'dolphin', 4144: 'close', 4145: 'alcina', 4146: 'york', 4147: 'interpretations', 4148: 'necessary', 4149: 'momentous', 4150: 'tito', 4151: 'pastries', 4152: 'camel', 4153: 'brazilia', 4154: 'specializing', 4155: 'travel', 4156: 'gujarati', 4157: 'directorate', 4158: 'sprit', 4159: 'stations', 4160: 'synagouge', 4161: 'elphinstone', 4162: 'kms', 4163: 'commute', 4164: 'venues', 4165: 'festival', 4166: 'ernesto', 4167: 'bites', 4168: 'screening', 4169: 'dental', 4170: 'maris', 4171: 'rate', 4172: 'flavour', 4173: 'blending', 4174: 'mentioned', 4175: 'developed', 4176: 'chill', 4177: 'mardol', 4178: 'mitaroy', 4179: 'pamper', 4180: 'shirodhara', 4181: 'anthony', 4182: 'gaming', 4183: 'traveler', 4184: 'girl', 4185: 'ballroom', 4186: 'playground', 4187: 'dalce', 4188: 'nishita', 4189: 'richest', 4190: 'highlighting', 4191: 'guruvayurappan', 4192: 'en', 4193: 'styles', 4194: 'celestial', 4195: 'providers', 4196: 'dish', 4197: 'authentic', 4198: 'omega', 4199: 'roar', 4200: 'kristal', 4201: 'nora', 4202: 'save', 4203: 'khar', 4204: 'orient', 4205: 'creek', 4206: 'mermaid', 4207: 'sussegado', 4208: 'knick', 4209: 'news', 4210: 'divergent', 4211: 'rejuvenated', 4212: 'shangrila', 4213: 'retreat', 4214: 'arrangement', 4215: 'uncluttered', 4216: 'dior', 4217: 'flooring', 4218: 'peravel', 4219: 'plazza', 4220: 'red', 4221: 'adjoins', 4222: 'manama', 4223: 'defined', 4224: 'battery', 4225: 'quiet', 4226: 'hob', 4227: 'seamlessly', 4228: 'metro', 4229: 'grapes', 4230: 'photocopying', 4231: 'number', 4232: 'siachen', 4233: 'qualifying', 4234: 'conform', 4235: 'mmrda', 4236: 'steam', 4237: 'atith', 4238: 'noise', 4239: 'madgao', 4240: 'clarem', 4241: 'attractively', 4242: 'splurge', 4243: 'arabic', 4244: 'tubki', 4245: 'colourful', 4246: 'bucket', 4247: 'adarsh', 4248: 'separating', 4249: 'positioned', 4250: 'barc', 4251: 'european', 4252: 'shares', 4253: 'shashesca', 4254: 'bkc', 4255: 'covers', 4256: 'place', 4257: 'scrumptious', 4258: 'personality', 4259: 'activities', 4260: 'cavalcades', 4261: 'ulhasnagar', 4262: 'marine', 4263: 'vaayu', 4264: 'cabins', 4265: 'diligent', 4266: 'grandeur', 4267: 'effective', 4268: 'abroad', 4269: 'hindu', 4270: 'energising', 4271: 'oleander', 4272: 'roll', 4273: 'lies', 4274: 'stresses', 4275: 'bamboo', 4276: 'photo', 4277: 'decorated', 4278: 'meats', 4279: 'treebo', 4280: 'followed', 4281: 'film', 4282: 'pal', 4283: 'desai', 4284: 'takes', 4285: 'naturopathy', 4286: 'dum', 4287: 'per', 4288: 'patnam', 4289: 'starboard', 4290: 'clove', 4291: 'advantages', 4292: 'quiz', 4293: 'dotted', 4294: 'background', 4295: 'hour', 4296: 'slip', 4297: 'category', 4298: 'dating', 4299: 'darisa', 4300: 'luxuriance', 4301: 'urgency', 4302: 'self', 4303: 'sabina', 4304: 'walking', 4305: 'purity', 4306: 'mala', 4307: 'brabourne', 4308: 'registrar', 4309: 'disappointment', 4310: 'kebabs', 4311: 'fine', 4312: 'carte', 4313: 'daji', 4314: 'ganesh', 4315: 'cleaned', 4316: 'inlays', 4317: 'monuments', 4318: 'arnala', 4319: 'curry', 4320: 'escape', 4321: 'via', 4322: 'honeymoon', 4323: 'pathar', 4324: 'mollem', 4325: 'subway', 4326: 'babulnath', 4327: 'help', 4328: 'characteristic', 4329: 'using', 4330: 'daily', 4331: 'therapies', 4332: 'august', 4333: 'tarcar', 4334: 'bazaars', 4335: 'charge', 4336: 'waterman', 4337: 'new', 4338: 'palatable', 4339: 'sinquerium', 4340: 'environs', 4341: 'sixth', 4342: 'christ', 4343: 'rail', 4344: 'fitness', 4345: 'microphones', 4346: 'kamaki', 4347: 'renowned', 4348: 'practice', 4349: 'wildlife', 4350: 'delight', 4351: 'peer', 4352: 'hotels', 4353: 'itc', 4354: 'masjid', 4355: 'prepare', 4356: 'dilip', 4357: 'vainguinim', 4358: 'surrounded', 4359: 'still', 4360: 'exquisite', 4361: 'frontier', 4362: 'selective', 4363: 'pentacon', 4364: 'overhanging', 4365: 'memorable', 4366: 'treehouse', 4367: 'nutritious', 4368: 'jeep', 4369: 'deluxe', 4370: 'pressures', 4371: 'kerkar', 4372: 'palkhee', 4373: 'hard', 4374: 'screen', 4375: 'galleries', 4376: 'merlin', 4377: 'indoors', 4378: 'alila', 4379: 'placed', 4380: 'beautiful', 4381: 'enter', 4382: 'curtains', 4383: 'triple', 4384: 'services', 4385: 'textured', 4386: 'csi', 4387: 'income', 4388: 'narrate', 4389: 'bazaar', 4390: 'shall', 4391: 'ideal', 4392: 'encompassed', 4393: 'treadmill', 4394: 'aspects', 4395: 'product', 4396: 'vinayak', 4397: 'terracotta', 4398: 'receive', 4399: 'privilege', 4400: 'peacefulness', 4401: 'omkareshwar', 4402: 'souza', 4403: 'devasthali', 4404: 'regularly', 4405: 'kishish', 4406: 'grove', 4407: 'actuals', 4408: 'equipped', 4409: 'mahal', 4410: 'cosy', 4411: 'priced', 4412: 'lets', 4413: 'continue', 4414: 'smiley', 4415: 'elevator', 4416: 'sleep', 4417: 'meeting', 4418: 'senhor', 4419: 'selecting', 4420: 'include', 4421: 'varca', 4422: 'nominal', 4423: 'ikebana', 4424: 'cover', 4425: 'diamond', 4426: 'handicap', 4427: 'ensure', 4428: 'mins', 4429: 'philosophers', 4430: 'sunset', 4431: 'mumbra', 4432: 'cove', 4433: 'property', 4434: 'suchlike', 4435: 'thoughtful', 4436: 'next', 4437: 'showers', 4438: 'alley', 4439: 'around', 4440: 'magazine', 4441: 'vivenda', 4442: 'captivating', 4443: 'accoutrements', 4444: 'really', 4445: 'upscale', 4446: 'gymnasium', 4447: 'sarika', 4448: 'whiteboards', 4449: 'tamarind', 4450: 'featured', 4451: 'spring', 4452: 'ambience', 4453: 'kit', 4454: 'works', 4455: 'savoy', 4456: 'patio', 4457: 'always', 4458: 'incumbents', 4459: 'courteous', 4460: 'gymkhana', 4461: 'palms', 4462: 'joints', 4463: 'cosmopolitan', 4464: 'rapidly', 4465: 'revives', 4466: 'vihar', 4467: 'refresh', 4468: 'exhibits', 4469: 'elegantly', 4470: 'madh', 4471: 'azzure', 4472: 'lights', 4473: 'skin', 4474: 'jogeshwari', 4475: 'respective', 4476: 'resident', 4477: 'bottom', 4478: 'lap', 4479: 'oceana', 4480: 'effect', 4481: 'gallery', 4482: 'tourism', 4483: 'pay', 4484: 'collaboration', 4485: 'maintains', 4486: 'artistically', 4487: 'fantasy', 4488: 'arco', 4489: 'lokmanya', 4490: 'catered', 4491: 'refrigerator', 4492: 'filteration', 4493: 'marketplaces', 4494: 'hold', 4495: 'whispers', 4496: 'windows', 4497: 'seminars', 4498: 'top', 4499: 'looks', 4500: 'muscles', 4501: 'addition', 4502: 'chogam', 4503: 'behold', 4504: 'forks', 4505: 'stalls', 4506: 'loaded', 4507: 'hullabaloo', 4508: 'bonfire', 4509: 'paper', 4510: 'celini', 4511: 'votive', 4512: 'accessories', 4513: 'flavours', 4514: 'rest', 4515: 'malad', 4516: 'mates', 4517: 'margao', 4518: 'admire', 4519: 'fell', 4520: 'silver', 4521: 'aample', 4522: 'br', 4523: 'bayview', 4524: 'arossim', 4525: 'largest', 4526: 'panda', 4527: 'capricorn', 4528: 'conviences', 4529: 'intending', 4530: 'amche', 4531: 'professionals', 4532: 'tower', 4533: 'jetty', 4534: 'pristine', 4535: 'innovative', 4536: 'pastel', 4537: 'ascot', 4538: 'network', 4539: 'mushroom', 4540: 'cutlery', 4541: 'ramnath', 4542: 'factors', 4543: 'permeates', 4544: 'audio', 4545: 'cars', 4546: 'midst', 4547: 'shop', 4548: 'fort', 4549: 'implausible', 4550: 'san', 4551: 'sevas', 4552: 'appreciated', 4553: 'zegna', 4554: 'stark', 4555: 'characters', 4556: 'sorts', 4557: 'offsetting', 4558: 'shah', 4559: 'flawless', 4560: 'broom', 4561: 'ind', 4562: 'waterpark', 4563: 'conferences', 4564: 'multi', 4565: 'seaqueen', 4566: 'capacaious', 4567: 'carpeting', 4568: 'floral', 4569: 'boxes', 4570: 'trip', 4571: 'exceptionally', 4572: 'approximately', 4573: 'wonderful', 4574: 'suburb', 4575: 'lodge', 4576: 'relax', 4577: 'paparazzi', 4578: 'capped', 4579: 'chairman', 4580: 'laterite', 4581: 'neat', 4582: 'dry', 4583: 'sunaparanta', 4584: 'marina', 4585: 'tantalize', 4586: 'marshall', 4587: 'sea', 4588: 'architectural', 4589: 'refreshments', 4590: 'shake', 4591: 'pride', 4592: 'annapurna', 4593: 'calamari', 4594: 'name', 4595: 'prince', 4596: 'sol', 4597: 'rested', 4598: 'reis', 4599: 'also', 4600: 'lovers', 4601: 'blessed', 4602: 'ornate', 4603: 'endless', 4604: 'transportation', 4605: 'internet', 4606: 'inspiring', 4607: 'palhacos', 4608: 'verda', 4609: 'mounted', 4610: 'kanheri', 4611: 'places', 4612: 'trek', 4613: 'box', 4614: 'symbolizes', 4615: 'maya', 4616: 'lower', 4617: 'alfresco', 4618: 'iskcon', 4619: 'verandahs', 4620: 'played', 4621: 'pious', 4622: 'resting', 4623: 'phone', 4624: 'tub', 4625: 'domestic', 4626: 'laalegro', 4627: 'closets', 4628: 'sounds', 4629: 'library', 4630: 'meetings', 4631: 'mahalaxmi', 4632: 'bags', 4633: 'colony', 4634: 'wireless', 4635: 'fanciful', 4636: 'hilton', 4637: 'sernabatim', 4638: 'mudgaon', 4639: 'comforting', 4640: 'velha', 4641: 'landscaped', 4642: 'magos', 4643: 'british', 4644: 'surfing', 4645: 'artifacts', 4646: 'ordered', 4647: 'contain', 4648: 'loved', 4649: 'astoria', 4650: 'romance', 4651: 'stone', 4652: 'going', 4653: 'izgara', 4654: 'end', 4655: 'zest', 4656: 'flooded', 4657: 'lighthouse', 4658: 'pitched', 4659: 'junction', 4660: 'noted', 4661: 'value', 4662: 'term', 4663: 'sweets', 4664: 'nyex', 4665: 'golbal', 4666: 'century', 4667: 'viva', 4668: 'flea', 4669: 'smartly', 4670: 'block', 4671: 'nanak', 4672: 'dhaba', 4673: 'alor', 4674: 'ganga', 4675: 'dr', 4676: 'valentine', 4677: 'board', 4678: 'svaastha', 4679: 'bhaji', 4680: 'shri', 4681: 'taken', 4682: 'goods', 4683: 'esmeralda', 4684: 'toothsome', 4685: 'tiled', 4686: 'india', 4687: 'nerve', 4688: 'serenity', 4689: 'merces', 4690: 'telecom', 4691: 'gods', 4692: 'vibrant', 4693: 'immaculate', 4694: 'flowers', 4695: 'hassle', 4696: 'caprice', 4697: 'pakistan', 4698: 'bedrooms', 4699: 'bread', 4700: 'hence', 4701: 'chime', 4702: 'dav', 4703: 'gregory', 4704: 'forex', 4705: 'resorts', 4706: 'wednesdays', 4707: 'segregated', 4708: 'gardens', 4709: 'houseis', 4710: 'flow', 4711: 'octopus', 4712: 'indelible', 4713: 'action', 4714: 'mug', 4715: 'extremely', 4716: 'manthan', 4717: 'based', 4718: 'streets', 4719: 'decks', 4720: 'across', 4721: 'culturally', 4722: 'forests', 4723: 'proudly', 4724: 'attracts', 4725: 'ashwith', 4726: 'exceeding', 4727: 'haaochi', 4728: 'description', 4729: 'every', 4730: 'length', 4731: 'sailing', 4732: 'additionally', 4733: 'hospitality', 4734: 'innumerable', 4735: 'tank', 4736: 'proffers', 4737: 'melting', 4738: 'call', 4739: 'handicrafts', 4740: 'clubs', 4741: 'splendidly', 4742: 'unexplored', 4743: 'handful', 4744: 'ramee', 4745: 'gear', 4746: 'shivam', 4747: 'cloak', 4748: 'character', 4749: 'multiplexes', 4750: 'freely', 4751: 'accomodate', 4752: 'memoable', 4753: 'neighbourhood', 4754: 'pizzas', 4755: 'jain', 4756: 'higher', 4757: 'facing', 4758: 'speed', 4759: 'establishment', 4760: 'thali', 4761: 'facilites', 4762: 'larios', 4763: 'meet', 4764: 'powder', 4765: 'aura', 4766: 'flavor', 4767: 'sitting', 4768: 'shapora', 4769: 'round', 4770: 'amalgamation', 4771: 'varied', 4772: 'glory', 4773: 'bambolim', 4774: 'succegado', 4775: 'attract', 4776: 'interesting', 4777: 'metropolian', 4778: 'meals', 4779: 'sunbathing', 4780: 'celebrate', 4781: 'visa', 4782: 'contrary', 4783: 'almost', 4784: 'reguar', 4785: 'possesses', 4786: 'abode', 4787: 'martin', 4788: 'vardhman', 4789: 'border', 4790: 'natives', 4791: 'sheets', 4792: 'el', 4793: 'respite', 4794: 'airort', 4795: 'nitya', 4796: 'binding', 4797: 'bhagwati', 4798: 'covering', 4799: 'docaria', 4800: 'options', 4801: 'exclusivity', 4802: 'else', 4803: 'braganza', 4804: 'dryer', 4805: 'uniquely', 4806: 'designers', 4807: 'amantran', 4808: 'nights', 4809: 'durga', 4810: 'nero', 4811: 'export', 4812: 'daybeds', 4813: 'friends', 4814: 'excelsior', 4815: 'catherines', 4816: 'nightclubs', 4817: 'tarvernas', 4818: 'giving', 4819: 'unpretentious', 4820: 'sprawling', 4821: 'magnificent', 4822: 'satellite', 4823: 'valley', 4824: 'sourced', 4825: 'cordless', 4826: 'satisfied', 4827: 'blankets', 4828: 'used', 4829: 'jyotirlinga', 4830: 'commercial', 4831: 'visitors', 4832: 'decor', 4833: 'belt', 4834: 'connects', 4835: 'favoured', 4836: 'room', 4837: 'airoli', 4838: 'complete', 4839: 'marble', 4840: 'sharan', 4841: 'appetite', 4842: 'lanka', 4843: 'modernity', 4844: 'hubs', 4845: 'fifty', 4846: 'beso', 4847: 'backpacker', 4848: 'bhelpuri', 4849: 'ceremonies', 4850: 'lavish', 4851: 'calanguate', 4852: 'republica', 4853: 'accustomised', 4854: 'locks', 4855: 'papershower', 4856: 'upvan', 4857: 'created', 4858: 'tipplers', 4859: 'maid', 4860: 'madhavan', 4861: 'approx', 4862: 'severs', 4863: 'indeed', 4864: 'mornings', 4865: 'nahar', 4866: 'wholesome', 4867: 'preferred', 4868: 'rock', 4869: 'tastebuds', 4870: 'head', 4871: 'dadar', 4872: 'saaj', 4873: 'indulge', 4874: 'handicraft', 4875: 'nest', 4876: 'boards', 4877: 'forth', 4878: 'pan', 4879: 'mangroves', 4880: 'listed', 4881: 'availabel', 4882: 'reviews', 4883: 'portuguese', 4884: 'podium', 4885: 'hd', 4886: 'canvas', 4887: 'operational', 4888: 'third', 4889: 'retail', 4890: 'mazal', 4891: 'parkway', 4892: 'sandy', 4893: 'bq', 4894: 'gate', 4895: 'electric', 4896: 'metres', 4897: 'expereince', 4898: 'joseph', 4899: 'proceedings', 4900: 'screens', 4901: 'orchid', 4902: 'vipassana', 4903: 'dev', 4904: 'members', 4905: 'boats', 4906: 'threes', 4907: 'sharanam', 4908: 'opulent', 4909: 'coastal', 4910: 'vivek', 4911: 'catering', 4912: 'unravels', 4913: 'belly', 4914: 'tunga', 4915: 'hospitable', 4916: 'min', 4917: 'nebula', 4918: 'heirlooms', 4919: 'bondla', 4920: 'size', 4921: 'bad', 4922: 'acessible', 4923: 'exuberant', 4924: 'indo', 4925: 'courier', 4926: 'mandir', 4927: 'chandivali', 4928: 'benalium', 4929: 'plants', 4930: 'tours', 4931: 'embedded', 4932: 'baia', 4933: 'disparity', 4934: 'senso', 4935: 'drudgery', 4936: 'ensuring', 4937: 'birla', 4938: 'mehmaan', 4939: 'buffs', 4940: 'asalfa', 4941: 'immediately', 4942: 'mumbais', 4943: 'urge', 4944: 'gateway', 4945: 'itinerary', 4946: 'guidance', 4947: 'training', 4948: 'slowed', 4949: 'fans', 4950: 'glitz', 4951: 'ibis', 4952: 'amol', 4953: 'jessica', 4954: 'trippy', 4955: 'abundance', 4956: 'shrines', 4957: 'jewelry', 4958: 'mountain', 4959: 'voicemail', 4960: 'joy', 4961: 'barber', 4962: 'bhiwandi', 4963: 'gandhi', 4964: 'shastrinagar', 4965: 'vindhyas', 4966: 'transmission', 4967: 'marriot', 4968: 'coffee', 4969: 'virtue', 4970: 'ashwin', 4971: 'guards', 4972: 'lobby', 4973: 'ata', 4974: 'santa', 4975: 'aprora', 4976: 'blossom', 4977: 'immersed', 4978: 'especially', 4979: 'nandini', 4980: 'launches', 4981: 'freezing', 4982: 'washrooms', 4983: 'feni', 4984: 'pleased', 4985: 'goregaon', 4986: 'ambriosa', 4987: 'alert', 4988: 'reosrt', 4989: 'diving', 4990: 'secure', 4991: 'parcel', 4992: 'customized', 4993: 'bharat', 4994: 'lobo', 4995: 'event', 4996: 'senate', 4997: 'direction', 4998: 'commode', 4999: 'straight', 5000: 'repose', 5001: 'anchor', 5002: 'solarium', 5003: 'knots', 5004: 'hearted', 5005: 'burgers', 5006: 'finely', 5007: 'shubhangan', 5008: 'sanctuaries', 5009: 'couples', 5010: 'shows', 5011: 'decker', 5012: 'mukti', 5013: 'artificial', 5014: 'individually', 5015: 'cupboards', 5016: 'khandeshwar', 5017: 'installations', 5018: 'smart', 5019: 'zorin', 5020: 'rudra', 5021: 'replenish', 5022: 'alagoa', 5023: 'peacefully', 5024: 'ergonomic', 5025: 'kharghar', 5026: 'kalina', 5027: 'nova', 5028: 'fascinating', 5029: 'classes', 5030: 'invites', 5031: 'butler', 5032: 'pace', 5033: 'splash', 5034: 'provided', 5035: 'centers', 5036: 'fan', 5037: 'endemic', 5038: 'dishes', 5039: 'unwinding', 5040: 'nerul', 5041: 'impeccable', 5042: 'crossroads', 5043: 'wood', 5044: 'aluizio', 5045: 'pescador', 5046: 'entertaining', 5047: 'brings', 5048: 'saloon', 5049: 'liquid', 5050: 'bandra', 5051: 'helipad', 5052: 'horizon', 5053: 'spiritual', 5054: 'interests', 5055: 'keys', 5056: 'ably', 5057: 'projectors', 5058: 'numbers', 5059: 'artisan', 5060: 'palace', 5061: 'owing', 5062: 'hued', 5063: 'midnight', 5064: 'ways', 5065: 'diversified', 5066: 'wagle', 5067: 'tempting', 5068: 'da', 5069: 'poonam', 5070: 'touted', 5071: 'realms', 5072: 'combination', 5073: 'session', 5074: 'awesome', 5075: 'vikhroli', 5076: 'ones', 5077: 'alorna', 5078: 'holidaymakers', 5079: 'di', 5080: 'inhouse', 5081: 'veronica', 5082: 'jb', 5083: 'however', 5084: 'decorating', 5085: 'back', 5086: 'buffets', 5087: 'cavala', 5088: 'glamour', 5089: 'lots', 5090: 'desires', 5091: 'creatively', 5092: 'made', 5093: 'amenities', 5094: 'maison', 5095: 'gardenia', 5096: 'mani', 5097: 'rather', 5098: 'plaza', 5099: 'kitab', 5100: 'south', 5101: 'virtually', 5102: 'distance', 5103: 'lawns', 5104: 'fish', 5105: 'lodging', 5106: 'dec', 5107: 'mojo', 5108: 'kings', 5109: 'wi', 5110: 'extravagant', 5111: 'delved', 5112: 'chequered', 5113: 'monument', 5114: 'among', 5115: 'boardroom', 5116: 'vaibhav', 5117: 'lit', 5118: 'essential', 5119: 'case', 5120: 'chauffeured', 5121: 'roshini', 5122: 'span', 5123: 'many', 5124: 'undertake', 5125: 'cafe', 5126: 'seduced', 5127: 'understated', 5128: 'pazzo', 5129: 'urbane', 5130: 'embodies', 5131: 'filled', 5132: 'sereno', 5133: 'laranja', 5134: 'amey', 5135: 'world', 5136: 'kurla', 5137: 'piligrims', 5138: 'nestles', 5139: 'appealing', 5140: 'wester', 5141: 'assortment', 5142: 'cuba', 5143: 'agonda', 5144: 'groomed', 5145: 'nightlife', 5146: 'wind', 5147: 'queeny', 5148: 'vanity', 5149: 'ethnicities', 5150: 'renders', 5151: 'separable', 5152: 'dynamic', 5153: 'pebble', 5154: 'expanse', 5155: 'front', 5156: 'grazia', 5157: 'medicines', 5158: 'longest', 5159: 'quaint', 5160: 'adaptor', 5161: 'rejuve', 5162: 'lord', 5163: 'extras', 5164: 'sunita', 5165: 'st', 5166: 'inr', 5167: 'wills', 5168: 'bookings', 5169: 'patrons', 5170: 'jawaharlal', 5171: 'mumba', 5172: 'facilities', 5173: 'shine', 5174: 'chinese', 5175: 'iii', 5176: 'us', 5177: 'hq', 5178: 'ice', 5179: 'sapna', 5180: 'cocktail', 5181: 'bhk', 5182: 'differently', 5183: 'souxa', 5184: 'aids', 5185: 'build', 5186: 'kaya', 5187: 'tipple', 5188: 'lovingly', 5189: 'herbal', 5190: 'regional', 5191: 'infiniti', 5192: 'binge', 5193: 'citys', 5194: 'plant', 5195: 'fringed', 5196: 'along', 5197: 'interestingly', 5198: 'story', 5199: 'december', 5200: 'sebastian', 5201: 'toothpaste', 5202: 'chitranagri', 5203: 'materials', 5204: 'mouth', 5205: 'jio', 5206: 'olden', 5207: 'wheel', 5208: 'polite', 5209: 'nazare', 5210: 'jade', 5211: 'birdlist', 5212: 'piped', 5213: 'luxe', 5214: 'beahces', 5215: 'independent', 5216: 'identical', 5217: 'impeccably', 5218: 'seawoods', 5219: 'ritchita', 5220: 'citizen', 5221: 'nmmt', 5222: 'alternative', 5223: 'cd', 5224: 'wanderers', 5225: 'limousine', 5226: 'doctor', 5227: 'dual', 5228: 'ii', 5229: 'malts', 5230: 'feasts', 5231: 'non', 5232: 'drinks', 5233: 'awarded', 5234: 'greeneries', 5235: 'magical', 5236: 'kutir', 5237: 'asset', 5238: 'warming', 5239: 'bedding', 5240: 'tarka', 5241: 'neatly', 5242: 'weather', 5243: 'beckons', 5244: 'finally', 5245: 'fridays', 5246: 'outdoors', 5247: 'appointed', 5248: 'britto', 5249: 'freak', 5250: 'airports', 5251: 'system', 5252: 'benefits', 5253: 'moment', 5254: 'residence', 5255: 'pandav', 5256: 'tired', 5257: 'security', 5258: 'cool', 5259: 'connection', 5260: 'gathering', 5261: 'workstation', 5262: 'bby', 5263: 'construction', 5264: 'unforgettable', 5265: 'host', 5266: 'xavier', 5267: 'certain', 5268: 'degree', 5269: 'far', 5270: 'cluster', 5271: 'erangal', 5272: 'shubham', 5273: 'past', 5274: 'mar', 5275: 'sinq', 5276: 'confined', 5277: 'thus', 5278: 'seaview', 5279: 'essel', 5280: 'holding', 5281: 'herbs', 5282: 'patil', 5283: 'imposing', 5284: 'poolside', 5285: 'give', 5286: 'mall', 5287: 'alfama', 5288: 'wing', 5289: 'panorama', 5290: 'delicacies', 5291: 'maintenance', 5292: 'clock', 5293: 'health', 5294: 'except', 5295: 'tiss', 5296: 'sunshine', 5297: 'lesson', 5298: 'transport', 5299: 'reminiscent', 5300: 'yo', 5301: 'garden', 5302: 'write', 5303: 'nternet', 5304: 'compost', 5305: 'co', 5306: 'display', 5307: 'outlets', 5308: 'particular', 5309: 'hosting', 5310: 'class', 5311: 'holds', 5312: 'array', 5313: 'availble', 5314: 'bakery', 5315: 'experiencing', 5316: 'sour', 5317: 'mosque', 5318: 'perfect', 5319: 'mother', 5320: 'bounties', 5321: 'sanghralaya', 5322: 'fulfill', 5323: 'upcoming', 5324: 'erotic', 5325: 'disabled', 5326: 'nighclubs', 5327: 'ghatkopar', 5328: 'land', 5329: 'popular', 5330: 'stove', 5331: 'currency', 5332: 'santona', 5333: 'player', 5334: 'warmly', 5335: 'textural', 5336: 'wheeler', 5337: 'games', 5338: 'oxford', 5339: 'beige', 5340: 'exotica', 5341: 'minibar', 5342: 'parties', 5343: 'shelves', 5344: 'similar', 5345: 'dias', 5346: 'oriental', 5347: 'suited', 5348: 'streaming', 5349: 'united', 5350: 'toiletries', 5351: 'chilled', 5352: 'forget', 5353: 'joyfull', 5354: 'weave', 5355: 'run', 5356: 'approachable', 5357: 'ariel', 5358: 'tuskers', 5359: 'gothic', 5360: 'indoor', 5361: 'vegan', 5362: 'beacon', 5363: 'eatery', 5364: 'saves', 5365: 'john', 5366: 'easeful', 5367: 'inverter', 5368: 'crowds', 5369: 'columns', 5370: 'qunintessentially', 5371: 'globe', 5372: 'hinduja', 5373: 'developing', 5374: 'rosario', 5375: 'landscape', 5376: 'leisurely', 5377: 'sitout', 5378: 'proposes', 5379: 'fame', 5380: 'apple', 5381: 'sonesta', 5382: 'sofitel', 5383: 'favorable', 5384: 'viewing', 5385: 'ingo', 5386: 'adjacent', 5387: 'breaking', 5388: 'frangipan', 5389: 'plantations', 5390: 'negotiate', 5391: 'adi', 5392: 'sought', 5393: 'kabab', 5394: 'townhouses', 5395: 'deserted', 5396: 'pagoda', 5397: 'kamla', 5398: 'lui', 5399: 'excelling', 5400: 'intoxication', 5401: 'established', 5402: 'returned', 5403: 'arista', 5404: 'rajasthani', 5405: 'siddhivinayak', 5406: 'smoking', 5407: 'details', 5408: 'quay', 5409: 'significant', 5410: 'chape', 5411: 'ermenegildo', 5412: 'media', 5413: 'asiad', 5414: 'terezinha', 5415: 'quarter', 5416: 'wifi', 5417: 'cups', 5418: 'ghatkoper', 5419: 'community', 5420: 'fast', 5421: 'conscious', 5422: 'transportations', 5423: 'dryers', 5424: 'guwahati', 5425: 'spend', 5426: 'shalimar', 5427: 'polo', 5428: 'fact', 5429: 'harbour', 5430: 'meticulously', 5431: 'errors', 5432: 'acrobat', 5433: 'essenza', 5434: 'vila', 5435: 'modernised', 5436: 'noon', 5437: 'kulfi', 5438: 'stress', 5439: 'separate', 5440: 'admist', 5441: 'behind', 5442: 'gril', 5443: 'crafted', 5444: 'whilst', 5445: 'attravtive', 5446: 'highland', 5447: 'reaching', 5448: 'cine', 5449: 'kilometre', 5450: 'organises', 5451: 'birding', 5452: 'rack', 5453: 'makers', 5454: 'spanish', 5455: 'campal', 5456: 'mythology', 5457: 'period', 5458: 'iskon', 5459: 'hr', 5460: 'responsible', 5461: 'gama', 5462: 'boa', 5463: 'tiny', 5464: 'classified', 5465: 'zenith', 5466: 'utilized', 5467: 'arcangela', 5468: 'earlier', 5469: 'prompt', 5470: 'choice', 5471: 'stretch', 5472: 'divrse', 5473: 'doubles', 5474: 'enlightened', 5475: 'town', 5476: 'sufficiently', 5477: 'visited', 5478: 'lobster', 5479: 'northside', 5480: 'mediterranean', 5481: 'spotlessly', 5482: 'colourfully', 5483: 'chargemini', 5484: 'rejections', 5485: 'thane', 5486: 'mark', 5487: 'biodiversity', 5488: 'picnic', 5489: 'cidade', 5490: 'distinctive', 5491: 'diners', 5492: 'sum', 5493: 'seating', 5494: 'seeing', 5495: 'pali', 5496: 'befit', 5497: 'airport', 5498: 'luck', 5499: 'zaika', 5500: 'organizing', 5501: 'maps', 5502: 'opt', 5503: 'rural', 5504: 'periodic', 5505: 'panchali', 5506: 'infinity', 5507: 'hospital', 5508: 'curchorem', 5509: 'hoppers', 5510: 'pax', 5511: 'bhayander', 5512: 'jhampus', 5513: 'card', 5514: 'baroke', 5515: 'promptly', 5516: 'reached', 5517: 'road', 5518: 'item', 5519: 'swami', 5520: 'astonishing', 5521: 'seclusion', 5522: 'mbp', 5523: 'thematic', 5524: 'films', 5525: 'recharged', 5526: 'comfy', 5527: 'night', 5528: 'dormitories', 5529: 'twice', 5530: 'contemporary', 5531: 'priyadarshyani', 5532: 'sangrahalaya', 5533: 'plantation', 5534: 'conceicao', 5535: 'cultural', 5536: 'cotigao', 5537: 'surveillance', 5538: 'arma', 5539: 'outlet', 5540: 'jubilee', 5541: 'mosques', 5542: 'kitty', 5543: 'bomfim', 5544: 'ronil', 5545: 'mangatram', 5546: 'plasma', 5547: 'micasa', 5548: 'pursuing', 5549: 'arrival', 5550: 'kettle', 5551: 'roomy', 5552: 'bhagwan', 5553: 'breathtaking', 5554: 'players', 5555: 'apply', 5556: 'tile', 5557: 'nawab', 5558: 'conveniences', 5559: 'cakes', 5560: 'backwoods', 5561: 'mayur', 5562: 'real', 5563: 'simply', 5564: 'joet', 5565: 'ashirwad', 5566: 'allopathy', 5567: 'violet', 5568: 'billiards', 5569: 'mineral', 5570: 'segment', 5571: 'work', 5572: 'tandoor', 5573: 'frequency', 5574: 'kalki', 5575: 'barbecued', 5576: 'mangaldas', 5577: 'pergola', 5578: 'thvm', 5579: 'owns', 5580: 'planet', 5581: 'beth', 5582: 'implies', 5583: 'shoes', 5584: 'thai', 5585: 'mapuca', 5586: 'villages', 5587: 'airline', 5588: 'storage', 5589: 'enquiries', 5590: 'kids', 5591: 'leisure', 5592: 'karishma', 5593: 'dung', 5594: 'saphhire', 5595: 'karmali', 5596: 'bhagat', 5597: 'yearn', 5598: 'andrew', 5599: 'kissed', 5600: 'suits', 5601: 'concept', 5602: 'excellent', 5603: 'convienences', 5604: 'padaria', 5605: 'digital', 5606: 'karnala', 5607: 'partying', 5608: 'aston', 5609: 'butter', 5610: 'mouthful', 5611: 'stuff', 5612: 'delicious', 5613: 'window', 5614: 'join', 5615: 'electronics', 5616: 'melati', 5617: 'symbol', 5618: 'stands', 5619: 'soups', 5620: 'bathing', 5621: 'set', 5622: 'matheran', 5623: 'beers', 5624: 'peacful', 5625: 'newly', 5626: 'wado', 5627: 'terrace', 5628: 'treat', 5629: 'highly', 5630: 'link', 5631: 'creates', 5632: 'aesthetic', 5633: 'goan', 5634: 'cherished', 5635: 'undulating', 5636: 'string', 5637: 'tisha', 5638: 'sitauted', 5639: 'nov', 5640: 'vincy', 5641: 'nestled', 5642: 'therapeutic', 5643: 'jose', 5644: 'iv', 5645: 'reliance', 5646: 'chef', 5647: 'mud', 5648: 'warli', 5649: 'verandas', 5650: 'approach', 5651: 'colabeach', 5652: 'make', 5653: 'core', 5654: 'gabled', 5655: 'vara', 5656: 'impressively', 5657: 'given', 5658: 'towel', 5659: 'shelf', 5660: 'hammocks', 5661: 'molyma', 5662: 'thrice', 5663: 'dharavi', 5664: 'confirm', 5665: 'managed', 5666: 'coracao', 5667: 'dewa', 5668: 'taxis', 5669: 'albuquerque', 5670: 'accomplishes', 5671: 'buzzing', 5672: 'channel', 5673: 'aishwarya', 5674: 'hearty', 5675: 'great', 5676: 'astrio', 5677: 'deli', 5678: 'hot', 5679: 'butterfly', 5680: 'hallsbanquet', 5681: 'imported', 5682: 'toilets', 5683: 'flavors', 5684: 'airy', 5685: 'pick', 5686: 'try', 5687: 'deonar', 5688: 'packed', 5689: 'baisakhi', 5690: 'overseas', 5691: 'unlimited', 5692: 'noises', 5693: 'entrepreneurs', 5694: 'vehicle', 5695: 'vile', 5696: 'readers', 5697: 'curators', 5698: 'comprises', 5699: 'fahrenheit', 5700: 'enigma', 5701: 'cashew', 5702: 'organic', 5703: 'market', 5704: 'missing', 5705: 'alongside', 5706: 'opera', 5707: 'interference', 5708: 'bed', 5709: 'ammenities', 5710: 'sarongs', 5711: 'telephones', 5712: 'equidistant', 5713: 'assembly', 5714: 'bigger', 5715: 'allure', 5716: 'palm', 5717: 'opulence', 5718: 'jijamata', 5719: 'interstate', 5720: 'parle', 5721: 'tall', 5722: 'heady', 5723: 'av', 5724: 'goa', 5725: 'seasonal', 5726: 'saudia', 5727: 'distinctly', 5728: 'gamut', 5729: 'groovy', 5730: 'washer', 5731: 'vip', 5732: 'immense', 5733: 'advantage', 5734: 'composed', 5735: 'valuables', 5736: 'north', 5737: 'waterfront', 5738: 'celjoan', 5739: 'faous', 5740: 'dine', 5741: 'painting', 5742: 'mangalore', 5743: 'washroom', 5744: 'johns', 5745: 'balconies', 5746: 'forms', 5747: 'stocking', 5748: 'lawrence', 5749: 'hira', 5750: 'tree', 5751: 'china', 5752: 'maker', 5753: 'come', 5754: 'functions', 5755: 'revitalize', 5756: 'adventurous', 5757: 'terminal', 5758: 'flaunts', 5759: 'rigorous', 5760: 'santana', 5761: 'keeping', 5762: 'loose', 5763: 'motto', 5764: 'stop', 5765: 'abs', 5766: 'wakeup', 5767: 'ups', 5768: 'kim', 5769: 'mainly', 5770: 'baby', 5771: 'first', 5772: 'towels', 5773: 'scarlet', 5774: 'renovated', 5775: 'banks', 5776: 'draws', 5777: 'baina', 5778: 'classiest', 5779: 'ability', 5780: 'regency', 5781: 'ideally', 5782: 'aspires', 5783: 'dinning', 5784: 'narrating', 5785: 'fun', 5786: 'development', 5787: 'god', 5788: 'burning', 5789: 'talented', 5790: 'colleagues', 5791: 'doubletree', 5792: 'kinds', 5793: 'outs', 5794: 'centralised', 5795: 'whole', 5796: 'prove', 5797: 'arranged', 5798: 'supermarket', 5799: 'form', 5800: 'joia', 5801: 'ltd', 5802: 'enjoy', 5803: 'street', 5804: 'hillock', 5805: 'souk', 5806: 'radisson', 5807: 'seared', 5808: 'nuisance', 5809: 'visualizers', 5810: 'assists', 5811: 'optional', 5812: 'computers', 5813: 'accessibility', 5814: 'inconvenience', 5815: 'buds', 5816: 'sincro', 5817: 'variety', 5818: 'staying', 5819: 'amar', 5820: 'ginger', 5821: 'research', 5822: 'verna', 5823: 'organise', 5824: 'sac', 5825: 'beachside', 5826: 'missed', 5827: 'taj', 5828: 'committed', 5829: 'bring', 5830: 'maharashtrian', 5831: 'proud', 5832: 'corta', 5833: 'shared', 5834: 'hobnob', 5835: 'scuba', 5836: 'west', 5837: 'near', 5838: 'kilometres', 5839: 'radio', 5840: 'jaqk', 5841: 'corporates', 5842: 'jardin', 5843: 'savor', 5844: 'ac', 5845: 'kamgar', 5846: 'resturant', 5847: 'seeking', 5848: 'valanka', 5849: 'mayfair', 5850: 'karna', 5851: 'lounge', 5852: 'main', 5853: 'measuring', 5854: 'amarya', 5855: 'union', 5856: 'iran', 5857: 'vegas', 5858: 'conferencing', 5859: 'splendour', 5860: 'howrah', 5861: 'sundeck', 5862: 'sukh', 5863: 'curiosity', 5864: 'david', 5865: 'coming', 5866: 'television', 5867: 'sofa', 5868: 'hotplate', 5869: 'galaxy', 5870: 'melhor', 5871: 'modeled', 5872: 'skyline', 5873: 'ethereal', 5874: 'slab', 5875: 'specialises', 5876: 'high', 5877: 'delivery', 5878: 'max', 5879: 'grills', 5880: 'kingdom', 5881: 'initial', 5882: 'wee', 5883: 'kraft', 5884: 'bargains', 5885: 'shuttle', 5886: 'christian', 5887: 'salon', 5888: 'upholstery', 5889: 'frangipani', 5890: 'added', 5891: 'clientele', 5892: 'arch', 5893: 'amongst', 5894: 'mapusa', 5895: 'believes', 5896: 'mira', 5897: 'melange', 5898: 'operators', 5899: 'airconditioned', 5900: 'kamal', 5901: 'donapaula', 5902: 'dargah', 5903: 'kumkum', 5904: 'taste', 5905: 'prior', 5906: 'weary', 5907: 'start', 5908: 'cheap', 5909: 'bardez', 5910: 'furnished', 5911: 'premium', 5912: 'wooden', 5913: 'matches', 5914: 'zen', 5915: 'specialty', 5916: 'framework', 5917: 'modes', 5918: 'donaciana', 5919: 'facilitybar', 5920: 'proof', 5921: 'tranz', 5922: 'orbits', 5923: 'fantastic', 5924: 'glazing', 5925: 'vicinty', 5926: 'wellnessinn', 5927: 'outing', 5928: 'view', 5929: 'whether', 5930: 'projection', 5931: 'primarily', 5932: 'produce', 5933: 'bell', 5934: 'palmarinha', 5935: 'consulate', 5936: 'electrical', 5937: 'mix', 5938: 'suests', 5939: 'carambolim', 5940: 'picturesque', 5941: 'groves', 5942: 'spacious', 5943: 'alike', 5944: 'attraction', 5945: 'gold', 5946: 'panel', 5947: 'couch', 5948: 'brief', 5949: 'cubicle', 5950: 'para', 5951: 'bilal', 5952: 'tanish', 5953: 'miramar', 5954: 'beverages', 5955: 'paraiso', 5956: 'understand', 5957: 'scenery', 5958: 'emanates', 5959: 'sufficient', 5960: 'grilled', 5961: 'cuisines', 5962: 'rio', 5963: 'taxi', 5964: 'alfa', 5965: 'lua', 5966: 'sink', 5967: 'absolutely', 5968: 'midtown', 5969: 'jesus', 5970: 'swagat', 5971: 'groceries', 5972: 'azolla', 5973: 'rasoi', 5974: 'nestle', 5975: 'refreshingly', 5976: 'pedros', 5977: 'marketcity', 5978: 'edge', 5979: 'bbq', 5980: 'joyful', 5981: 'chembur', 5982: 'pleasant', 5983: 'staff', 5984: 'shut', 5985: 'surprises', 5986: 'populated', 5987: 'maharaj', 5988: 'sets', 5989: 'patches', 5990: 'put', 5991: 'extended', 5992: 'wellness', 5993: 'cavalas', 5994: 'solar', 5995: 'trials', 5996: 'hotr', 5997: 'harmonious', 5998: 'consisting', 5999: 'sonata', 6000: 'eat', 6001: 'consumption', 6002: 'dances', 6003: 'ventilated', 6004: 'lounges', 6005: 'right', 6006: 'cor', 6007: 'occasions', 6008: 'laze', 6009: 'rosary', 6010: 'accommodating', 6011: 'different', 6012: 'reflect', 6013: 'hamar', 6014: 'submerged', 6015: 'step', 6016: 'oh', 6017: 'tales', 6018: 'manicured', 6019: 'margarita', 6020: 'goans', 6021: 'hidden', 6022: 'filmcity', 6023: 'highway', 6024: 'tesoro', 6025: 'inclusive', 6026: 'grace', 6027: 'keylong', 6028: 'resorte', 6029: 'id', 6030: 'cane', 6031: 'public', 6032: 'ria', 6033: 'plunge', 6034: 'shopper', 6035: 'wanting', 6036: 'data', 6037: 'ratnagiri', 6038: 'another', 6039: 'residents', 6040: 'orritel', 6041: 'milan', 6042: 'printed', 6043: 'sanquelim', 6044: 'responsive', 6045: 'face', 6046: 'mackie', 6047: 'train', 6048: 'ktc', 6049: 'club', 6050: 'expectations', 6051: 'desks', 6052: 'sunbath', 6053: 'easy', 6054: 'season', 6055: 'aim', 6056: 'accomodation', 6057: 'dona', 6058: 'massive', 6059: 'neighborhood', 6060: 'rozy', 6061: 'throw', 6062: 'use', 6063: 'rated', 6064: 'stardust', 6065: 'unmarried', 6066: 'amazingly', 6067: 'mixer', 6068: 'unparalleled', 6069: 'cooked', 6070: 'team', 6071: 'surprising', 6072: 'basin', 6073: 'get', 6074: 'rarity', 6075: 'layouts', 6076: 'heated', 6077: 'walks', 6078: 'regular', 6079: 'partake', 6080: 'happening', 6081: 'localities', 6082: 'peshawri', 6083: 'capacities', 6084: 'posh', 6085: 'expected', 6086: 'heera', 6087: 'account', 6088: 'uninterrupted', 6089: 'district', 6090: 'press', 6091: 'panji', 6092: 'principal', 6093: 'closest', 6094: 'performing', 6095: 'body', 6096: 'sunila', 6097: 'suburban', 6098: 'buffet', 6099: 'stays', 6100: 'discounts', 6101: 'motorbike', 6102: 'delectable', 6103: 'printer', 6104: 'subhash', 6105: 'aesthetically', 6106: 'unmatched', 6107: 'chose', 6108: 'showroom', 6109: 'saigal', 6110: 'city', 6111: 'heights', 6112: 'including', 6113: 'patisserie', 6114: 'girgaon', 6115: 'pots', 6116: 'decoration', 6117: 'baug', 6118: 'reliable', 6119: 'fall', 6120: 'idle', 6121: 'things', 6122: 'marketed', 6123: 'pickup', 6124: 'menino', 6125: 'naked', 6126: 'field', 6127: 'wraparound', 6128: 'expert', 6129: 'anticipate', 6130: 'beauty', 6131: 'beer', 6132: 'raheja', 6133: 'business', 6134: 'temple', 6135: 'ashray', 6136: 'subtly', 6137: 'equipments', 6138: 'flavourful', 6139: 'drive', 6140: 'salads', 6141: 'snacks', 6142: 'entertainment', 6143: 'jet', 6144: 'arambol', 6145: 'basically', 6146: 'districts', 6147: 'flower', 6148: 'bhayandar', 6149: 'recipients', 6150: 'model'}\n"
          ]
        }
      ],
      "source": [
        "word_to_idx, idx_to_word = build_indices(unique_words)\n",
        "print(idx_to_word)"
      ]
    },
    {
      "cell_type": "code",
      "execution_count": 70,
      "id": "92dffee0",
      "metadata": {
        "id": "92dffee0"
      },
      "outputs": [],
      "source": [
        "def prepare_corpus(corpus, word_to_idx):\n",
        "    \n",
        "    sequences = []\n",
        "    for line in corpus:\n",
        "        tokens = line\n",
        "        for i in range(1, len(tokens)):\n",
        "            i_gram_sequence = tokens[:i+1]\n",
        "            i_gram_sequence_ids = []\n",
        "            \n",
        "            for j, token in enumerate(i_gram_sequence):\n",
        "                i_gram_sequence_ids.append(word_to_idx[token])\n",
        "                \n",
        "            sequences.append(i_gram_sequence_ids)\n",
        "    \n",
        "    return sequences"
      ]
    },
    {
      "cell_type": "code",
      "execution_count": 71,
      "id": "b0c8185f",
      "metadata": {
        "id": "b0c8185f"
      },
      "outputs": [],
      "source": [
        "sequences = prepare_corpus(cleaned_data, word_to_idx)\n",
        "max_sequence_len = max([len(x) for x in sequences])"
      ]
    },
    {
      "cell_type": "code",
      "execution_count": 72,
      "id": "df9c15b2",
      "metadata": {
        "colab": {
          "base_uri": "https://localhost:8080/"
        },
        "id": "df9c15b2",
        "outputId": "a731292a-794b-4d1b-afad-8a3698b89c16"
      },
      "outputs": [
        {
          "output_type": "execute_result",
          "data": {
            "text/plain": [
              "454"
            ]
          },
          "metadata": {},
          "execution_count": 72
        }
      ],
      "source": [
        "max_sequence_len"
      ]
    },
    {
      "cell_type": "code",
      "execution_count": 73,
      "id": "bd990c76",
      "metadata": {
        "colab": {
          "base_uri": "https://localhost:8080/"
        },
        "id": "bd990c76",
        "outputId": "85bb44c5-c8c1-49c8-c311-8929847fcfa2"
      },
      "outputs": [
        {
          "output_type": "stream",
          "name": "stdout",
          "text": [
            "[3937, 4517]\n",
            "[3937, 4517, 2485]\n"
          ]
        }
      ],
      "source": [
        "print(sequences[0])\n",
        "print(sequences[1])"
      ]
    },
    {
      "cell_type": "code",
      "execution_count": 74,
      "id": "7b3623b4",
      "metadata": {
        "colab": {
          "base_uri": "https://localhost:8080/"
        },
        "id": "7b3623b4",
        "outputId": "9394d0f1-d3b1-452a-f8e2-ebc0607785b7"
      },
      "outputs": [
        {
          "output_type": "stream",
          "name": "stdout",
          "text": [
            "younger\n",
            "finish\n",
            "turtle\n"
          ]
        }
      ],
      "source": [
        "print(idx_to_word[1647])\n",
        "print(idx_to_word[867])\n",
        "print(idx_to_word[1452])"
      ]
    },
    {
      "cell_type": "code",
      "execution_count": 75,
      "id": "237b13ad",
      "metadata": {
        "colab": {
          "base_uri": "https://localhost:8080/"
        },
        "id": "237b13ad",
        "outputId": "445f28b5-f3a1-41a4-c31e-84b87ce5fb46"
      },
      "outputs": [
        {
          "output_type": "execute_result",
          "data": {
            "text/plain": [
              "165507"
            ]
          },
          "metadata": {},
          "execution_count": 75
        }
      ],
      "source": [
        "len(sequences)"
      ]
    },
    {
      "cell_type": "code",
      "execution_count": 76,
      "id": "e8b64fde",
      "metadata": {
        "id": "e8b64fde"
      },
      "outputs": [],
      "source": [
        "def build_input_data(sequences, max_sequence_len, length_of_unique_words):\n",
        "    sequences = np.array(pad_sequences(sequences, maxlen = max_sequence_len, padding = 'pre'))\n",
        "    X = sequences[:,:-1]\n",
        "    y = sequences[:,-1]\n",
        "    y = np_utils.to_categorical(y, length_of_unique_words)\n",
        "    return X, y"
      ]
    },
    {
      "cell_type": "code",
      "execution_count": 77,
      "id": "bcdd27cc",
      "metadata": {
        "colab": {
          "base_uri": "https://localhost:8080/"
        },
        "id": "bcdd27cc",
        "outputId": "2c7a1c7e-6b52-4cae-d57f-f7868b9fbd6d"
      },
      "outputs": [
        {
          "output_type": "execute_result",
          "data": {
            "text/plain": [
              "6151"
            ]
          },
          "metadata": {},
          "execution_count": 77
        }
      ],
      "source": [
        "length_of_unique_words"
      ]
    },
    {
      "cell_type": "code",
      "execution_count": 78,
      "id": "0f1ce31c",
      "metadata": {
        "id": "0f1ce31c"
      },
      "outputs": [],
      "source": [
        "X, y = build_input_data(sequences, max_sequence_len, length_of_unique_words)"
      ]
    },
    {
      "cell_type": "code",
      "execution_count": 79,
      "id": "9a3c1b50",
      "metadata": {
        "id": "9a3c1b50"
      },
      "outputs": [],
      "source": [
        "def create_model(max_sequence_len, length_of_unique_words):\n",
        "    model = Sequential()\n",
        "    model.add(Embedding(length_of_unique_words, 10, input_length=max_sequence_len - 1))\n",
        "    model.add(LSTM(128))\n",
        "    model.add(Dropout(0.2))\n",
        "    model.add(Dense(length_of_unique_words, activation='softmax'))\n",
        "    model.compile(loss='categorical_crossentropy', optimizer='adam')\n",
        "    return model"
      ]
    },
    {
      "cell_type": "code",
      "execution_count": 80,
      "id": "8c42da4d",
      "metadata": {
        "colab": {
          "base_uri": "https://localhost:8080/"
        },
        "id": "8c42da4d",
        "outputId": "97b43a50-152a-4cc0-f954-1a84e5286fad"
      },
      "outputs": [
        {
          "output_type": "stream",
          "name": "stdout",
          "text": [
            "Model: \"sequential_1\"\n",
            "_________________________________________________________________\n",
            " Layer (type)                Output Shape              Param #   \n",
            "=================================================================\n",
            " embedding_1 (Embedding)     (None, 453, 10)           61510     \n",
            "                                                                 \n",
            " lstm_1 (LSTM)               (None, 128)               71168     \n",
            "                                                                 \n",
            " dropout_1 (Dropout)         (None, 128)               0         \n",
            "                                                                 \n",
            " dense_1 (Dense)             (None, 6151)              793479    \n",
            "                                                                 \n",
            "=================================================================\n",
            "Total params: 926,157\n",
            "Trainable params: 926,157\n",
            "Non-trainable params: 0\n",
            "_________________________________________________________________\n"
          ]
        }
      ],
      "source": [
        "model = create_model(max_sequence_len, length_of_unique_words)\n",
        "model.summary()"
      ]
    },
    {
      "cell_type": "code",
      "execution_count": 81,
      "id": "d4f20425",
      "metadata": {
        "colab": {
          "base_uri": "https://localhost:8080/"
        },
        "id": "d4f20425",
        "outputId": "ae5ae872-2d56-4148-c1b6-beb2ce9c3633"
      },
      "outputs": [
        {
          "output_type": "stream",
          "name": "stdout",
          "text": [
            "Epoch 1/100\n",
            "324/324 [==============================] - 54s 157ms/step - loss: 6.8987\n",
            "Epoch 2/100\n",
            "324/324 [==============================] - 34s 105ms/step - loss: 6.5938\n",
            "Epoch 3/100\n",
            "324/324 [==============================] - 29s 90ms/step - loss: 6.4037\n",
            "Epoch 4/100\n",
            "324/324 [==============================] - 28s 85ms/step - loss: 6.1209\n",
            "Epoch 5/100\n",
            "324/324 [==============================] - 26s 81ms/step - loss: 5.9137\n",
            "Epoch 6/100\n",
            "324/324 [==============================] - 24s 74ms/step - loss: 5.7023\n",
            "Epoch 7/100\n",
            "324/324 [==============================] - 24s 74ms/step - loss: 5.5093\n",
            "Epoch 8/100\n",
            "324/324 [==============================] - 24s 73ms/step - loss: 5.3067\n",
            "Epoch 9/100\n",
            "324/324 [==============================] - 24s 74ms/step - loss: 5.1285\n",
            "Epoch 10/100\n",
            "324/324 [==============================] - 23s 72ms/step - loss: 4.9669\n",
            "Epoch 11/100\n",
            "324/324 [==============================] - 23s 70ms/step - loss: 4.8173\n",
            "Epoch 12/100\n",
            "324/324 [==============================] - 23s 71ms/step - loss: 4.6799\n",
            "Epoch 13/100\n",
            "324/324 [==============================] - 23s 71ms/step - loss: 4.5560\n",
            "Epoch 14/100\n",
            "324/324 [==============================] - 23s 70ms/step - loss: 4.4399\n",
            "Epoch 15/100\n",
            "324/324 [==============================] - 22s 69ms/step - loss: 4.3343\n",
            "Epoch 16/100\n",
            "324/324 [==============================] - 23s 70ms/step - loss: 4.2430\n",
            "Epoch 17/100\n",
            "324/324 [==============================] - 23s 72ms/step - loss: 4.1547\n",
            "Epoch 18/100\n",
            "324/324 [==============================] - 22s 69ms/step - loss: 4.0755\n",
            "Epoch 19/100\n",
            "324/324 [==============================] - 22s 69ms/step - loss: 3.9993\n",
            "Epoch 20/100\n",
            "324/324 [==============================] - 22s 69ms/step - loss: 3.9288\n",
            "Epoch 21/100\n",
            "324/324 [==============================] - 22s 69ms/step - loss: 3.8642\n",
            "Epoch 22/100\n",
            "324/324 [==============================] - 22s 68ms/step - loss: 3.8032\n",
            "Epoch 23/100\n",
            "324/324 [==============================] - 23s 70ms/step - loss: 3.7444\n",
            "Epoch 24/100\n",
            "324/324 [==============================] - 22s 68ms/step - loss: 3.6894\n",
            "Epoch 25/100\n",
            "324/324 [==============================] - 22s 69ms/step - loss: 3.6413\n",
            "Epoch 26/100\n",
            "324/324 [==============================] - 22s 68ms/step - loss: 3.5907\n",
            "Epoch 27/100\n",
            "324/324 [==============================] - 23s 70ms/step - loss: 3.5672\n",
            "Epoch 28/100\n",
            "324/324 [==============================] - 22s 69ms/step - loss: 3.5125\n",
            "Epoch 29/100\n",
            "324/324 [==============================] - 22s 69ms/step - loss: 3.4689\n",
            "Epoch 30/100\n",
            "324/324 [==============================] - 22s 69ms/step - loss: 3.4256\n",
            "Epoch 31/100\n",
            "324/324 [==============================] - 22s 68ms/step - loss: 3.3893\n",
            "Epoch 32/100\n",
            "324/324 [==============================] - 22s 69ms/step - loss: 3.3537\n",
            "Epoch 33/100\n",
            "324/324 [==============================] - 22s 69ms/step - loss: 3.3185\n",
            "Epoch 34/100\n",
            "324/324 [==============================] - 22s 68ms/step - loss: 3.2885\n",
            "Epoch 35/100\n",
            "324/324 [==============================] - 23s 70ms/step - loss: 3.2567\n",
            "Epoch 36/100\n",
            "324/324 [==============================] - 22s 69ms/step - loss: 3.2316\n",
            "Epoch 37/100\n",
            "324/324 [==============================] - 22s 68ms/step - loss: 3.2039\n",
            "Epoch 38/100\n",
            "324/324 [==============================] - 23s 69ms/step - loss: 3.1766\n",
            "Epoch 39/100\n",
            "324/324 [==============================] - 22s 68ms/step - loss: 3.1495\n",
            "Epoch 40/100\n",
            "324/324 [==============================] - 22s 69ms/step - loss: 3.1201\n",
            "Epoch 41/100\n",
            "324/324 [==============================] - 22s 69ms/step - loss: 3.0998\n",
            "Epoch 42/100\n",
            "324/324 [==============================] - 22s 69ms/step - loss: 3.0813\n",
            "Epoch 43/100\n",
            "324/324 [==============================] - 22s 67ms/step - loss: 3.0534\n",
            "Epoch 44/100\n",
            "324/324 [==============================] - 23s 70ms/step - loss: 3.0352\n",
            "Epoch 45/100\n",
            "324/324 [==============================] - 22s 69ms/step - loss: 3.0150\n",
            "Epoch 46/100\n",
            "324/324 [==============================] - 22s 68ms/step - loss: 2.9933\n",
            "Epoch 47/100\n",
            "324/324 [==============================] - 22s 68ms/step - loss: 2.9749\n",
            "Epoch 48/100\n",
            "324/324 [==============================] - 22s 69ms/step - loss: 2.9550\n",
            "Epoch 49/100\n",
            "324/324 [==============================] - 22s 68ms/step - loss: 2.9420\n",
            "Epoch 50/100\n",
            "324/324 [==============================] - 22s 69ms/step - loss: 2.9247\n",
            "Epoch 51/100\n",
            "324/324 [==============================] - 22s 68ms/step - loss: 2.9033\n",
            "Epoch 52/100\n",
            "324/324 [==============================] - 22s 69ms/step - loss: 2.8905\n",
            "Epoch 53/100\n",
            "324/324 [==============================] - 22s 68ms/step - loss: 2.8770\n",
            "Epoch 54/100\n",
            "324/324 [==============================] - 22s 68ms/step - loss: 2.8582\n",
            "Epoch 55/100\n",
            "324/324 [==============================] - 22s 69ms/step - loss: 2.8445\n",
            "Epoch 56/100\n",
            "324/324 [==============================] - 22s 68ms/step - loss: 2.8307\n",
            "Epoch 57/100\n",
            "324/324 [==============================] - 22s 68ms/step - loss: 2.8152\n",
            "Epoch 58/100\n",
            "324/324 [==============================] - 23s 70ms/step - loss: 2.8023\n",
            "Epoch 59/100\n",
            "324/324 [==============================] - 23s 69ms/step - loss: 2.7923\n",
            "Epoch 60/100\n",
            "324/324 [==============================] - 22s 68ms/step - loss: 2.7761\n",
            "Epoch 61/100\n",
            "324/324 [==============================] - 22s 69ms/step - loss: 2.7627\n",
            "Epoch 62/100\n",
            "324/324 [==============================] - 22s 68ms/step - loss: 2.7533\n",
            "Epoch 63/100\n",
            "324/324 [==============================] - 22s 68ms/step - loss: 2.7383\n",
            "Epoch 64/100\n",
            "324/324 [==============================] - 22s 68ms/step - loss: 2.7308\n",
            "Epoch 65/100\n",
            "324/324 [==============================] - 22s 68ms/step - loss: 2.7187\n",
            "Epoch 66/100\n",
            "324/324 [==============================] - 22s 68ms/step - loss: 2.7039\n",
            "Epoch 67/100\n",
            "324/324 [==============================] - 22s 68ms/step - loss: 2.6956\n",
            "Epoch 68/100\n",
            "324/324 [==============================] - 22s 68ms/step - loss: 2.6885\n",
            "Epoch 69/100\n",
            "324/324 [==============================] - 22s 69ms/step - loss: 2.6796\n",
            "Epoch 70/100\n",
            "324/324 [==============================] - 22s 69ms/step - loss: 2.6655\n",
            "Epoch 71/100\n",
            "324/324 [==============================] - 22s 68ms/step - loss: 2.6576\n",
            "Epoch 72/100\n",
            "324/324 [==============================] - 22s 68ms/step - loss: 2.6459\n",
            "Epoch 73/100\n",
            "324/324 [==============================] - 22s 67ms/step - loss: 2.6390\n",
            "Epoch 74/100\n",
            "324/324 [==============================] - 22s 68ms/step - loss: 2.6301\n",
            "Epoch 75/100\n",
            "324/324 [==============================] - 22s 67ms/step - loss: 2.6205\n",
            "Epoch 76/100\n",
            "324/324 [==============================] - 22s 68ms/step - loss: 2.6137\n",
            "Epoch 77/100\n",
            "324/324 [==============================] - 22s 68ms/step - loss: 2.6075\n",
            "Epoch 78/100\n",
            "324/324 [==============================] - 22s 67ms/step - loss: 2.5984\n",
            "Epoch 79/100\n",
            "324/324 [==============================] - 22s 68ms/step - loss: 2.5885\n",
            "Epoch 80/100\n",
            "324/324 [==============================] - 22s 69ms/step - loss: 2.5782\n",
            "Epoch 81/100\n",
            "324/324 [==============================] - 24s 74ms/step - loss: 2.5718\n",
            "Epoch 82/100\n",
            "324/324 [==============================] - 24s 74ms/step - loss: 2.5650\n",
            "Epoch 83/100\n",
            "324/324 [==============================] - 22s 68ms/step - loss: 2.5593\n",
            "Epoch 84/100\n",
            "324/324 [==============================] - 23s 72ms/step - loss: 2.5480\n",
            "Epoch 85/100\n",
            "324/324 [==============================] - 23s 72ms/step - loss: 2.5425\n",
            "Epoch 86/100\n",
            "324/324 [==============================] - 23s 71ms/step - loss: 2.5336\n",
            "Epoch 87/100\n",
            "324/324 [==============================] - 23s 70ms/step - loss: 2.5258\n",
            "Epoch 88/100\n",
            "324/324 [==============================] - 22s 69ms/step - loss: 2.5202\n",
            "Epoch 89/100\n",
            "324/324 [==============================] - 22s 69ms/step - loss: 2.5158\n",
            "Epoch 90/100\n",
            "324/324 [==============================] - 22s 69ms/step - loss: 2.5102\n",
            "Epoch 91/100\n",
            "324/324 [==============================] - 22s 69ms/step - loss: 2.5001\n",
            "Epoch 92/100\n",
            "324/324 [==============================] - 22s 69ms/step - loss: 2.4963\n",
            "Epoch 93/100\n",
            "324/324 [==============================] - 22s 69ms/step - loss: 2.4910\n",
            "Epoch 94/100\n",
            "324/324 [==============================] - 22s 69ms/step - loss: 2.4944\n",
            "Epoch 95/100\n",
            "324/324 [==============================] - 22s 68ms/step - loss: 2.4778\n",
            "Epoch 96/100\n",
            "324/324 [==============================] - 22s 68ms/step - loss: 2.4703\n",
            "Epoch 97/100\n",
            "324/324 [==============================] - 22s 68ms/step - loss: 2.4642\n",
            "Epoch 98/100\n",
            "324/324 [==============================] - 22s 68ms/step - loss: 2.4576\n",
            "Epoch 99/100\n",
            "324/324 [==============================] - 22s 68ms/step - loss: 2.4521\n",
            "Epoch 100/100\n",
            "324/324 [==============================] - 22s 68ms/step - loss: 2.4453\n"
          ]
        },
        {
          "output_type": "execute_result",
          "data": {
            "text/plain": [
              "<keras.callbacks.History at 0x7f25a8c92af0>"
            ]
          },
          "metadata": {},
          "execution_count": 81
        }
      ],
      "source": [
        "model.fit(X, y, batch_size = 512, epochs=100)"
      ]
    },
    {
      "cell_type": "code",
      "execution_count": 82,
      "id": "7a58cd13",
      "metadata": {
        "id": "7a58cd13"
      },
      "outputs": [],
      "source": [
        "model_structure = model.to_json()\n",
        "with open(\"/content/drive/MyDrive/Datasets/model/text_generation_using_LSTM_Mumbai_Goa.json\", \"w\") as json_file:\n",
        "    json_file.write(model_structure)\n",
        "model.save_weights(\"/content/drive/MyDrive/Datasets/model/text_generation_using_LSTM_Mumbai_Goa.h5\")"
      ]
    },
    {
      "cell_type": "code",
      "source": [
        "from keras.models import model_from_json\n",
        "json_file=open('/content/drive/MyDrive/Datasets/model/text_generation_using_LSTM_Mumbai_Goa.json','r')\n",
        "loaded_model_json=json_file.read()\n",
        "json_file.close()\n",
        "loaded_model=model_from_json(loaded_model_json)\n",
        "loaded_model.load_weights(\"/content/drive/MyDrive/Datasets/model/text_generation_using_LSTM_Mumbai_Goa.h5\")\n",
        "print('Model Loaded from Drive')"
      ],
      "metadata": {
        "colab": {
          "base_uri": "https://localhost:8080/"
        },
        "id": "lgNhO_sqGOLu",
        "outputId": "da4a1e96-d38f-4544-a6e7-098b6641550f"
      },
      "id": "lgNhO_sqGOLu",
      "execution_count": 85,
      "outputs": [
        {
          "output_type": "stream",
          "name": "stdout",
          "text": [
            "Model Loaded from Drive\n"
          ]
        }
      ]
    },
    {
      "cell_type": "code",
      "execution_count": 45,
      "id": "112ed6cf",
      "metadata": {
        "id": "112ed6cf"
      },
      "outputs": [],
      "source": [
        "def generate_text(seed_text, next_words, model, max_seq_len):\n",
        "    for _ in range(next_words):\n",
        "        cleaned_data = clean_data([seed_text])\n",
        "        sequences= prepare_corpus(cleaned_data[0], word_to_idx)\n",
        "        sequences = pad_sequences([sequences[-1]], maxlen=max_seq_len-1, padding='pre')\n",
        "        predicted_x = model.predict(sequences, verbose=0)\n",
        "        predicted=np.argmax(predicted_x,axis=1)\n",
        "        output_word = ''\n",
        "        output_word = idx_to_word[predicted[0]]            \n",
        "        seed_text = seed_text + \" \" + output_word\n",
        "        \n",
        "    return seed_text.title()"
      ]
    },
    {
      "cell_type": "code",
      "execution_count": 91,
      "id": "f14893d7",
      "metadata": {
        "colab": {
          "base_uri": "https://localhost:8080/"
        },
        "id": "f14893d7",
        "outputId": "53614ef5-c4a6-483e-8300-3d70b917542e"
      },
      "outputs": [
        {
          "output_type": "stream",
          "name": "stdout",
          "text": [
            "Destination Goa Located City Beautiful Beaches Goa Located Distance Km Goa International Airport Km Karmali Railway Station Km Mapusa Bus Stand Hotel Close Proximity Various Tourist Places Like Shree Siddhivinayak Temple Km Mount Mary Church Km Shree Siddhivinayak Temple Km Mount Mary Church Km Shree Siddhivinayak Temple Km Many Others Situated Feasible Distance Hotel Offers Facilities Like Front Desk Parking Laundry Service Parking Facility Also Offers Facilities Like Taxi Service Airport Railway Station Transfer Taxi Service Airport Railway Station Transfer Robert Place Leisure Travellers Hotel Offers Facilities Like Parking Facility Doctor Call Facility Also Available Chargeable Basis Hotel Kumkum Features Well Appointed\n"
          ]
        }
      ],
      "source": [
        "print(generate_text(\"Destination Goa\", 100, loaded_model, max_sequence_len))"
      ]
    },
    {
      "cell_type": "code",
      "execution_count": 47,
      "id": "21402797",
      "metadata": {
        "colab": {
          "base_uri": "https://localhost:8080/"
        },
        "id": "21402797",
        "outputId": "3d4133b7-acc9-4793-a87b-b459cf288f1b"
      },
      "outputs": [
        {
          "output_type": "stream",
          "name": "stdout",
          "text": [
            "Best Mumbai Apartments Located Heart City Mumbai Mumbai Nearest Airport Chhatrapati Shivaji International Airport Km Away Bhayandar Railway Station Mumbai Central Railway Station Km Away Bus Stand Popular Tourist Attractions Like Shree\n"
          ]
        }
      ],
      "source": [
        "print(generate_text(\"Best Mumbai\", 30, model, max_sequence_len))"
      ]
    },
    {
      "cell_type": "code",
      "execution_count": null,
      "id": "9cf369ae",
      "metadata": {
        "id": "9cf369ae",
        "outputId": "44d4ea6b-adcc-4185-885d-d32976855558"
      },
      "outputs": [
        {
          "name": "stdout",
          "output_type": "stream",
          "text": [
            "[main ff1ce07] Text Generation Using LSTM just tried with 10 epochs but very less efficient\n",
            " 1 file changed, 1254 insertions(+)\n",
            " create mode 100644 TextGenerationLSTM.ipynb\n",
            "Enumerating objects: 4, done.\n",
            "Counting objects: 100% (4/4), done.\n",
            "Delta compression using up to 6 threads\n",
            "Compressing objects: 100% (3/3), done.\n",
            "Writing objects: 100% (3/3), 31.98 KiB | 7.99 MiB/s, done.\n",
            "Total 3 (delta 1), reused 0 (delta 0), pack-reused 0\n",
            "remote: Resolving deltas: 100% (1/1), completed with 1 local object.\u001b[K\n",
            "To github.com:Aayush181509/NLPLearning.git\n",
            "   6aa09d1..ff1ce07  main -> main\n"
          ]
        }
      ],
      "source": [
        "!git add TextGenerationLSTM.ipynb\n",
        "!git commit -m \"Text Generation Using LSTM just tried with 10 epochs but very less efficient\"\n",
        "!git push"
      ]
    },
    {
      "cell_type": "code",
      "execution_count": null,
      "id": "fba46a5d",
      "metadata": {
        "id": "fba46a5d"
      },
      "outputs": [],
      "source": []
    }
  ],
  "metadata": {
    "kernelspec": {
      "display_name": "Python 3 (ipykernel)",
      "language": "python",
      "name": "python3"
    },
    "language_info": {
      "codemirror_mode": {
        "name": "ipython",
        "version": 3
      },
      "file_extension": ".py",
      "mimetype": "text/x-python",
      "name": "python",
      "nbconvert_exporter": "python",
      "pygments_lexer": "ipython3",
      "version": "3.9.13"
    },
    "colab": {
      "provenance": []
    },
    "accelerator": "GPU",
    "gpuClass": "standard"
  },
  "nbformat": 4,
  "nbformat_minor": 5
}