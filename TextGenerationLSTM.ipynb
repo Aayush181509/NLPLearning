{
 "cells": [
  {
   "cell_type": "code",
   "execution_count": 1,
   "id": "0d488fc7",
   "metadata": {},
   "outputs": [
    {
     "name": "stderr",
     "output_type": "stream",
     "text": [
      "2023-03-01 16:47:05.664037: I tensorflow/core/platform/cpu_feature_guard.cc:193] This TensorFlow binary is optimized with oneAPI Deep Neural Network Library (oneDNN) to use the following CPU instructions in performance-critical operations:  AVX2 FMA\n",
      "To enable them in other operations, rebuild TensorFlow with the appropriate compiler flags.\n",
      "2023-03-01 16:47:05.944859: W tensorflow/compiler/xla/stream_executor/platform/default/dso_loader.cc:64] Could not load dynamic library 'libcudart.so.11.0'; dlerror: libcudart.so.11.0: cannot open shared object file: No such file or directory\n",
      "2023-03-01 16:47:05.944880: I tensorflow/compiler/xla/stream_executor/cuda/cudart_stub.cc:29] Ignore above cudart dlerror if you do not have a GPU set up on your machine.\n",
      "2023-03-01 16:47:06.800377: W tensorflow/compiler/xla/stream_executor/platform/default/dso_loader.cc:64] Could not load dynamic library 'libnvinfer.so.7'; dlerror: libnvinfer.so.7: cannot open shared object file: No such file or directory\n",
      "2023-03-01 16:47:06.800452: W tensorflow/compiler/xla/stream_executor/platform/default/dso_loader.cc:64] Could not load dynamic library 'libnvinfer_plugin.so.7'; dlerror: libnvinfer_plugin.so.7: cannot open shared object file: No such file or directory\n",
      "2023-03-01 16:47:06.800458: W tensorflow/compiler/tf2tensorrt/utils/py_utils.cc:38] TF-TRT Warning: Cannot dlopen some TensorRT libraries. If you would like to use Nvidia GPU with TensorRT, please make sure the missing libraries mentioned above are installed properly.\n"
     ]
    }
   ],
   "source": [
    "import nltk\n",
    "from nltk.corpus import stopwords\n",
    "import pandas as pd\n",
    "import numpy as np\n",
    "import re\n",
    "from keras_preprocessing.sequence import pad_sequences\n",
    "from keras.utils import np_utils\n",
    "from keras.models import Sequential\n",
    "from keras.layers import Dense, LSTM, Dropout, Embedding"
   ]
  },
  {
   "cell_type": "code",
   "execution_count": 2,
   "id": "45af0a98",
   "metadata": {},
   "outputs": [],
   "source": [
    "data = pd.read_csv('datasets/hotel_data.csv')"
   ]
  },
  {
   "cell_type": "code",
   "execution_count": 3,
   "id": "979bf790",
   "metadata": {},
   "outputs": [
    {
     "data": {
      "text/html": [
       "<div>\n",
       "<style scoped>\n",
       "    .dataframe tbody tr th:only-of-type {\n",
       "        vertical-align: middle;\n",
       "    }\n",
       "\n",
       "    .dataframe tbody tr th {\n",
       "        vertical-align: top;\n",
       "    }\n",
       "\n",
       "    .dataframe thead th {\n",
       "        text-align: right;\n",
       "    }\n",
       "</style>\n",
       "<table border=\"1\" class=\"dataframe\">\n",
       "  <thead>\n",
       "    <tr style=\"text-align: right;\">\n",
       "      <th></th>\n",
       "      <th>area</th>\n",
       "      <th>city</th>\n",
       "      <th>country</th>\n",
       "      <th>crawl_date</th>\n",
       "      <th>highlight_value</th>\n",
       "      <th>hotel_overview</th>\n",
       "      <th>hotel_star_rating</th>\n",
       "      <th>image_urls</th>\n",
       "      <th>in_your_room</th>\n",
       "      <th>is_value_plus</th>\n",
       "      <th>...</th>\n",
       "      <th>property_type</th>\n",
       "      <th>qts</th>\n",
       "      <th>query_time_stamp</th>\n",
       "      <th>room_types</th>\n",
       "      <th>site_review_count</th>\n",
       "      <th>site_review_rating</th>\n",
       "      <th>sitename</th>\n",
       "      <th>state</th>\n",
       "      <th>traveller_rating</th>\n",
       "      <th>uniq_id</th>\n",
       "    </tr>\n",
       "  </thead>\n",
       "  <tbody>\n",
       "    <tr>\n",
       "      <th>0</th>\n",
       "      <td>Hardasji Ki Magri</td>\n",
       "      <td>Udaipur</td>\n",
       "      <td>India</td>\n",
       "      <td>2016-06-21</td>\n",
       "      <td>{{facility}}</td>\n",
       "      <td>|Zion Home Stay is located in a city that sets...</td>\n",
       "      <td>1 star</td>\n",
       "      <td>NaN</td>\n",
       "      <td>{{value}}</td>\n",
       "      <td>no</td>\n",
       "      <td>...</td>\n",
       "      <td>Hotel</td>\n",
       "      <td>NaN</td>\n",
       "      <td>2016-06-21 04:06:50 +0000</td>\n",
       "      <td>NaN</td>\n",
       "      <td>/5</td>\n",
       "      <td>4.5</td>\n",
       "      <td>makemytrip</td>\n",
       "      <td>NaN</td>\n",
       "      <td>NaN</td>\n",
       "      <td>78ddf880bd7937d384ff278cc5b39d6e</td>\n",
       "    </tr>\n",
       "    <tr>\n",
       "      <th>1</th>\n",
       "      <td>Near Nai Gaon</td>\n",
       "      <td>Udaipur</td>\n",
       "      <td>India</td>\n",
       "      <td>2016-06-21</td>\n",
       "      <td>{{facility}}</td>\n",
       "      <td>| Araliayas Resorts is a 3 star hotel located ...</td>\n",
       "      <td>3 star</td>\n",
       "      <td>NaN</td>\n",
       "      <td>{{value}}</td>\n",
       "      <td>no</td>\n",
       "      <td>...</td>\n",
       "      <td>Hotel</td>\n",
       "      <td>NaN</td>\n",
       "      <td>2016-06-21 04:06:50 +0000</td>\n",
       "      <td>NaN</td>\n",
       "      <td>/5</td>\n",
       "      <td>4.5</td>\n",
       "      <td>makemytrip</td>\n",
       "      <td>NaN</td>\n",
       "      <td>NaN</td>\n",
       "      <td>9f9f9cbb2f7df8089b63d5cdeb257944</td>\n",
       "    </tr>\n",
       "    <tr>\n",
       "      <th>2</th>\n",
       "      <td>Near Bagore Ki Haveli</td>\n",
       "      <td>Udaipur</td>\n",
       "      <td>India</td>\n",
       "      <td>2016-06-21</td>\n",
       "      <td>{{facility}}</td>\n",
       "      <td>|A 2 star property is located at 24 km from Ma...</td>\n",
       "      <td>2 star</td>\n",
       "      <td>NaN</td>\n",
       "      <td>{{value}}</td>\n",
       "      <td>no</td>\n",
       "      <td>...</td>\n",
       "      <td>Hotel</td>\n",
       "      <td>NaN</td>\n",
       "      <td>2016-06-21 04:06:50 +0000</td>\n",
       "      <td>NaN</td>\n",
       "      <td>/5</td>\n",
       "      <td>NaN</td>\n",
       "      <td>makemytrip</td>\n",
       "      <td>NaN</td>\n",
       "      <td>NaN</td>\n",
       "      <td>b314bb7fa8bfb1ed306f517be21d729e</td>\n",
       "    </tr>\n",
       "    <tr>\n",
       "      <th>3</th>\n",
       "      <td>Dabok</td>\n",
       "      <td>Udaipur</td>\n",
       "      <td>India</td>\n",
       "      <td>2016-06-21</td>\n",
       "      <td>Airport Transfer|Car rental|Conference Hall|Cu...</td>\n",
       "      <td>|SNP House Airport Hotel And Restaurant is loa...</td>\n",
       "      <td>1 star</td>\n",
       "      <td>//imghtlak.mmtcdn.com/images/hotels/2014071815...</td>\n",
       "      <td>NaN</td>\n",
       "      <td>no</td>\n",
       "      <td>...</td>\n",
       "      <td>Hotel</td>\n",
       "      <td>NaN</td>\n",
       "      <td>2016-06-21 04:06:50 +0000</td>\n",
       "      <td>`standard</td>\n",
       "      <td>/5</td>\n",
       "      <td>NaN</td>\n",
       "      <td>makemytrip</td>\n",
       "      <td>NaN</td>\n",
       "      <td>NaN</td>\n",
       "      <td>e6f5bb3c2d76a78d978b9ceb0e31ec56</td>\n",
       "    </tr>\n",
       "    <tr>\n",
       "      <th>4</th>\n",
       "      <td>East Udaipur</td>\n",
       "      <td>Udaipur</td>\n",
       "      <td>India</td>\n",
       "      <td>2016-06-21</td>\n",
       "      <td>{{facility}}</td>\n",
       "      <td>| Hotel Pichola Haveli is situated in the beau...</td>\n",
       "      <td>2 star</td>\n",
       "      <td>NaN</td>\n",
       "      <td>{{value}}</td>\n",
       "      <td>no</td>\n",
       "      <td>...</td>\n",
       "      <td>Hotel</td>\n",
       "      <td>NaN</td>\n",
       "      <td>2016-06-21 04:06:50 +0000</td>\n",
       "      <td>NaN</td>\n",
       "      <td>/5</td>\n",
       "      <td>3.7</td>\n",
       "      <td>makemytrip</td>\n",
       "      <td>NaN</td>\n",
       "      <td>NaN</td>\n",
       "      <td>63072c301427b6ca450d31eea127bcf0</td>\n",
       "    </tr>\n",
       "  </tbody>\n",
       "</table>\n",
       "<p>5 rows × 33 columns</p>\n",
       "</div>"
      ],
      "text/plain": [
       "                    area     city country  crawl_date  \\\n",
       "0      Hardasji Ki Magri  Udaipur   India  2016-06-21   \n",
       "1          Near Nai Gaon  Udaipur   India  2016-06-21   \n",
       "2  Near Bagore Ki Haveli  Udaipur   India  2016-06-21   \n",
       "3                  Dabok  Udaipur   India  2016-06-21   \n",
       "4           East Udaipur  Udaipur   India  2016-06-21   \n",
       "\n",
       "                                     highlight_value  \\\n",
       "0                                       {{facility}}   \n",
       "1                                       {{facility}}   \n",
       "2                                       {{facility}}   \n",
       "3  Airport Transfer|Car rental|Conference Hall|Cu...   \n",
       "4                                       {{facility}}   \n",
       "\n",
       "                                      hotel_overview hotel_star_rating  \\\n",
       "0  |Zion Home Stay is located in a city that sets...            1 star   \n",
       "1  | Araliayas Resorts is a 3 star hotel located ...            3 star   \n",
       "2  |A 2 star property is located at 24 km from Ma...            2 star   \n",
       "3  |SNP House Airport Hotel And Restaurant is loa...            1 star   \n",
       "4  | Hotel Pichola Haveli is situated in the beau...            2 star   \n",
       "\n",
       "                                          image_urls in_your_room  \\\n",
       "0                                                NaN    {{value}}   \n",
       "1                                                NaN    {{value}}   \n",
       "2                                                NaN    {{value}}   \n",
       "3  //imghtlak.mmtcdn.com/images/hotels/2014071815...          NaN   \n",
       "4                                                NaN    {{value}}   \n",
       "\n",
       "  is_value_plus  ...  property_type  qts           query_time_stamp  \\\n",
       "0            no  ...          Hotel  NaN  2016-06-21 04:06:50 +0000   \n",
       "1            no  ...          Hotel  NaN  2016-06-21 04:06:50 +0000   \n",
       "2            no  ...          Hotel  NaN  2016-06-21 04:06:50 +0000   \n",
       "3            no  ...          Hotel  NaN  2016-06-21 04:06:50 +0000   \n",
       "4            no  ...          Hotel  NaN  2016-06-21 04:06:50 +0000   \n",
       "\n",
       "  room_types  site_review_count site_review_rating    sitename state  \\\n",
       "0        NaN                 /5                4.5  makemytrip   NaN   \n",
       "1        NaN                 /5                4.5  makemytrip   NaN   \n",
       "2        NaN                 /5                NaN  makemytrip   NaN   \n",
       "3  `standard                 /5                NaN  makemytrip   NaN   \n",
       "4        NaN                 /5                3.7  makemytrip   NaN   \n",
       "\n",
       "   traveller_rating                           uniq_id  \n",
       "0               NaN  78ddf880bd7937d384ff278cc5b39d6e  \n",
       "1               NaN  9f9f9cbb2f7df8089b63d5cdeb257944  \n",
       "2               NaN  b314bb7fa8bfb1ed306f517be21d729e  \n",
       "3               NaN  e6f5bb3c2d76a78d978b9ceb0e31ec56  \n",
       "4               NaN  63072c301427b6ca450d31eea127bcf0  \n",
       "\n",
       "[5 rows x 33 columns]"
      ]
     },
     "execution_count": 3,
     "metadata": {},
     "output_type": "execute_result"
    }
   ],
   "source": [
    "data.head()"
   ]
  },
  {
   "cell_type": "code",
   "execution_count": 4,
   "id": "7f206759",
   "metadata": {},
   "outputs": [
    {
     "data": {
      "text/plain": [
       "NewDelhiAndNCR    1163\n",
       "Goa               1122\n",
       "Mumbai             543\n",
       "Jaipur             534\n",
       "Bangalore          512\n",
       "                  ... \n",
       "Kollur               1\n",
       "Madla                1\n",
       "Jeypore              1\n",
       "Jispa                1\n",
       "Haldia               1\n",
       "Name: city, Length: 770, dtype: int64"
      ]
     },
     "execution_count": 4,
     "metadata": {},
     "output_type": "execute_result"
    }
   ],
   "source": [
    "data.city.value_counts()"
   ]
  },
  {
   "cell_type": "code",
   "execution_count": 5,
   "id": "19585483",
   "metadata": {},
   "outputs": [
    {
     "data": {
      "text/plain": [
       "(20000, 33)"
      ]
     },
     "execution_count": 5,
     "metadata": {},
     "output_type": "execute_result"
    }
   ],
   "source": [
    "data.shape"
   ]
  },
  {
   "cell_type": "code",
   "execution_count": 6,
   "id": "55c555a7",
   "metadata": {},
   "outputs": [],
   "source": [
    "array=['Mumbai']\n",
    "data=data.loc[data['city'].isin(array)]"
   ]
  },
  {
   "cell_type": "code",
   "execution_count": 7,
   "id": "79549cde",
   "metadata": {},
   "outputs": [
    {
     "data": {
      "text/html": [
       "<div>\n",
       "<style scoped>\n",
       "    .dataframe tbody tr th:only-of-type {\n",
       "        vertical-align: middle;\n",
       "    }\n",
       "\n",
       "    .dataframe tbody tr th {\n",
       "        vertical-align: top;\n",
       "    }\n",
       "\n",
       "    .dataframe thead th {\n",
       "        text-align: right;\n",
       "    }\n",
       "</style>\n",
       "<table border=\"1\" class=\"dataframe\">\n",
       "  <thead>\n",
       "    <tr style=\"text-align: right;\">\n",
       "      <th></th>\n",
       "      <th>area</th>\n",
       "      <th>city</th>\n",
       "      <th>country</th>\n",
       "      <th>crawl_date</th>\n",
       "      <th>highlight_value</th>\n",
       "      <th>hotel_overview</th>\n",
       "      <th>hotel_star_rating</th>\n",
       "      <th>image_urls</th>\n",
       "      <th>in_your_room</th>\n",
       "      <th>is_value_plus</th>\n",
       "      <th>...</th>\n",
       "      <th>property_type</th>\n",
       "      <th>qts</th>\n",
       "      <th>query_time_stamp</th>\n",
       "      <th>room_types</th>\n",
       "      <th>site_review_count</th>\n",
       "      <th>site_review_rating</th>\n",
       "      <th>sitename</th>\n",
       "      <th>state</th>\n",
       "      <th>traveller_rating</th>\n",
       "      <th>uniq_id</th>\n",
       "    </tr>\n",
       "  </thead>\n",
       "  <tbody>\n",
       "    <tr>\n",
       "      <th>294</th>\n",
       "      <td>Charai</td>\n",
       "      <td>Mumbai</td>\n",
       "      <td>India</td>\n",
       "      <td>2016-08-28</td>\n",
       "      <td>Doctor on Call|Front desk|Laundry Service|Park...</td>\n",
       "      <td>Nestled in Mumbai, a city with strong historic...</td>\n",
       "      <td>3</td>\n",
       "      <td>NaN</td>\n",
       "      <td>Bathroom Toiletries|Attached Bathroom|Hot &amp; Co...</td>\n",
       "      <td>no</td>\n",
       "      <td>...</td>\n",
       "      <td>Hotel</td>\n",
       "      <td>2016-08-28 16:13:39 +0000</td>\n",
       "      <td>2016-08-28 16:13:39 +0000</td>\n",
       "      <td>Ac Superior Room|A/c Standard Rooms Double Occ...</td>\n",
       "      <td>NaN</td>\n",
       "      <td>NaN</td>\n",
       "      <td>makemytrip</td>\n",
       "      <td>Maharashtra</td>\n",
       "      <td>NaN</td>\n",
       "      <td>d78fae90ef2e1b5c2dfd547c61763a25</td>\n",
       "    </tr>\n",
       "    <tr>\n",
       "      <th>309</th>\n",
       "      <td>Andheri (East)</td>\n",
       "      <td>Mumbai</td>\n",
       "      <td>India</td>\n",
       "      <td>2016-08-28</td>\n",
       "      <td>Air Conditioned|Airport Transfer|Conference Ha...</td>\n",
       "      <td>3 km from Chhatrapati Shivaji International Ai...</td>\n",
       "      <td>2</td>\n",
       "      <td>NaN</td>\n",
       "      <td>Bathroom Toiletries|Daily Newspaper|Kitchenett...</td>\n",
       "      <td>no</td>\n",
       "      <td>...</td>\n",
       "      <td>Hotel</td>\n",
       "      <td>2016-08-28 16:13:39 +0000</td>\n",
       "      <td>2016-08-28 16:13:39 +0000</td>\n",
       "      <td>Executive|Deluxe</td>\n",
       "      <td>NaN</td>\n",
       "      <td>NaN</td>\n",
       "      <td>makemytrip</td>\n",
       "      <td>Maharasta</td>\n",
       "      <td>Location:3.2/5 | Hospitality:3.1/5 | Facilitie...</td>\n",
       "      <td>030865f741982beb373efddecdc6d6c3</td>\n",
       "    </tr>\n",
       "    <tr>\n",
       "      <th>321</th>\n",
       "      <td>Khar</td>\n",
       "      <td>Mumbai</td>\n",
       "      <td>India</td>\n",
       "      <td>2016-08-28</td>\n",
       "      <td>Airport/Rlwy Stn Transfer|Bar|Conference Hall|...</td>\n",
       "      <td>Location Hotel Royal Garden is situated on Juh...</td>\n",
       "      <td>3</td>\n",
       "      <td>NaN</td>\n",
       "      <td>Electronic Safe|Bathroom Toiletries|Daily News...</td>\n",
       "      <td>no</td>\n",
       "      <td>...</td>\n",
       "      <td>Hotel</td>\n",
       "      <td>2016-08-28 16:13:39 +0000</td>\n",
       "      <td>2016-08-28 16:13:39 +0000</td>\n",
       "      <td>Superior Executive</td>\n",
       "      <td>NaN</td>\n",
       "      <td>NaN</td>\n",
       "      <td>makemytrip</td>\n",
       "      <td>Maharashtra</td>\n",
       "      <td>Location:4.5/5 | Hospitality:3.4/5 | Facilitie...</td>\n",
       "      <td>a1ced509350038775a7700ec67796bc2</td>\n",
       "    </tr>\n",
       "    <tr>\n",
       "      <th>334</th>\n",
       "      <td>Andheri (East)</td>\n",
       "      <td>Mumbai</td>\n",
       "      <td>India</td>\n",
       "      <td>2016-08-28</td>\n",
       "      <td>24 Hour Check in-Icon|24 hour reception|24 hou...</td>\n",
       "      <td>City Guest House is a beautiful property locat...</td>\n",
       "      <td>2</td>\n",
       "      <td>NaN</td>\n",
       "      <td>Bathroom Toiletries|Hot/cold Water|Attached Ba...</td>\n",
       "      <td>no</td>\n",
       "      <td>...</td>\n",
       "      <td>Hotel</td>\n",
       "      <td>2016-08-28 16:13:39 +0000</td>\n",
       "      <td>2016-08-28 16:13:39 +0000</td>\n",
       "      <td>Standard Room|Deluxe Room|Triple Deluxe Room|S...</td>\n",
       "      <td>NaN</td>\n",
       "      <td>NaN</td>\n",
       "      <td>makemytrip</td>\n",
       "      <td>Maharashtra</td>\n",
       "      <td>Location:4.3/5 | Hospitality:3.8/5 | Facilitie...</td>\n",
       "      <td>f2820ae7707668ed6906bb227921f720</td>\n",
       "    </tr>\n",
       "    <tr>\n",
       "      <th>1238</th>\n",
       "      <td>Andheri (East)</td>\n",
       "      <td>Mumbai</td>\n",
       "      <td>NaN</td>\n",
       "      <td>2016-08-22</td>\n",
       "      <td>24 Hour Check in-Icon|24 hour reception|24 hou...</td>\n",
       "      <td>Sai Residency Hotel is situated in the City of...</td>\n",
       "      <td>2</td>\n",
       "      <td>NaN</td>\n",
       "      <td>Bathroom Toiletries|Attached Bathroom|Hot &amp; Co...</td>\n",
       "      <td>no</td>\n",
       "      <td>...</td>\n",
       "      <td>Hotel</td>\n",
       "      <td>2016-08-22 22:10:53 +0000</td>\n",
       "      <td>2016-08-22 22:10:53 +0000</td>\n",
       "      <td>Deluxe Dbl Air Cooled</td>\n",
       "      <td>NaN</td>\n",
       "      <td>NaN</td>\n",
       "      <td>makemytrip</td>\n",
       "      <td>MAHARASHTRA</td>\n",
       "      <td>NaN</td>\n",
       "      <td>b4af24952027ffbcd85a91bb6fe23f5d</td>\n",
       "    </tr>\n",
       "  </tbody>\n",
       "</table>\n",
       "<p>5 rows × 33 columns</p>\n",
       "</div>"
      ],
      "text/plain": [
       "                area    city country  crawl_date  \\\n",
       "294           Charai  Mumbai   India  2016-08-28   \n",
       "309   Andheri (East)  Mumbai   India  2016-08-28   \n",
       "321             Khar  Mumbai   India  2016-08-28   \n",
       "334   Andheri (East)  Mumbai   India  2016-08-28   \n",
       "1238  Andheri (East)  Mumbai     NaN  2016-08-22   \n",
       "\n",
       "                                        highlight_value  \\\n",
       "294   Doctor on Call|Front desk|Laundry Service|Park...   \n",
       "309   Air Conditioned|Airport Transfer|Conference Ha...   \n",
       "321   Airport/Rlwy Stn Transfer|Bar|Conference Hall|...   \n",
       "334   24 Hour Check in-Icon|24 hour reception|24 hou...   \n",
       "1238  24 Hour Check in-Icon|24 hour reception|24 hou...   \n",
       "\n",
       "                                         hotel_overview hotel_star_rating  \\\n",
       "294   Nestled in Mumbai, a city with strong historic...                 3   \n",
       "309   3 km from Chhatrapati Shivaji International Ai...                 2   \n",
       "321   Location Hotel Royal Garden is situated on Juh...                 3   \n",
       "334   City Guest House is a beautiful property locat...                 2   \n",
       "1238  Sai Residency Hotel is situated in the City of...                 2   \n",
       "\n",
       "     image_urls                                       in_your_room  \\\n",
       "294         NaN  Bathroom Toiletries|Attached Bathroom|Hot & Co...   \n",
       "309         NaN  Bathroom Toiletries|Daily Newspaper|Kitchenett...   \n",
       "321         NaN  Electronic Safe|Bathroom Toiletries|Daily News...   \n",
       "334         NaN  Bathroom Toiletries|Hot/cold Water|Attached Ba...   \n",
       "1238        NaN  Bathroom Toiletries|Attached Bathroom|Hot & Co...   \n",
       "\n",
       "     is_value_plus  ...  property_type                        qts  \\\n",
       "294             no  ...          Hotel  2016-08-28 16:13:39 +0000   \n",
       "309             no  ...          Hotel  2016-08-28 16:13:39 +0000   \n",
       "321             no  ...          Hotel  2016-08-28 16:13:39 +0000   \n",
       "334             no  ...          Hotel  2016-08-28 16:13:39 +0000   \n",
       "1238            no  ...          Hotel  2016-08-22 22:10:53 +0000   \n",
       "\n",
       "               query_time_stamp  \\\n",
       "294   2016-08-28 16:13:39 +0000   \n",
       "309   2016-08-28 16:13:39 +0000   \n",
       "321   2016-08-28 16:13:39 +0000   \n",
       "334   2016-08-28 16:13:39 +0000   \n",
       "1238  2016-08-22 22:10:53 +0000   \n",
       "\n",
       "                                             room_types  site_review_count  \\\n",
       "294   Ac Superior Room|A/c Standard Rooms Double Occ...                NaN   \n",
       "309                                    Executive|Deluxe                NaN   \n",
       "321                                  Superior Executive                NaN   \n",
       "334   Standard Room|Deluxe Room|Triple Deluxe Room|S...                NaN   \n",
       "1238                              Deluxe Dbl Air Cooled                NaN   \n",
       "\n",
       "     site_review_rating    sitename        state  \\\n",
       "294                 NaN  makemytrip  Maharashtra   \n",
       "309                 NaN  makemytrip    Maharasta   \n",
       "321                 NaN  makemytrip  Maharashtra   \n",
       "334                 NaN  makemytrip  Maharashtra   \n",
       "1238                NaN  makemytrip  MAHARASHTRA   \n",
       "\n",
       "                                       traveller_rating  \\\n",
       "294                                                 NaN   \n",
       "309   Location:3.2/5 | Hospitality:3.1/5 | Facilitie...   \n",
       "321   Location:4.5/5 | Hospitality:3.4/5 | Facilitie...   \n",
       "334   Location:4.3/5 | Hospitality:3.8/5 | Facilitie...   \n",
       "1238                                                NaN   \n",
       "\n",
       "                               uniq_id  \n",
       "294   d78fae90ef2e1b5c2dfd547c61763a25  \n",
       "309   030865f741982beb373efddecdc6d6c3  \n",
       "321   a1ced509350038775a7700ec67796bc2  \n",
       "334   f2820ae7707668ed6906bb227921f720  \n",
       "1238  b4af24952027ffbcd85a91bb6fe23f5d  \n",
       "\n",
       "[5 rows x 33 columns]"
      ]
     },
     "execution_count": 7,
     "metadata": {},
     "output_type": "execute_result"
    }
   ],
   "source": [
    "data.head()"
   ]
  },
  {
   "cell_type": "code",
   "execution_count": 8,
   "id": "fc247aad",
   "metadata": {},
   "outputs": [],
   "source": [
    "data=data.hotel_overview"
   ]
  },
  {
   "cell_type": "code",
   "execution_count": 9,
   "id": "fbbf7d92",
   "metadata": {},
   "outputs": [
    {
     "data": {
      "text/plain": [
       "53"
      ]
     },
     "execution_count": 9,
     "metadata": {},
     "output_type": "execute_result"
    }
   ],
   "source": [
    "data.isna().sum()"
   ]
  },
  {
   "cell_type": "code",
   "execution_count": 10,
   "id": "ecd327a6",
   "metadata": {},
   "outputs": [
    {
     "data": {
      "text/plain": [
       "0"
      ]
     },
     "execution_count": 10,
     "metadata": {},
     "output_type": "execute_result"
    }
   ],
   "source": [
    "data.dropna(inplace=True)\n",
    "data.isna().sum()"
   ]
  },
  {
   "cell_type": "code",
   "execution_count": 11,
   "id": "c35bda00",
   "metadata": {},
   "outputs": [
    {
     "data": {
      "text/plain": [
       "'Nestled in Mumbai, a city with strong historical links, wonderful British architecture, museums, beaches, places of worship, and above all, a true galaxy of stars where Bollywood reigns supreme. The Hotel Divya International is a delightful leisure with an absolute blend of service, charm and efficiency. The hotel offers facilities like front desk, parking, laundry, doctor on call and many more. It aims to extend the best possible hospitality experience to all its revered customers. The hotel is located at a distance of 350 m from S.T Workshop Bus Stop, 22.5 km from Chhatrapati Shivaji International Airport and 37.1 km from Chhatrapati Shivaji Terminus. The guests can head to prominent tourist attractions like Sanjay Gandhi National Park, KidZania Mumbai, Haji Ali Mosque, Iskon Temple, Shree Siddhivinayak Temple and many more. Shoppers can have fun filled shopping experience shopping at Viviana Mall(1.7 km). Food lovers can visit nearby restaurants to try local delights. The hotel has well appointed rooms that will appeal to piligrims,business guests as well as to leisure travelers seeking a relaxing trip. The rooms of the hotel are fully furnished and spacious. They are equipped with telephone, wardrobes and comfortable beds. They have neat and clean bathrooms with essential bathrooms amenities. Have a memorable stay at Hotel Divya International!'"
      ]
     },
     "execution_count": 11,
     "metadata": {},
     "output_type": "execute_result"
    }
   ],
   "source": [
    "data.iloc[0]"
   ]
  },
  {
   "cell_type": "code",
   "execution_count": 12,
   "id": "2bca20fb",
   "metadata": {},
   "outputs": [
    {
     "name": "stdout",
     "output_type": "stream",
     "text": [
      "{\"doesn't\", 'm', 'now', \"hadn't\", 'himself', 'so', 'having', 'than', 'while', 'do', \"mightn't\", 'am', 'ma', 'mustn', 've', 'before', 'can', 'that', 'above', 'here', 'won', 'each', 'y', 'other', 'have', 'ours', \"you'd\", 'yourself', 'at', 'they', \"you're\", 'such', 'them', 'those', \"won't\", \"isn't\", 'doesn', 'there', 'all', 'their', 'to', 'yourselves', 'what', 'will', 'it', 'again', 'because', \"mustn't\", 'or', 'should', 'been', 'just', 'did', \"needn't\", 'shan', \"should've\", 'more', 'has', 'until', \"didn't\", 'your', 'my', 'herself', 'needn', 'being', 'then', 'ain', 'hadn', \"shan't\", 'doing', 'her', 'i', 'for', 'nor', 'o', 'with', 'don', 'a', 'most', 'him', \"haven't\", 'had', 'he', 'yours', 'some', \"don't\", 'its', 'any', 'hasn', 'only', 'is', 'once', 'wasn', 'if', 'down', 'who', 'during', 'she', 'off', 'theirs', 's', 'between', 'where', 'couldn', 'were', 'further', 'over', 't', 'and', 'haven', 'are', 'of', 'but', 'both', 'too', \"wasn't\", 'isn', 'through', 'in', 'under', 'we', 'mightn', 'same', 'not', 'myself', 'out', \"wouldn't\", 'whom', 'was', 'wouldn', 'few', 'me', \"shouldn't\", 'why', 'which', 'by', 'weren', 're', 'll', 'hers', 'our', 'you', 'an', 'about', 'didn', 'from', \"hasn't\", 'his', 'up', \"that'll\", \"weren't\", 'own', 'very', 'd', \"couldn't\", \"aren't\", 'when', \"she's\", 'how', 'be', 'below', 'into', 'no', 'aren', \"it's\", 'this', 'after', 'ourselves', 'the', 'shouldn', 'these', 'against', 'themselves', \"you've\", 'as', \"you'll\", 'itself', 'does', 'on'}\n"
     ]
    }
   ],
   "source": [
    "stop=set(stopwords.words('english'))\n",
    "print(stop)"
   ]
  },
  {
   "cell_type": "code",
   "execution_count": 13,
   "id": "46a340c1",
   "metadata": {},
   "outputs": [
    {
     "data": {
      "text/plain": [
       "294     Nestled in Mumbai, a city with strong historic...\n",
       "309     3 km from Chhatrapati Shivaji International Ai...\n",
       "321     Location Hotel Royal Garden is situated on Juh...\n",
       "334     City Guest House is a beautiful property locat...\n",
       "1238    Sai Residency Hotel is situated in the City of...\n",
       "Name: hotel_overview, dtype: object"
      ]
     },
     "execution_count": 13,
     "metadata": {},
     "output_type": "execute_result"
    }
   ],
   "source": [
    "data.head()"
   ]
  },
  {
   "cell_type": "code",
   "execution_count": 14,
   "id": "7b6f9a55",
   "metadata": {},
   "outputs": [],
   "source": [
    "def stopwords_removal(data_point):\n",
    "    data=[x for x in data_point.split() if x not in stop]\n",
    "    return data"
   ]
  },
  {
   "cell_type": "code",
   "execution_count": 15,
   "id": "6d48d797",
   "metadata": {},
   "outputs": [],
   "source": [
    "def clean_data(data):\n",
    "    cleaned_data=[]\n",
    "    all_unique_words_in_each_description=[]\n",
    "    for entry in data:\n",
    "        entry = re.sub(pattern='[^a-zA-Z]',repl=' ',string = entry)\n",
    "        entry = re.sub(r'\\b\\w{0,1}\\b', repl=' ',string = entry)\n",
    "        entry = entry.lower()\n",
    "        entry = stopwords_removal(entry)\n",
    "        cleaned_data.append(entry)\n",
    "        unique = list(set(entry))\n",
    "        all_unique_words_in_each_description.extend(unique)\n",
    "    return cleaned_data, all_unique_words_in_each_description"
   ]
  },
  {
   "cell_type": "code",
   "execution_count": 16,
   "id": "c8621bc6",
   "metadata": {},
   "outputs": [],
   "source": [
    "def unique_words(data):\n",
    "    unique_words = set(data)\n",
    "    return unique_words, len(unique_words)"
   ]
  },
  {
   "cell_type": "code",
   "execution_count": 17,
   "id": "d59752ed",
   "metadata": {},
   "outputs": [],
   "source": [
    "cleaned_data, all_unique_words_in_each_description = clean_data(data)\n",
    "unique_words, length_of_unique_words = unique_words(all_unique_words_in_each_description)"
   ]
  },
  {
   "cell_type": "code",
   "execution_count": 18,
   "id": "2a735e7c",
   "metadata": {},
   "outputs": [
    {
     "name": "stdout",
     "output_type": "stream",
     "text": [
      "['nestled', 'mumbai', 'city', 'strong', 'historical', 'links', 'wonderful', 'british', 'architecture', 'museums', 'beaches', 'places', 'worship', 'true', 'galaxy', 'stars', 'bollywood', 'reigns', 'supreme', 'hotel', 'divya', 'international', 'delightful', 'leisure', 'absolute', 'blend', 'service', 'charm', 'efficiency', 'hotel', 'offers', 'facilities', 'like', 'front', 'desk', 'parking', 'laundry', 'doctor', 'call', 'many', 'aims', 'extend', 'best', 'possible', 'hospitality', 'experience', 'revered', 'customers', 'hotel', 'located', 'distance', 'workshop', 'bus', 'stop', 'km', 'chhatrapati', 'shivaji', 'international', 'airport', 'km', 'chhatrapati', 'shivaji', 'terminus', 'guests', 'head', 'prominent', 'tourist', 'attractions', 'like', 'sanjay', 'gandhi', 'national', 'park', 'kidzania', 'mumbai', 'haji', 'ali', 'mosque', 'iskon', 'temple', 'shree', 'siddhivinayak', 'temple', 'many', 'shoppers', 'fun', 'filled', 'shopping', 'experience', 'shopping', 'viviana', 'mall', 'km', 'food', 'lovers', 'visit', 'nearby', 'restaurants', 'try', 'local', 'delights', 'hotel', 'well', 'appointed', 'rooms', 'appeal', 'piligrims', 'business', 'guests', 'well', 'leisure', 'travelers', 'seeking', 'relaxing', 'trip', 'rooms', 'hotel', 'fully', 'furnished', 'spacious', 'equipped', 'telephone', 'wardrobes', 'comfortable', 'beds', 'neat', 'clean', 'bathrooms', 'essential', 'bathrooms', 'amenities', 'memorable', 'stay', 'hotel', 'divya', 'international']\n"
     ]
    }
   ],
   "source": [
    "print(cleaned_data[0])"
   ]
  },
  {
   "cell_type": "code",
   "execution_count": 19,
   "id": "ea68492d",
   "metadata": {},
   "outputs": [
    {
     "data": {
      "text/plain": [
       "3395"
      ]
     },
     "execution_count": 19,
     "metadata": {},
     "output_type": "execute_result"
    }
   ],
   "source": [
    "length_of_unique_words"
   ]
  },
  {
   "cell_type": "code",
   "execution_count": 20,
   "id": "e9afee50",
   "metadata": {},
   "outputs": [],
   "source": [
    "def build_indices(unique_words):\n",
    "    word_to_idx = {}\n",
    "    idx_to_word = {}\n",
    "    for i, word in enumerate(unique_words):\n",
    "        word_to_idx[word] = i\n",
    "        idx_to_word[i] = word\n",
    "    return word_to_idx, idx_to_word"
   ]
  },
  {
   "cell_type": "code",
   "execution_count": 21,
   "id": "62c4e06c",
   "metadata": {},
   "outputs": [
    {
     "name": "stdout",
     "output_type": "stream",
     "text": [
      "{0: 'mumbais', 1: 'ratnagiri', 2: 'reflect', 3: 'parle', 4: 'technical', 5: 'bottle', 6: 'weighing', 7: 'important', 8: 'window', 9: 'comfortable', 10: 'stepping', 11: 'excellently', 12: 'recreation', 13: 'size', 14: 'mesmerizing', 15: 'walks', 16: 'sober', 17: 'driven', 18: 'hills', 19: 'arts', 20: 'gadgets', 21: 'japanese', 22: 'neutrals', 23: 'areas', 24: 'dose', 25: 'districts', 26: 'stardust', 27: 'charismatic', 28: 'massages', 29: 'architectures', 30: 'government', 31: 'sit', 32: 'visiting', 33: 'includes', 34: 'fabulously', 35: 'oritel', 36: 'synagouge', 37: 'colourful', 38: 'temples', 39: 'ice', 40: 'phone', 41: 'bustle', 42: 'anchor', 43: 'nationalities', 44: 'chowpatty', 45: 'covers', 46: 'populous', 47: 'comes', 48: 'exclusivity', 49: 'years', 50: 'future', 51: 'possible', 52: 'excursions', 53: 'regal', 54: 'parkway', 55: 'availing', 56: 'big', 57: 'boxes', 58: 'fulfil', 59: 'east', 60: 'exclusively', 61: 'blended', 62: 'session', 63: 'magnet', 64: 'orchid', 65: 'additional', 66: 'plaza', 67: 'long', 68: 'cleanliness', 69: 'customs', 70: 'redefines', 71: 'barc', 72: 'friday', 73: 'gandhi', 74: 'cooker', 75: 'work', 76: 'serve', 77: 'pickup', 78: 'vashi', 79: 'highway', 80: 'emanates', 81: 'soups', 82: 'liquors', 83: 'pan', 84: 'chandivali', 85: 'kitchens', 86: 'shine', 87: 'reliable', 88: 'silver', 89: 'stores', 90: 'pocket', 91: 'pilgrimage', 92: 'attention', 93: 'design', 94: 'salsette', 95: 'terrace', 96: 'seafood', 97: 'impeccable', 98: 'shrines', 99: 'tour', 100: 'takes', 101: 'pali', 102: 'beddng', 103: 'high', 104: 'foot', 105: 'raghuleela', 106: 'sony', 107: 'amount', 108: 'daily', 109: 'soft', 110: 'towels', 111: 'spots', 112: 'sarovar', 113: 'myth', 114: 'essential', 115: 'ordered', 116: 'permanent', 117: 'surya', 118: 'families', 119: 'gas', 120: 'savvy', 121: 'shah', 122: 'printing', 123: 'restaurant', 124: 'kishish', 125: 'lodging', 126: 'specialises', 127: 'ekta', 128: 'coral', 129: 'benefit', 130: 'looked', 131: 'professional', 132: 'oyster', 133: 'timely', 134: 'witness', 135: 'karan', 136: 'gates', 137: 'pleasures', 138: 'mocktails', 139: 'sunshine', 140: 'asalfa', 141: 'grace', 142: 'foreign', 143: 'grant', 144: 'demands', 145: 'dum', 146: 'midc', 147: 'pondicherry', 148: 'balance', 149: 'adequate', 150: 'appealing', 151: 'use', 152: 'wardrobes', 153: 'family', 154: 'cricket', 155: 'start', 156: 'palkhee', 157: 'globe', 158: 'rate', 159: 'vihangs', 160: 'sarika', 161: 'nariman', 162: 'corporate', 163: 'world', 164: 'arnala', 165: 'la', 166: 'trying', 167: 'nxtgen', 168: 'paintings', 169: 'holding', 170: 'mumbai', 171: 'nightclub', 172: 'sparkling', 173: 'nehru', 174: 'cook', 175: 'visit', 176: 'frightened', 177: 'bonaventure', 178: 'hustle', 179: 'suburban', 180: 'br', 181: 'relax', 182: 'clientele', 183: 'italian', 184: 'projectors', 185: 'promising', 186: 'splendors', 187: 'shad', 188: 'spirits', 189: 'spaces', 190: 'kind', 191: 'specialities', 192: 'ii', 193: 'authentic', 194: 'papershower', 195: 'five', 196: 'arcade', 197: 'furnishings', 198: 'seasons', 199: 'beyond', 200: 'cold', 201: 'spreads', 202: 'sun', 203: 'discover', 204: 'commonly', 205: 'hinduja', 206: 'harmony', 207: 'beds', 208: 'indoor', 209: 'raaga', 210: 'olive', 211: 'toiletaries', 212: 'chance', 213: 'oh', 214: 'pubs', 215: 'wednesdays', 216: 'philosophies', 217: 'ksm', 218: 'standstill', 219: 'tungareshwar', 220: 'degrees', 221: 'embellished', 222: 'higher', 223: 'toilets', 224: 'saudia', 225: 'included', 226: 'textured', 227: 'came', 228: 'urbanism', 229: 'hour', 230: 'island', 231: 'sophisticated', 232: 'vuitton', 233: 'retreat', 234: 'cinnamon', 235: 'dialing', 236: 'decker', 237: 'lonavala', 238: 'wills', 239: 'equipped', 240: 'opera', 241: 'diplomat', 242: 'dialling', 243: 'complex', 244: 'clear', 245: 'accompanied', 246: 'sukh', 247: 'zodiac', 248: 'monument', 249: 'maroshi', 250: 'winter', 251: 'capture', 252: 'ayyappa', 253: 'wing', 254: 'indus', 255: 'hotels', 256: 'nearby', 257: 'lip', 258: 'advanced', 259: 'built', 260: 'table', 261: 'sana', 262: 'gardens', 263: 'dwellers', 264: 'bungalows', 265: 'kulfi', 266: 'kebabs', 267: 'risotto', 268: 'tickle', 269: 'social', 270: 'airoli', 271: 'consciousness', 272: 'tomb', 273: 'banquet', 274: 'zegna', 275: 'revered', 276: 'dine', 277: 'cafe', 278: 'avoid', 279: 'facilitate', 280: 'international', 281: 'buds', 282: 'eminent', 283: 'touch', 284: 'coach', 285: 'renders', 286: 'elegance', 287: 'express', 288: 'large', 289: 'bhayander', 290: 'sites', 291: 'kilometre', 292: 'spend', 293: 'stocks', 294: 'stocked', 295: 'calm', 296: 'renovation', 297: 'mist', 298: 'wooden', 299: 'life', 300: 'applying', 301: 'ness', 302: 'nest', 303: 'army', 304: 'chime', 305: 'style', 306: 'ulhasnagar', 307: 'nostradamus', 308: 'mini', 309: 'gathering', 310: 'lawn', 311: 'seanete', 312: 'chef', 313: 'neat', 314: 'transport', 315: 'dev', 316: 'kharghar', 317: 'normal', 318: 'televisions', 319: 'projector', 320: 'anjali', 321: 'sight', 322: 'installations', 323: 'attract', 324: 'called', 325: 'qunintessentially', 326: 'hall', 327: 'guest', 328: 'carefully', 329: 'tasty', 330: 'center', 331: 'trouble', 332: 'king', 333: 'hr', 334: 'designated', 335: 'provides', 336: 'whereas', 337: 'trendy', 338: 'kitab', 339: 'pleasant', 340: 'proud', 341: 'flooring', 342: 'pleasure', 343: 'qualifying', 344: 'mhape', 345: 'premiere', 346: 'immersed', 347: 'trident', 348: 'holidaymakers', 349: 'quite', 350: 'motorised', 351: 'elite', 352: 'among', 353: 'temporary', 354: 'speciality', 355: 'chakala', 356: 'aayush', 357: 'various', 358: 'collaboration', 359: 'exchange', 360: 'desert', 361: 'construction', 362: 'narrates', 363: 'excellent', 364: 'pamper', 365: 'linen', 366: 'replete', 367: 'singh', 368: 'taxi', 369: 'kabab', 370: 'residential', 371: 'clean', 372: 'beverages', 373: 'storage', 374: 'shaheed', 375: 'must', 376: 'appeal', 377: 'landmark', 378: 'arrive', 379: 'visitor', 380: 'flavorful', 381: 'pizzas', 382: 'sutra', 383: 'maya', 384: 'inch', 385: 'caprice', 386: 'renonwed', 387: 'epitome', 388: 'konkan', 389: 'offers', 390: 'opportunity', 391: 'foods', 392: 'frontier', 393: 'chilled', 394: 'prince', 395: 'parade', 396: 'flavorsome', 397: 'tangerine', 398: 'cigarettes', 399: 'march', 400: 'happy', 401: 'tucked', 402: 'lavish', 403: 'lava', 404: 'datta', 405: 'power', 406: 'setting', 407: 'merlin', 408: 'vivek', 409: 'pasta', 410: 'sumptuous', 411: 'palaces', 412: 'paper', 413: 'laundry', 414: 'direct', 415: 'resto', 416: 'contemporary', 417: 'vehicals', 418: 'check', 419: 'baithak', 420: 'supported', 421: 'desserts', 422: 'hold', 423: 'news', 424: 'mncs', 425: 'utmost', 426: 'friends', 427: 'never', 428: 'mary', 429: 'pipe', 430: 'furnished', 431: 'fern', 432: 'cooperative', 433: 'nishita', 434: 'swagat', 435: 'beautifully', 436: 'atm', 437: 'corners', 438: 'boasts', 439: 'puri', 440: 'others', 441: 'easily', 442: 'celebotary', 443: 'seasonal', 444: 'distinctive', 445: 'video', 446: 'stars', 447: 'credit', 448: 'tourists', 449: 'emanate', 450: 'shivaji', 451: 'neighbourhood', 452: 'ornate', 453: 'zenith', 454: 'crafted', 455: 'weekend', 456: 'without', 457: 'headed', 458: 'pace', 459: 'beaming', 460: 'friendly', 461: 'oleander', 462: 'times', 463: 'office', 464: 'dinner', 465: 'living', 466: 'agashi', 467: 'known', 468: 'cards', 469: 'alfa', 470: 'accustomed', 471: 'iskon', 472: 'elephanta', 473: 'house', 474: 'tariff', 475: 'venues', 476: 'naka', 477: 'minimalist', 478: 'ceremony', 479: 'nahar', 480: 'mmrda', 481: 'curators', 482: 'travellers', 483: 'rainbow', 484: 'worship', 485: 'interiors', 486: 'talao', 487: 'belapur', 488: 'availablecheck', 489: 'homely', 490: 'repeat', 491: 'tables', 492: 'magnificent', 493: 'prices', 494: 'sitting', 495: 'mahad', 496: 'bliss', 497: 'sigri', 498: 'card', 499: 'gurukrupa', 500: 'effective', 501: 'organise', 502: 'waters', 503: 'fafalia', 504: 'illusive', 505: 'leisurely', 506: 'recreational', 507: 'cons', 508: 'suit', 509: 'vijay', 510: 'facilitybar', 511: 'exotica', 512: 'gemini', 513: 'leading', 514: 'futuristic', 515: 'krishna', 516: 'pick', 517: 'kamal', 518: 'zones', 519: 'enabled', 520: 'riding', 521: 'marina', 522: 'secretarial', 523: 'largest', 524: 'union', 525: 'tranquillity', 526: 'hotelier', 527: 'subtly', 528: 'benefits', 529: 'square', 530: 'sum', 531: 'ibis', 532: 'dwelling', 533: 'diya', 534: 'kilometer', 535: 'shastrinagar', 536: 'pleasing', 537: 'parleshwar', 538: 'summit', 539: 'culture', 540: 'club', 541: 'according', 542: 'serves', 543: 'requisite', 544: 'rgit', 545: 'followed', 546: 'truly', 547: 'embark', 548: 'pastries', 549: 'ensure', 550: 'colony', 551: 'snooker', 552: 'requirements', 553: 'cozy', 554: 'waterfront', 555: 'kalp', 556: 'fridge', 557: 'feeling', 558: 'mixer', 559: 'aksa', 560: 'eateries', 561: 'president', 562: 'kamala', 563: 'implies', 564: 'brabourne', 565: 'arma', 566: 'edge', 567: 'kalimiri', 568: 'locker', 569: 'promptly', 570: 'currency', 571: 'play', 572: 'types', 573: 'need', 574: 'preferable', 575: 'prior', 576: 'hectic', 577: 'ganga', 578: 'enchanting', 579: 'peaceful', 580: 'phalke', 581: 'black', 582: 'splendid', 583: 'cars', 584: 'advantage', 585: 'slides', 586: 'industries', 587: 'join', 588: 'items', 589: 'mangaldas', 590: 'varying', 591: 'spacious', 592: 'jb', 593: 'segregation', 594: 'doctors', 595: 'kit', 596: 'eyrie', 597: 'pavilion', 598: 'technology', 599: 'evening', 600: 'beliefs', 601: 'flawless', 602: 'huge', 603: 'priyadarshyani', 604: 'joggers', 605: 'heavenly', 606: 'transit', 607: 'rack', 608: 'private', 609: 'grazia', 610: 'unmatched', 611: 'rocking', 612: 'plenty', 613: 'ethereal', 614: 'inspiring', 615: 'cover', 616: 'ashiana', 617: 'keys', 618: 'exist', 619: 'light', 620: 'mira', 621: 'offering', 622: 'vardhman', 623: 'skilled', 624: 'octopus', 625: 'general', 626: 'away', 627: 'tastebuds', 628: 'wheelchair', 629: 'sohum', 630: 'enticing', 631: 'picnic', 632: 'beatle', 633: 'facilitates', 634: 'presence', 635: 'hometel', 636: 'treat', 637: 'alfredos', 638: 'happening', 639: 'lines', 640: 'spa', 641: 'achari', 642: 'gazals', 643: 'makes', 644: 'jubilee', 645: 'cuisine', 646: 'erangal', 647: 'symphony', 648: 'films', 649: 'separate', 650: 'kumkum', 651: 'curry', 652: 'glory', 653: 'auto', 654: 'rides', 655: 'bengal', 656: 'helping', 657: 'something', 658: 'warmth', 659: 'station', 660: 'seawoods', 661: 'channel', 662: 'kfc', 663: 'warmly', 664: 'necessary', 665: 'mod', 666: 'crockery', 667: 'cooper', 668: 'book', 669: 'landscape', 670: 'extremely', 671: 'british', 672: 'arranged', 673: 'forget', 674: 'past', 675: 'satisfaction', 676: 'chosen', 677: 'split', 678: 'used', 679: 'nation', 680: 'visits', 681: 'valuables', 682: 'witnesses', 683: 'sunset', 684: 'open', 685: 'bloom', 686: 'burgers', 687: 'mall', 688: 'want', 689: 'kaya', 690: 'less', 691: 'held', 692: 'range', 693: 'feasible', 694: 'metropolitans', 695: 'added', 696: 'mahakali', 697: 'atmosphere', 698: 'forward', 699: 'daffodils', 700: 'clostes', 701: 'char', 702: 'designers', 703: 'hamar', 704: 'industry', 705: 'suitable', 706: 'vaibhav', 707: 'live', 708: 'astro', 709: 'categorised', 710: 'pieces', 711: 'fourth', 712: 'give', 713: 'ambriosa', 714: 'industrial', 715: 'cosier', 716: 'chamber', 717: 'orritel', 718: 'chinese', 719: 'till', 720: 'entrepreneurs', 721: 'lunch', 722: 'kraft', 723: 'closet', 724: 'opium', 725: 'convention', 726: 'except', 727: 'nutrients', 728: 'treats', 729: 'applied', 730: 'team', 731: 'notice', 732: 'phule', 733: 'glimpse', 734: 'energetic', 735: 'annex', 736: 'sri', 737: 'wholesome', 738: 'ethos', 739: 'revel', 740: 'aspires', 741: 'tabledaily', 742: 'renaissance', 743: 'refreshing', 744: 'stories', 745: 'hrs', 746: 'saffron', 747: 'hiranandani', 748: 'desk', 749: 'baked', 750: 'destinations', 751: 'befits', 752: 'conferencing', 753: 'discovery', 754: 'gcc', 755: 'flute', 756: 'euphoric', 757: 'indulgence', 758: 'pool', 759: 'dry', 760: 'may', 761: 'hangout', 762: 'attach', 763: 'usually', 764: 'monuments', 765: 'scale', 766: 'means', 767: 'jogeshwari', 768: 'appreciated', 769: 'dial', 770: 'cadell', 771: 'baywatch', 772: 'easy', 773: 'gold', 774: 'implausible', 775: 'pride', 776: 'sufficiently', 777: 'parts', 778: 'help', 779: 'patisserie', 780: 'apollo', 781: 'prime', 782: 'marv', 783: 'resort', 784: 'taraporewala', 785: 'roshini', 786: 'fascinating', 787: 'onwards', 788: 'proof', 789: 'true', 790: 'wink', 791: 'ace', 792: 'std', 793: 'sapna', 794: 'coastal', 795: 'jio', 796: 'thai', 797: 'lie', 798: 'experience', 799: 'mumbadevi', 800: 'suiting', 801: 'cocktail', 802: 'pioneer', 803: 'theme', 804: 'classy', 805: 'capitol', 806: 'tandoori', 807: 'tarka', 808: 'suraj', 809: 'mp', 810: 'mix', 811: 'tiara', 812: 'ethnicity', 813: 'looks', 814: 'coffee', 815: 'savor', 816: 'sky', 817: 'postal', 818: 'ganesha', 819: 'organic', 820: 'stands', 821: 'full', 822: 'hotspots', 823: 'members', 824: 'ramee', 825: 'ending', 826: 'therapies', 827: 'rise', 828: 'acclaimed', 829: 'significant', 830: 'get', 831: 'maratha', 832: 'band', 833: 'kalpana', 834: 'seater', 835: 'represent', 836: 'shared', 837: 'arc', 838: 'adarsh', 839: 'hours', 840: 'scarlet', 841: 'lavishly', 842: 'unisex', 843: 'decor', 844: 'jawahar', 845: 'film', 846: 'hyatt', 847: 'banqueting', 848: 'sakinaka', 849: 'sleek', 850: 'certain', 851: 'bask', 852: 'sydewok', 853: 'quality', 854: 'malls', 855: 'positive', 856: 'foodies', 857: 'exhibits', 858: 'weave', 859: 'everest', 860: 'sufficient', 861: 'promenade', 862: 'electrifying', 863: 'fond', 864: 'comprise', 865: 'cookies', 866: 'seeing', 867: 'hot', 868: 'luxuriance', 869: 'pragati', 870: 'spent', 871: 'pritam', 872: 'sketch', 873: 'adorned', 874: 'exciting', 875: 'fimini', 876: 'meet', 877: 'apartment', 878: 'artifact', 879: 'complimentary', 880: 'met', 881: 'barstudy', 882: 'support', 883: 'wonderful', 884: 'transfer', 885: 'twin', 886: 'category', 887: 'madh', 888: 'apart', 889: 'interests', 890: 'ind', 891: 'popular', 892: 'customised', 893: 'le', 894: 'excessiveness', 895: 'sound', 896: 'plush', 897: 'junction', 898: 'manikgad', 899: 'know', 900: 'memories', 901: 'amazing', 902: 'hanuman', 903: 'ghatkopar', 904: 'assures', 905: 'counted', 906: 'paragon', 907: 'occasion', 908: 'tandoor', 909: 'tie', 910: 'accessories', 911: 'best', 912: 'partition', 913: 'parcel', 914: 'respectively', 915: 'awaits', 916: 'line', 917: 'fly', 918: 'ajwa', 919: 'prerequisite', 920: 'gulmurg', 921: 'wander', 922: 'part', 923: 'dreamy', 924: 'conditioners', 925: 'note', 926: 'domestic', 927: 'suited', 928: 'sangrahalaya', 929: 'invites', 930: 'dynamic', 931: 'vipassana', 932: 'television', 933: 'colonialism', 934: 'unparalleled', 935: 'sq', 936: 'provided', 937: 'numerous', 938: 'establishments', 939: 'meluha', 940: 'spice', 941: 'simply', 942: 'khandeshwar', 943: 'illusions', 944: 'tell', 945: 'cocktails', 946: 'eastern', 947: 'prepare', 948: 'tradition', 949: 'board', 950: 'kalamboli', 951: 'astoria', 952: 'engagement', 953: 'grill', 954: 'sampled', 955: 'jijamata', 956: 'ashir', 957: 'maharaj', 958: 'exuberant', 959: 'geyser', 960: 'cine', 961: 'extra', 962: 'bunglows', 963: 'better', 964: 'gate', 965: 'level', 966: 'stay', 967: 'taloja', 968: 'gourmet', 969: 'bhavan', 970: 'dotted', 971: 'alcohol', 972: 'shopaholics', 973: 'however', 974: 'room', 975: 'divergent', 976: 'lake', 977: 'reasonable', 978: 'menu', 979: 'bodyscape', 980: 'electric', 981: 'enjoys', 982: 'gratification', 983: 'exquisite', 984: 'grills', 985: 'pani', 986: 'foodie', 987: 'kada', 988: 'alley', 989: 'scrumptious', 990: 'heat', 991: 'boost', 992: 'cbd', 993: 'decorated', 994: 'deluxe', 995: 'fulfilled', 996: 'residence', 997: 'tuskers', 998: 'tastefully', 999: 'categories', 1000: 'backpacker', 1001: 'oriental', 1002: 'tamarind', 1003: 'sundowners', 1004: 'mafco', 1005: 'fresh', 1006: 'players', 1007: 'busiest', 1008: 'muscles', 1009: 'vehicles', 1010: 'enjoy', 1011: 'vacation', 1012: 'locals', 1013: 'guestline', 1014: 'suits', 1015: 'short', 1016: 'excursion', 1017: 'bunder', 1018: 'go', 1019: 'clock', 1020: 'conduct', 1021: 'artefact', 1022: 'restful', 1023: 'seating', 1024: 'serene', 1025: 'linens', 1026: 'maharashtra', 1027: 'emerald', 1028: 'closest', 1029: 'hullabaloo', 1030: 'infotech', 1031: 'taken', 1032: 'rasoi', 1033: 'mangatram', 1034: 'city', 1035: 'modernity', 1036: 'perfectly', 1037: 'daji', 1038: 'carrom', 1039: 'alcove', 1040: 'owing', 1041: 'commissioned', 1042: 'elegant', 1043: 'vietnamese', 1044: 'gorai', 1045: 'form', 1046: 'enough', 1047: 'navi', 1048: 'national', 1049: 'helpful', 1050: 'mosque', 1051: 'fitness', 1052: 'milan', 1053: 'shuttle', 1054: 'earliest', 1055: 'allowing', 1056: 'mirror', 1057: 'highest', 1058: 'st', 1059: 'sapphire', 1060: 'raj', 1061: 'scenic', 1062: 'morimoto', 1063: 'manama', 1064: 'mail', 1065: 'allows', 1066: 'conviences', 1067: 'machine', 1068: 'top', 1069: 'arrangements', 1070: 'ideally', 1071: 'established', 1072: 'greets', 1073: 'iskcon', 1074: 'pressure', 1075: 'fun', 1076: 'orbits', 1077: 'sandwiches', 1078: 'paris', 1079: 'goregaon', 1080: 'enquiries', 1081: 'find', 1082: 'bouquet', 1083: 'prefer', 1084: 'dam', 1085: 'discounts', 1086: 'kms', 1087: 'goes', 1088: 'el', 1089: 'far', 1090: 'view', 1091: 'cutlery', 1092: 'uno', 1093: 'executive', 1094: 'quick', 1095: 'stove', 1096: 'taking', 1097: 'noted', 1098: 'language', 1099: 'foyer', 1100: 'infiniti', 1101: 'fulfills', 1102: 'latest', 1103: 'attendant', 1104: 'enigma', 1105: 'eco', 1106: 'chhatrapati', 1107: 'breeze', 1108: 'shakti', 1109: 'ecstatically', 1110: 'metro', 1111: 'booking', 1112: 'atlantic', 1113: 'gymkhana', 1114: 'horniman', 1115: 'coziness', 1116: 'green', 1117: 'totally', 1118: 'beneficial', 1119: 'offer', 1120: 'donalds', 1121: 'screens', 1122: 'focus', 1123: 'swanky', 1124: 'mumbaiinternational', 1125: 'sessions', 1126: 'cruz', 1127: 'case', 1128: 'togethers', 1129: 'newspapers', 1130: 'convenience', 1131: 'celebration', 1132: 'add', 1133: 'linking', 1134: 'nerul', 1135: 'dessert', 1136: 'works', 1137: 'shamiana', 1138: 'rajas', 1139: 'konark', 1140: 'essel', 1141: 'upholstery', 1142: 'holiday', 1143: 'night', 1144: 'maroon', 1145: 'mayur', 1146: 'differently', 1147: 'canvas', 1148: 'counter', 1149: 'taste', 1150: 'hazel', 1151: 'sands', 1152: 'northside', 1153: 'seat', 1154: 'overseas', 1155: 'nine', 1156: 'place', 1157: 'vivanta', 1158: 'platinum', 1159: 'vile', 1160: 'waterfall', 1161: 'children', 1162: 'dragon', 1163: 'rarely', 1164: 'handicap', 1165: 'location', 1166: 'combination', 1167: 'conditioning', 1168: 'waste', 1169: 'thane', 1170: 'virtual', 1171: 'associated', 1172: 'chose', 1173: 'see', 1174: 'attraction', 1175: 'seats', 1176: 'boardrooms', 1177: 'impressively', 1178: 'symbol', 1179: 'smiling', 1180: 'cubicles', 1181: 'considers', 1182: 'bookstore', 1183: 'flavoursome', 1184: 'features', 1185: 'money', 1186: 'per', 1187: 'overall', 1188: 'cheerful', 1189: 'cooked', 1190: 'docking', 1191: 'purification', 1192: 'balcony', 1193: 'intercom', 1194: 'addition', 1195: 'fort', 1196: 'choosing', 1197: 'pagoda', 1198: 'courteous', 1199: 'distinct', 1200: 'panda', 1201: 'portuguesa', 1202: 'affordable', 1203: 'george', 1204: 'thousands', 1205: 'fancy', 1206: 'sightseeing', 1207: 'rock', 1208: 'columbus', 1209: 'jamavar', 1210: 'distance', 1211: 'bazaar', 1212: 'plays', 1213: 'kilometres', 1214: 'draws', 1215: 'lockers', 1216: 'brief', 1217: 'closeness', 1218: 'much', 1219: 'bengali', 1220: 'flower', 1221: 'dragonfly', 1222: 'narayan', 1223: 'every', 1224: 'neptune', 1225: 'shubhangan', 1226: 'nawab', 1227: 'paying', 1228: 'ganapati', 1229: 'spiritual', 1230: 'posh', 1231: 'sizes', 1232: 'enormous', 1233: 'historical', 1234: 'hub', 1235: 'equipment', 1236: 'gaothan', 1237: 'needed', 1238: 'bhayandar', 1239: 'ttc', 1240: 'culinary', 1241: 'byculla', 1242: 'mystic', 1243: 'facilitated', 1244: 'dip', 1245: 'fantasy', 1246: 'make', 1247: 'everybody', 1248: 'maharashtrian', 1249: 'information', 1250: 'dadar', 1251: 'grocery', 1252: 'saloon', 1253: 'accommodation', 1254: 'worthy', 1255: 'ethnicities', 1256: 'quieter', 1257: 'train', 1258: 'sauna', 1259: 'shake', 1260: 'safe', 1261: 'travel', 1262: 'near', 1263: 'brown', 1264: 'bite', 1265: 'siddharthnagar', 1266: 'day', 1267: 'united', 1268: 'enclave', 1269: 'narrating', 1270: 'sorts', 1271: 'baths', 1272: 'system', 1273: 'nagar', 1274: 'specialty', 1275: 'residency', 1276: 'proper', 1277: 'hanging', 1278: 'delicatessen', 1279: 'economical', 1280: 'discotheques', 1281: 'catholic', 1282: 'rotary', 1283: 'closed', 1284: 'attributes', 1285: 'temple', 1286: 'hubs', 1287: 'utterly', 1288: 'gatherings', 1289: 'ovalekar', 1290: 'core', 1291: 'collection', 1292: 'fall', 1293: 'mahim', 1294: 'sector', 1295: 'befitting', 1296: 'colors', 1297: 'competitive', 1298: 'bio', 1299: 'buddha', 1300: 'beddings', 1301: 'demand', 1302: 'delight', 1303: 'site', 1304: 'kalyan', 1305: 'tunga', 1306: 'ordinary', 1307: 'first', 1308: 'communication', 1309: 'writing', 1310: 'cinemas', 1311: 'noise', 1312: 'made', 1313: 'chinchoti', 1314: 'party', 1315: 'dormitory', 1316: 'organised', 1317: 'projection', 1318: 'classes', 1319: 'plasma', 1320: 'cupboard', 1321: 'apparels', 1322: 'days', 1323: 'provision', 1324: 'french', 1325: 'central', 1326: 'port', 1327: 'swan', 1328: 'sagar', 1329: 'personalities', 1330: 'newspaper', 1331: 'sand', 1332: 'hygienic', 1333: 'iconic', 1334: 'satisfy', 1335: 'november', 1336: 'veer', 1337: 'convenient', 1338: 'accord', 1339: 'sophisticatedly', 1340: 'guna', 1341: 'bollywood', 1342: 'ashwin', 1343: 'binding', 1344: 'arranges', 1345: 'honeymooners', 1346: 'pleasurable', 1347: 'fizz', 1348: 'bustling', 1349: 'anything', 1350: 'fariyas', 1351: 'pay', 1352: 'centrally', 1353: 'multiple', 1354: 'mates', 1355: 'utilized', 1356: 'westin', 1357: 'real', 1358: 'bukhari', 1359: 'red', 1360: 'stalls', 1361: 'sanjay', 1362: 'chairman', 1363: 'pub', 1364: 'feet', 1365: 'karjat', 1366: 'viz', 1367: 'absolutely', 1368: 'smooth', 1369: 'manicured', 1370: 'sunbathing', 1371: 'narrow', 1372: 'haaochi', 1373: 'police', 1374: 'floored', 1375: 'therapeutic', 1376: 'asiad', 1377: 'ceremonies', 1378: 'smacking', 1379: 'guestrooms', 1380: 'surcharge', 1381: 'establishment', 1382: 'goal', 1383: 'chitranagri', 1384: 'talve', 1385: 'azure', 1386: 'order', 1387: 'individually', 1388: 'favourite', 1389: 'bookings', 1390: 'exudes', 1391: 'showroom', 1392: 'msrtc', 1393: 'housekeeping', 1394: 'conveniently', 1395: 'pakistan', 1396: 'peshwa', 1397: 'operational', 1398: 'situated', 1399: 'privileged', 1400: 'framework', 1401: 'promise', 1402: 'masjid', 1403: 'palace', 1404: 'bathtubs', 1405: 'worth', 1406: 'upvan', 1407: 'aesthetics', 1408: 'wintergreen', 1409: 'snacks', 1410: 'bhelpuri', 1411: 'sugar', 1412: 'tired', 1413: 'grand', 1414: 'rented', 1415: 'standard', 1416: 'photo', 1417: 'trendz', 1418: 'rent', 1419: 'ipod', 1420: 'secretariat', 1421: 'urban', 1422: 'moreover', 1423: 'wishing', 1424: 'dental', 1425: 'channels', 1426: 'lokmanya', 1427: 'savoy', 1428: 'keeps', 1429: 'mahal', 1430: 'capacity', 1431: 'citrus', 1432: 'pollution', 1433: 'suests', 1434: 'service', 1435: 'floor', 1436: 'ergonomically', 1437: 'vikhroli', 1438: 'freezing', 1439: 'pleases', 1440: 'flaunts', 1441: 'buffets', 1442: 'railway', 1443: 'con', 1444: 'centre', 1445: 'vasantashram', 1446: 'gadeshwar', 1447: 'challenge', 1448: 'regent', 1449: 'music', 1450: 'shopper', 1451: 'offerings', 1452: 'awadhi', 1453: 'operate', 1454: 'tawa', 1455: 'maha', 1456: 'markets', 1457: 'either', 1458: 'regional', 1459: 'recipients', 1460: 'dance', 1461: 'cinema', 1462: 'connection', 1463: 'capacious', 1464: 'isha', 1465: 'destiny', 1466: 'bedcovers', 1467: 'else', 1468: 'inverter', 1469: 'goa', 1470: 'dargah', 1471: 'roaming', 1472: 'allure', 1473: 'charming', 1474: 'pune', 1475: 'artificial', 1476: 'chill', 1477: 'pools', 1478: 'cyber', 1479: 'attended', 1480: 'available', 1481: 'dhaga', 1482: 'parking', 1483: 'condition', 1484: 'car', 1485: 'bhk', 1486: 'udyaan', 1487: 'apartments', 1488: 'chauffeured', 1489: 'banking', 1490: 'games', 1491: 'holy', 1492: 'spread', 1493: 'via', 1494: 'serviced', 1495: 'journey', 1496: 'tourist', 1497: 'accepts', 1498: 'shopaholic', 1499: 'inviting', 1500: 'box', 1501: 'nightlife', 1502: 'kettle', 1503: 'ft', 1504: 'star', 1505: 'comforts', 1506: 'superior', 1507: 'bazaars', 1508: 'iternational', 1509: 'bound', 1510: 'cultural', 1511: 'greenery', 1512: 'marketcity', 1513: 'sofitel', 1514: 'ventilated', 1515: 'pillars', 1516: 'phones', 1517: 'habitat', 1518: 'wagle', 1519: 'reception', 1520: 'reservations', 1521: 'wonder', 1522: 'greet', 1523: 'kolkars', 1524: 'jivdani', 1525: 'siesta', 1526: 'wish', 1527: 'buffet', 1528: 'evenings', 1529: 'trattoria', 1530: 'bed', 1531: 'siachen', 1532: 'cost', 1533: 'sculptures', 1534: 'vacations', 1535: 'accommodates', 1536: 'swigs', 1537: 'ready', 1538: 'senate', 1539: 'chaos', 1540: 'reachable', 1541: 'ali', 1542: 'filled', 1543: 'chargeable', 1544: 'india', 1545: 'grande', 1546: 'colaba', 1547: 'object', 1548: 'ballrooms', 1549: 'smoking', 1550: 'ranging', 1551: 'inspired', 1552: 'premium', 1553: 'airlink', 1554: 'centerlifthandicap', 1555: 'measuring', 1556: 'galaxy', 1557: 'fired', 1558: 'boulevard', 1559: 'basilica', 1560: 'accessibility', 1561: 'special', 1562: 'meal', 1563: 'include', 1564: 'zero', 1565: 'pals', 1566: 'inside', 1567: 'shalimaar', 1568: 'eaters', 1569: 'upto', 1570: 'tours', 1571: 'extends', 1572: 'color', 1573: 'traveller', 1574: 'interesting', 1575: 'skyscrapers', 1576: 'tower', 1577: 'separable', 1578: 'dinning', 1579: 'grandeur', 1580: 'inorbit', 1581: 'abled', 1582: 'choice', 1583: 'bhau', 1584: 'conferences', 1585: 'nanak', 1586: 'regions', 1587: 'designs', 1588: 'fondue', 1589: 'captured', 1590: 'differentiating', 1591: 'glass', 1592: 'golden', 1593: 'wildlife', 1594: 'crossroads', 1595: 'discotheque', 1596: 'transportation', 1597: 'meeting', 1598: 'washroom', 1599: 'late', 1600: 'treatments', 1601: 'aarya', 1602: 'standards', 1603: 'nearest', 1604: 'flat', 1605: 'famous', 1606: 'tourism', 1607: 'wrapped', 1608: 'vicinity', 1609: 'things', 1610: 'aquarius', 1611: 'proudly', 1612: 'printer', 1613: 'seville', 1614: 'cuisines', 1615: 'fittings', 1616: 'seeks', 1617: 'freshwater', 1618: 'nitya', 1619: 'treated', 1620: 'dharavi', 1621: 'chocolates', 1622: 'acquiring', 1623: 'stroll', 1624: 'chemist', 1625: 'renowned', 1626: 'sharan', 1627: 'hospitality', 1628: 'would', 1629: 'ease', 1630: 'jones', 1631: 'inland', 1632: 'scenery', 1633: 'girgaum', 1634: 'maximum', 1635: 'consulate', 1636: 'din', 1637: 'supremo', 1638: 'dior', 1639: 'gives', 1640: 'owned', 1641: 'sleeps', 1642: 'supreme', 1643: 'caters', 1644: 'standing', 1645: 'ascot', 1646: 'access', 1647: 'heads', 1648: 'fabhotel', 1649: 'adjacent', 1650: 'offered', 1651: 'matheran', 1652: 'workshop', 1653: 'beauty', 1654: 'study', 1655: 'lite', 1656: 'locations', 1657: 'required', 1658: 'alexson', 1659: 'landmarks', 1660: 'west', 1661: 'china', 1662: 'nutritious', 1663: 'provide', 1664: 'surroundings', 1665: 'trans', 1666: 'spectrum', 1667: 'yogi', 1668: 'movie', 1669: 'ravana', 1670: 'giving', 1671: 'delicate', 1672: 'masala', 1673: 'catherines', 1674: 'chor', 1675: 'om', 1676: 'architectural', 1677: 'vasai', 1678: 'excelling', 1679: 'stress', 1680: 'enhanced', 1681: 'prepared', 1682: 'reside', 1683: 'step', 1684: 'iran', 1685: 'sahara', 1686: 'essence', 1687: 'mexican', 1688: 'providing', 1689: 'expansiveness', 1690: 'gulf', 1691: 'den', 1692: 'sip', 1693: 'building', 1694: 'destination', 1695: 'sample', 1696: 'unit', 1697: 'seepz', 1698: 'indulge', 1699: 'selective', 1700: 'esselworld', 1701: 'needs', 1702: 'wanting', 1703: 'ahdheri', 1704: 'superlative', 1705: 'tv', 1706: 'around', 1707: 'thoughtful', 1708: 'suncity', 1709: 'premier', 1710: 'lanka', 1711: 'adds', 1712: 'finely', 1713: 'babysitting', 1714: 'time', 1715: 'sanpada', 1716: 'exclusive', 1717: 'spicy', 1718: 'radio', 1719: 'gracious', 1720: 'shaving', 1721: 'tank', 1722: 'boardroom', 1723: 'super', 1724: 'viviana', 1725: 'availed', 1726: 'appliances', 1727: 'contain', 1728: 'liberty', 1729: 'chefs', 1730: 'opulence', 1731: 'performing', 1732: 'modern', 1733: 'cuffe', 1734: 'glazing', 1735: 'customers', 1736: 'stunning', 1737: 'delivery', 1738: 'charm', 1739: 'voice', 1740: 'organising', 1741: 'fountains', 1742: 'anticipate', 1743: 'brew', 1744: 'rejuvenate', 1745: 'zaffran', 1746: 'upcoming', 1747: 'surreal', 1748: 'thoughtfully', 1749: 'devanshi', 1750: 'expeditions', 1751: 'appetite', 1752: 'stylist', 1753: 'computer', 1754: 'chavana', 1755: 'contended', 1756: 'cantonese', 1757: 'valuable', 1758: 'people', 1759: 'centres', 1760: 'charni', 1761: 'welcoming', 1762: 'reclamation', 1763: 'comprehensive', 1764: 'splendidly', 1765: 'functions', 1766: 'leaf', 1767: 'marol', 1768: 'properly', 1769: 'khargar', 1770: 'lit', 1771: 'weddings', 1772: 'watch', 1773: 'cosy', 1774: 'mayhem', 1775: 'bicycles', 1776: 'found', 1777: 'activities', 1778: 'multicuisine', 1779: 'cheer', 1780: 'beers', 1781: 'circle', 1782: 'fame', 1783: 'thematic', 1784: 'stark', 1785: 'luxury', 1786: 'ag', 1787: 'citizen', 1788: 'inlays', 1789: 'bayview', 1790: 'breads', 1791: 'eating', 1792: 'kanheri', 1793: 'lot', 1794: 'restaurants', 1795: 'staying', 1796: 'enjoying', 1797: 'exotic', 1798: 'paradise', 1799: 'man', 1800: 'modish', 1801: 'metres', 1802: 'harbour', 1803: 'lounge', 1804: 'keeping', 1805: 'interest', 1806: 'opt', 1807: 'fruit', 1808: 'charge', 1809: 'employment', 1810: 'massage', 1811: 'tilak', 1812: 'side', 1813: 'luggage', 1814: 'exteriors', 1815: 'comprising', 1816: 'houses', 1817: 'knots', 1818: 'godrej', 1819: 'ac', 1820: 'bites', 1821: 'relished', 1822: 'utilize', 1823: 'blend', 1824: 'yatri', 1825: 'armchairs', 1826: 'awarded', 1827: 'professionals', 1828: 'bakery', 1829: 'remain', 1830: 'prithvi', 1831: 'tendencies', 1832: 'sixth', 1833: 'mount', 1834: 'church', 1835: 'nice', 1836: 'influx', 1837: 'gymnasium', 1838: 'prove', 1839: 'vegetarian', 1840: 'food', 1841: 'court', 1842: 'pearl', 1843: 'concept', 1844: 'maintain', 1845: 'conference', 1846: 'infinite', 1847: 'incomplete', 1848: 'dedicated', 1849: 'nakshatra', 1850: 'limousine', 1851: 'suite', 1852: 'tiss', 1853: 'residents', 1854: 'celebrate', 1855: 'majestic', 1856: 'afghanistan', 1857: 'coming', 1858: 'subhash', 1859: 'obdurate', 1860: 'upper', 1861: 'ghodbunder', 1862: 'boat', 1863: 'bathrooms', 1864: 'fully', 1865: 'air', 1866: 'suchlike', 1867: 'barber', 1868: 'id', 1869: 'class', 1870: 'dressing', 1871: 'synonymous', 1872: 'ceiling', 1873: 'sauces', 1874: 'mins', 1875: 'fax', 1876: 'accommodate', 1877: 'one', 1878: 'asia', 1879: 'inhouse', 1880: 'selves', 1881: 'isfahan', 1882: 'placed', 1883: 'property', 1884: 'broadband', 1885: 'junior', 1886: 'adjoining', 1887: 'following', 1888: 'located', 1889: 'palm', 1890: 'pheonix', 1891: 'shakes', 1892: 'ultimate', 1893: 'unique', 1894: 'expert', 1895: 'mid', 1896: 'basic', 1897: 'exhaustive', 1898: 'studios', 1899: 'number', 1900: 'caves', 1901: 'suburbs', 1902: 'exercises', 1903: 'echo', 1904: 'within', 1905: 'senses', 1906: 'steam', 1907: 'iriss', 1908: 'intricate', 1909: 'citys', 1910: 'wide', 1911: 'saphhire', 1912: 'toothsome', 1913: 'thrives', 1914: 'bottom', 1915: 'fountain', 1916: 'tea', 1917: 'utilities', 1918: 'kunj', 1919: 'attractions', 1920: 'visitors', 1921: 'homestay', 1922: 'double', 1923: 'immaculately', 1924: 'textures', 1925: 'pandav', 1926: 'explored', 1927: 'photocopy', 1928: 'glamour', 1929: 'architecture', 1930: 'beaches', 1931: 'stylish', 1932: 'railways', 1933: 'millesime', 1934: 'bedroom', 1935: 'koldongri', 1936: 'idd', 1937: 'four', 1938: 'midtown', 1939: 'failure', 1940: 'logitech', 1941: 'aviva', 1942: 'eternity', 1943: 'beautiful', 1944: 'meets', 1945: 'fruits', 1946: 'luscious', 1947: 'digital', 1948: 'given', 1949: 'indiana', 1950: 'shops', 1951: 'character', 1952: 'concrete', 1953: 'tiptop', 1954: 'atith', 1955: 'options', 1956: 'telly', 1957: 'volga', 1958: 'piligrims', 1959: 'airy', 1960: 'terminal', 1961: 'preferred', 1962: 'tantalise', 1963: 'gaming', 1964: 'lad', 1965: 'cosmopolitan', 1966: 'herb', 1967: 'bathroom', 1968: 'mahalaxmi', 1969: 'sangam', 1970: 'mouthful', 1971: 'connectivity', 1972: 'ballroom', 1973: 'furniture', 1974: 'entertainment', 1975: 'alpha', 1976: 'orderly', 1977: 'fell', 1978: 'airports', 1979: 'amrit', 1980: 'mumba', 1981: 'sized', 1982: 'adi', 1983: 'trek', 1984: 'mughlai', 1985: 'iron', 1986: 'using', 1987: 'goldfinch', 1988: 'visual', 1989: 'ashoka', 1990: 'treebo', 1991: 'cup', 1992: 'cleaning', 1993: 'amenities', 1994: 'sense', 1995: 'suites', 1996: 'kopar', 1997: 'history', 1998: 'member', 1999: 'indicate', 2000: 'bharat', 2001: 'weekends', 2002: 'free', 2003: 'sion', 2004: 'segment', 2005: 'purchasing', 2006: 'hearted', 2007: 'aid', 2008: 'saki', 2009: 'since', 2010: 'photocopying', 2011: 'aesthetically', 2012: 'beth', 2013: 'continue', 2014: 'platter', 2015: 'also', 2016: 'planning', 2017: 'classic', 2018: 'widely', 2019: 'mayflower', 2020: 'dormitories', 2021: 'chatrapati', 2022: 'vendors', 2023: 'basis', 2024: 'carpeting', 2025: 'portuguese', 2026: 'parlour', 2027: 'mahatma', 2028: 'april', 2029: 'cool', 2030: 'wherein', 2031: 'relish', 2032: 'avenue', 2033: 'blends', 2034: 'marine', 2035: 'person', 2036: 'tub', 2037: 'proximity', 2038: 'forms', 2039: 'microwave', 2040: 'lokhandwala', 2041: 'gilbert', 2042: 'views', 2043: 'varied', 2044: 'amol', 2045: 'ramada', 2046: 'settings', 2047: 'accepted', 2048: 'health', 2049: 'savoured', 2050: 'calcutta', 2051: 'beacon', 2052: 'blue', 2053: 'space', 2054: 'fonsecas', 2055: 'attracts', 2056: 'purity', 2057: 'showcasing', 2058: 'screen', 2059: 'served', 2060: 'designed', 2061: 'enjoyed', 2062: 'stone', 2063: 'plan', 2064: 'little', 2065: 'freshest', 2066: 'dreamland', 2067: 'mode', 2068: 'making', 2069: 'willing', 2070: 'juhu', 2071: 'saheb', 2072: 'opp', 2073: 'disco', 2074: 'kherwadi', 2075: 'spell', 2076: 'featured', 2077: 'mesmerising', 2078: 'constitutes', 2079: 'occupancy', 2080: 'bakerie', 2081: 'conversations', 2082: 'bath', 2083: 'safety', 2084: 'crystal', 2085: 'travelling', 2086: 'stadium', 2087: 'cajole', 2088: 'three', 2089: 'shalimar', 2090: 'spot', 2091: 'research', 2092: 'services', 2093: 'fine', 2094: 'oasis', 2095: 'ups', 2096: 'essentials', 2097: 'narrate', 2098: 'accommodations', 2099: 'front', 2100: 'alike', 2101: 'kranti', 2102: 'shree', 2103: 'imported', 2104: 'posturepedic', 2105: 'bar', 2106: 'burgerpao', 2107: 'roof', 2108: 'fi', 2109: 'gallery', 2110: 'nd', 2111: 'lovers', 2112: 'flame', 2113: 'snack', 2114: 'limited', 2115: 'quietly', 2116: 'hyper', 2117: 'breakfast', 2118: 'louis', 2119: 'rates', 2120: 'request', 2121: 'verandah', 2122: 'heath', 2123: 'bhavani', 2124: 'flags', 2125: 'close', 2126: 'whole', 2127: 'kingdom', 2128: 'princess', 2129: 'selection', 2130: 'iris', 2131: 'populated', 2132: 'shoe', 2133: 'penthouses', 2134: 'rendered', 2135: 'southern', 2136: 'organizing', 2137: 'take', 2138: 'andher', 2139: 'sai', 2140: 'round', 2141: 'common', 2142: 'occupying', 2143: 'stock', 2144: 'triple', 2145: 'heady', 2146: 'peer', 2147: 'enhance', 2148: 'marg', 2149: 'recharged', 2150: 'tall', 2151: 'story', 2152: 'intoxicating', 2153: 'borivali', 2154: 'purifier', 2155: 'panjabi', 2156: 'freaks', 2157: 'purposes', 2158: 'multiplexes', 2159: 'trekking', 2160: 'host', 2161: 'encore', 2162: 'privacy', 2163: 'panoramic', 2164: 'fair', 2165: 'john', 2166: 'starters', 2167: 'bandra', 2168: 'strategic', 2169: 'worry', 2170: 'please', 2171: 'nestled', 2172: 'wi', 2173: 'maris', 2174: 'upscale', 2175: 'policies', 2176: 'premises', 2177: 'dreams', 2178: 'sofas', 2179: 'rightly', 2180: 'elegantly', 2181: 'depart', 2182: 'cosiness', 2183: 'medical', 2184: 'us', 2185: 'dreamers', 2186: 'polite', 2187: 'furthermore', 2188: 'palette', 2189: 'wasabi', 2190: 'mind', 2191: 'splash', 2192: 'raheja', 2193: 'bay', 2194: 'terminus', 2195: 'select', 2196: 'stage', 2197: 'dishwasher', 2198: 'trips', 2199: 'symbolizes', 2200: 'summer', 2201: 'khar', 2202: 'mediterranean', 2203: 'dryer', 2204: 'unwind', 2205: 'chaupati', 2206: 'privilege', 2207: 'soothing', 2208: 'supportive', 2209: 'secure', 2210: 'come', 2211: 'still', 2212: 'museum', 2213: 'badlapur', 2214: 'ancient', 2215: 'several', 2216: 'millenium', 2217: 'kalwa', 2218: 'lively', 2219: 'artisan', 2220: 'mineral', 2221: 'soma', 2222: 'group', 2223: 'fortune', 2224: 'royale', 2225: 'delicacies', 2226: 'total', 2227: 'mouthwatering', 2228: 'poolside', 2229: 'moshes', 2230: 'delectable', 2231: 'chauffeur', 2232: 'rental', 2233: 'unmarried', 2234: 'rentals', 2235: 'satellite', 2236: 'nmmt', 2237: 'sushi', 2238: 'well', 2239: 'surprising', 2240: 'degradable', 2241: 'wind', 2242: 'slow', 2243: 'minimalistic', 2244: 'ganesh', 2245: 'electronic', 2246: 'ambiance', 2247: 'sairesidency', 2248: 'choices', 2249: 'tikka', 2250: 'hill', 2251: 'surely', 2252: 'historic', 2253: 'uttan', 2254: 'famed', 2255: 'exploring', 2256: 'store', 2257: 'relaxed', 2258: 'calls', 2259: 'paneer', 2260: 'beat', 2261: 'present', 2262: 'treating', 2263: 'cathedral', 2264: 'minutes', 2265: 'fabrics', 2266: 'ashwith', 2267: 'delicious', 2268: 'fifty', 2269: 'apple', 2270: 'solitaire', 2271: 'whim', 2272: 'composure', 2273: 'jade', 2274: 'outlets', 2275: 'avion', 2276: 'panna', 2277: 'passion', 2278: 'touted', 2279: 'savour', 2280: 'stop', 2281: 'dadasaheb', 2282: 'chattrapathi', 2283: 'providers', 2284: 'whence', 2285: 'amantran', 2286: 'allow', 2287: 'divya', 2288: 'karnala', 2289: 'flora', 2290: 'breathtaking', 2291: 'mosques', 2292: 'churchgate', 2293: 'darave', 2294: 'farm', 2295: 'consists', 2296: 'age', 2297: 'bassein', 2298: 'suburb', 2299: 'haji', 2300: 'amber', 2301: 'tenders', 2302: 'ashtavinayak', 2303: 'patrons', 2304: 'frangipani', 2305: 'heera', 2306: 'rejuvenating', 2307: 'behind', 2308: 'polished', 2309: 'pm', 2310: 'ni', 2311: 'approval', 2312: 'fitted', 2313: 'payal', 2314: 'walls', 2315: 'drop', 2316: 'trip', 2317: 'universe', 2318: 'appearance', 2319: 'karna', 2320: 'printed', 2321: 'clubs', 2322: 'link', 2323: 'undergoing', 2324: 'baisakhi', 2325: 'infraserve', 2326: 'csi', 2327: 'tranquil', 2328: 'swapna', 2329: 'waterfronts', 2330: 'handicapped', 2331: 'throbbing', 2332: 'satvaa', 2333: 'balaji', 2334: 'tubs', 2335: 'care', 2336: 'jiva', 2337: 'answer', 2338: 'nestor', 2339: 'characteristic', 2340: 'global', 2341: 'outlet', 2342: 'spree', 2343: 'substantive', 2344: 'basket', 2345: 'pax', 2346: 'walking', 2347: 'legend', 2348: 'bamboo', 2349: 'dung', 2350: 'isd', 2351: 'interestingly', 2352: 'couple', 2353: 'avail', 2354: 'hira', 2355: 'presentations', 2356: 'easiest', 2357: 'essenza', 2358: 'parks', 2359: 'levels', 2360: 'sensation', 2361: 'visited', 2362: 'tried', 2363: 'rich', 2364: 'szechuan', 2365: 'colours', 2366: 'skyview', 2367: 'aquarium', 2368: 'scanning', 2369: 'midnight', 2370: 'roughly', 2371: 'ginger', 2372: 'calories', 2373: 'washrooms', 2374: 'wall', 2375: 'temptation', 2376: 'tantalizing', 2377: 'quintessence', 2378: 'imperial', 2379: 'tavern', 2380: 'finger', 2381: 'ambernath', 2382: 'serving', 2383: 'naans', 2384: 'vastu', 2385: 'portico', 2386: 'retail', 2387: 'screening', 2388: 'seek', 2389: 'airline', 2390: 'lobby', 2391: 'hatole', 2392: 'crown', 2393: 'resonate', 2394: 'affordability', 2395: 'tennis', 2396: 'uzbeik', 2397: 'refrigerators', 2398: 'vajreshwari', 2399: 'itc', 2400: 'baluchi', 2401: 'cable', 2402: 'roman', 2403: 'kandivali', 2404: 'moments', 2405: 'ecotel', 2406: 'shrine', 2407: 'continent', 2408: 'oven', 2409: 'aarhaah', 2410: 'points', 2411: 'ldc', 2412: 'nature', 2413: 'conditioner', 2414: 'pure', 2415: 'boating', 2416: 'nimantran', 2417: 'sonawala', 2418: 'discerning', 2419: 'blessings', 2420: 'infinity', 2421: 'oberoi', 2422: 'curries', 2423: 'thus', 2424: 'outside', 2425: 'launches', 2426: 'wardrobe', 2427: 'veg', 2428: 'efficiency', 2429: 'local', 2430: 'conscious', 2431: 'michael', 2432: 'mango', 2433: 'mounted', 2434: 'try', 2435: 'bkc', 2436: 'hotr', 2437: 'tipplers', 2438: 'girgaon', 2439: 'telephones', 2440: 'lifestyles', 2441: 'encircled', 2442: 'stations', 2443: 'personalized', 2444: 'celebrations', 2445: 'chembur', 2446: 'kitchenware', 2447: 'hire', 2448: 'attainable', 2449: 'dining', 2450: 'fit', 2451: 'traditional', 2452: 'colonial', 2453: 'glistening', 2454: 'deli', 2455: 'towers', 2456: 'staff', 2457: 'worli', 2458: 'bowling', 2459: 'metropolian', 2460: 'spending', 2461: 'rested', 2462: 'vivacious', 2463: 'andheri', 2464: 'salads', 2465: 'kitchen', 2466: 'value', 2467: 'baug', 2468: 'arrange', 2469: 'point', 2470: 'jyotiba', 2471: 'slab', 2472: 'accessed', 2473: 'bedding', 2474: 'besides', 2475: 'lovely', 2476: 'korum', 2477: 'upon', 2478: 'elphinstone', 2479: 'realms', 2480: 'travelers', 2481: 'requirement', 2482: 'developed', 2483: 'delightful', 2484: 'studio', 2485: 'swastik', 2486: 'guruvayurappan', 2487: 'chain', 2488: 'welcome', 2489: 'security', 2490: 'facing', 2491: 'rejuvinating', 2492: 'amongst', 2493: 'rooms', 2494: 'lcd', 2495: 'accore', 2496: 'baroke', 2497: 'milieu', 2498: 'diverse', 2499: 'sweet', 2500: 'stalwarts', 2501: 'manner', 2502: 'intriguing', 2503: 'aguada', 2504: 'exhibition', 2505: 'celestial', 2506: 'wings', 2507: 'across', 2508: 'coastline', 2509: 'mulund', 2510: 'ultra', 2511: 'lanes', 2512: 'marve', 2513: 'area', 2514: 'artistically', 2515: 'bukhara', 2516: 'hut', 2517: 'ticket', 2518: 'ashray', 2519: 'peninsular', 2520: 'castella', 2521: 'zen', 2522: 'licking', 2523: 'filmcity', 2524: 'home', 2525: 'hare', 2526: 'yeoor', 2527: 'kidzania', 2528: 'township', 2529: 'adorn', 2530: 'love', 2531: 'disparity', 2532: 'requires', 2533: 'mellow', 2534: 'array', 2535: 'non', 2536: 'wadi', 2537: 'small', 2538: 'airport', 2539: 'got', 2540: 'hotspot', 2541: 'working', 2542: 'kitchenette', 2543: 'memorable', 2544: 'throw', 2545: 'alibaugh', 2546: 'trials', 2547: 'additionally', 2548: 'boast', 2549: 'chair', 2550: 'accustomised', 2551: 'highlighting', 2552: 'western', 2553: 'beige', 2554: 'aims', 2555: 'reserved', 2556: 'organize', 2557: 'explore', 2558: 'drinks', 2559: 'led', 2560: 'gurudwara', 2561: 'workspace', 2562: 'ticketing', 2563: 'minute', 2564: 'snow', 2565: 'roomy', 2566: 'tide', 2567: 'district', 2568: 'adore', 2569: 'frequency', 2570: 'prestige', 2571: 'toff', 2572: 'aster', 2573: 'pathar', 2574: 'wifi', 2575: 'seven', 2576: 'dhaba', 2577: 'taxis', 2578: 'sanghralaya', 2579: 'colour', 2580: 'activity', 2581: 'indian', 2582: 'deonar', 2583: 'bhaji', 2584: 'exterior', 2585: 'beluga', 2586: 'benzy', 2587: 'overlooking', 2588: 'artists', 2589: 'road', 2590: 'lakshmi', 2591: 'simple', 2592: 'main', 2593: 'decent', 2594: 'fans', 2595: 'busy', 2596: 'meticulously', 2597: 'entertaining', 2598: 'kids', 2599: 'regency', 2600: 'holidaying', 2601: 'attached', 2602: 'rail', 2603: 'divided', 2604: 'region', 2605: 'circular', 2606: 'combined', 2607: 'seminars', 2608: 'min', 2609: 'metre', 2610: 'personal', 2611: 'flamboyante', 2612: 'kalanagar', 2613: 'related', 2614: 'joints', 2615: 'floral', 2616: 'wine', 2617: 'bhiwandi', 2618: 'buses', 2619: 'wireless', 2620: 'shop', 2621: 'complete', 2622: 'arrangement', 2623: 'commotions', 2624: 'telephone', 2625: 'satiate', 2626: 'accommodating', 2627: 'lies', 2628: 'meditation', 2629: 'choose', 2630: 'laid', 2631: 'rosewood', 2632: 'head', 2633: 'spotlessly', 2634: 'enthralling', 2635: 'heritage', 2636: 'based', 2637: 'fulfilling', 2638: 'jama', 2639: 'flavours', 2640: 'new', 2641: 'souk', 2642: 'kamgar', 2643: 'supply', 2644: 'end', 2645: 'sahar', 2646: 'cow', 2647: 'laces', 2648: 'budgets', 2649: 'kinds', 2650: 'poison', 2651: 'princely', 2652: 'woods', 2653: 'annexe', 2654: 'ermenegildo', 2655: 'fixtures', 2656: 'controlled', 2657: 'santa', 2658: 'rejuve', 2659: 'aristocracy', 2660: 'mere', 2661: 'era', 2662: 'warli', 2663: 'deck', 2664: 'respective', 2665: 'maharaja', 2666: 'closes', 2667: 'inn', 2668: 'coupled', 2669: 'peshawri', 2670: 'bilal', 2671: 'finance', 2672: 'gobhi', 2673: 'pukht', 2674: 'white', 2675: 'commute', 2676: 'track', 2677: 'notable', 2678: 'able', 2679: 'plunge', 2680: 'dual', 2681: 'consisting', 2682: 'eclectic', 2683: 'speed', 2684: 'hairdryer', 2685: 'commercial', 2686: 'comfy', 2687: 'vihar', 2688: 'suitably', 2689: 'efficient', 2690: 'thomas', 2691: 'howrah', 2692: 'lawns', 2693: 'favorite', 2694: 'search', 2695: 'desires', 2696: 'hd', 2697: 'arabian', 2698: 'emperor', 2699: 'yoga', 2700: 'nsc', 2701: 'estate', 2702: 'lebanese', 2703: 'waves', 2704: 'backed', 2705: 'karim', 2706: 'banquets', 2707: 'panday', 2708: 'skky', 2709: 'aesthetic', 2710: 'incase', 2711: 'al', 2712: 'mouth', 2713: 'royal', 2714: 'queen', 2715: 'promises', 2716: 'barely', 2717: 'styles', 2718: 'garden', 2719: 'experiences', 2720: 'absolute', 2721: 'cherish', 2722: 'multi', 2723: 'classified', 2724: 'european', 2725: 'cities', 2726: 'south', 2727: 'contained', 2728: 'cloak', 2729: 'bungalow', 2730: 'function', 2731: 'grab', 2732: 'backup', 2733: 'beckons', 2734: 'facilityinternet', 2735: 'heart', 2736: 'couples', 2737: 'residences', 2738: 'crawford', 2739: 'rapidly', 2740: 'mani', 2741: 'cultures', 2742: 'depot', 2743: 'twilight', 2744: 'guru', 2745: 'welcomes', 2746: 'plantations', 2747: 'hosting', 2748: 'purpose', 2749: 'penthouse', 2750: 'canopy', 2751: 'waterfalls', 2752: 'mandir', 2753: 'zone', 2754: 'assists', 2755: 'conveniences', 2756: 'chairs', 2757: 'siddhivinayak', 2758: 'thali', 2759: 'mostly', 2760: 'principal', 2761: 'philosophers', 2762: 'featuring', 2763: 'hospital', 2764: 'olden', 2765: 'leisure', 2766: 'gril', 2767: 'unobtrusive', 2768: 'perfect', 2769: 'brands', 2770: 'dj', 2771: 'reigns', 2772: 'villas', 2773: 'sanctuary', 2774: 'santacruz', 2775: 'luxurious', 2776: 'singled', 2777: 'amigo', 2778: 'vibrant', 2779: 'capital', 2780: 'budget', 2781: 'major', 2782: 'freshly', 2783: 'toiletriesthe', 2784: 'plateful', 2785: 'birthday', 2786: 'lessens', 2787: 'theatre', 2788: 'meals', 2789: 'idle', 2790: 'seaview', 2791: 'gagal', 2792: 'alert', 2793: 'always', 2794: 'concerts', 2795: 'ayurveda', 2796: 'ideal', 2797: 'fare', 2798: 'boutique', 2799: 'vessels', 2800: 'curtains', 2801: 'ever', 2802: 'running', 2803: 'evangelist', 2804: 'edifices', 2805: 'sleeping', 2806: 'banganga', 2807: 'mumbra', 2808: 'dy', 2809: 'intrusion', 2810: 'guests', 2811: 'characters', 2812: 'remote', 2813: 'propinquity', 2814: 'dvd', 2815: 'business', 2816: 'hathaway', 2817: 'aids', 2818: 'posters', 2819: 'acres', 2820: 'festooned', 2821: 'highlights', 2822: 'cst', 2823: 'goan', 2824: 'signature', 2825: 'environs', 2826: 'amidst', 2827: 'fridays', 2828: 'bhave', 2829: 'many', 2830: 'visualizers', 2831: 'suba', 2832: 'showers', 2833: 'sudama', 2834: 'bathtub', 2835: 'prominent', 2836: 'graceful', 2837: 'york', 2838: 'typically', 2839: 'transmission', 2840: 'set', 2841: 'swimming', 2842: 'cpsi', 2843: 'display', 2844: 'art', 2845: 'frequented', 2846: 'bedrooms', 2847: 'together', 2848: 'coloured', 2849: 'helipad', 2850: 'imagica', 2851: 'painting', 2852: 'beatific', 2853: 'sattva', 2854: 'developing', 2855: 'dav', 2856: 'aura', 2857: 'evolution', 2858: 'jogging', 2859: 'conducting', 2860: 'chicken', 2861: 'islands', 2862: 'sought', 2863: 'smaller', 2864: 'ocean', 2865: 'toiletries', 2866: 'adlabs', 2867: 'right', 2868: 'town', 2869: 'bright', 2870: 'slum', 2871: 'jacuzzi', 2872: 'leads', 2873: 'smart', 2874: 'allowed', 2875: 'innumerable', 2876: 'science', 2877: 'regular', 2878: 'toaster', 2879: 'serenity', 2880: 'siddhi', 2881: 'deposit', 2882: 'hair', 2883: 'choicest', 2884: 'splurge', 2885: 'enterprises', 2886: 'beachcomber', 2887: 'address', 2888: 'cottages', 2889: 'peace', 2890: 'pao', 2891: 'guide', 2892: 'feature', 2893: 'experienced', 2894: 'creek', 2895: 'makers', 2896: 'castle', 2897: 'towards', 2898: 'wining', 2899: 'gateway', 2900: 'appreciate', 2901: 'workstation', 2902: 'abbott', 2903: 'wood', 2904: 'mehmaan', 2905: 'ltd', 2906: 'sensuality', 2907: 'cater', 2908: 'dreamhome', 2909: 'politan', 2910: 'said', 2911: 'regularly', 2912: 'drive', 2913: 'country', 2914: 'ville', 2915: 'dr', 2916: 'term', 2917: 'beverage', 2918: 'grounds', 2919: 'palate', 2920: 'vindhyas', 2921: 'interior', 2922: 'artifacts', 2923: 'kalina', 2924: 'streets', 2925: 'separately', 2926: 'links', 2927: 'saigal', 2928: 'data', 2929: 'composed', 2930: 'characteristics', 2931: 'jyran', 2932: 'lane', 2933: 'back', 2934: 'horse', 2935: 'restro', 2936: 'carte', 2937: 'feel', 2938: 'rama', 2939: 'severs', 2940: 'strong', 2941: 'comfort', 2942: 'flavourful', 2943: 'engaging', 2944: 'paints', 2945: 'conditioned', 2946: 'sure', 2947: 'devices', 2948: 'park', 2949: 'km', 2950: 'weh', 2951: 'lights', 2952: 'resorts', 2953: 'noodles', 2954: 'violet', 2955: 'specially', 2956: 'satisfied', 2957: 'formal', 2958: 'spectacular', 2959: 'apmc', 2960: 'sprawling', 2961: 'legs', 2962: 'walk', 2963: 'nothern', 2964: 'highlight', 2965: 'delights', 2966: 'wadhwani', 2967: 'different', 2968: 'dishes', 2969: 'dream', 2970: 'mattress', 2971: 'bird', 2972: 'de', 2973: 'like', 2974: 'karaoke', 2975: 'petrol', 2976: 'cesky', 2977: 'magnificently', 2978: 'water', 2979: 'natives', 2980: 'environment', 2981: 'traveler', 2982: 'shower', 2983: 'event', 2984: 'loacted', 2985: 'attentive', 2986: 'psychologically', 2987: 'land', 2988: 'myriad', 2989: 'khandala', 2990: 'cakes', 2991: 'itinerary', 2992: 'fat', 2993: 'chess', 2994: 'lots', 2995: 'specializes', 2996: 'north', 2997: 'schedule', 2998: 'kmfrom', 2999: 'hypercity', 3000: 'named', 3001: 'celini', 3002: 'functional', 3003: 'groups', 3004: 'landscaped', 3005: 'base', 3006: 'palatial', 3007: 'century', 3008: 'everything', 3009: 'hospitalities', 3010: 'variety', 3011: 'shortly', 3012: 'thrilling', 3013: 'matches', 3014: 'reach', 3015: 'gave', 3016: 'transfers', 3017: 'centers', 3018: 'rated', 3019: 'butterfly', 3020: 'self', 3021: 'di', 3022: 'dakshin', 3023: 'resident', 3024: 'meetings', 3025: 'accessible', 3026: 'iii', 3027: 'economy', 3028: 'old', 3029: 'hassle', 3030: 'perfection', 3031: 'unforgettable', 3032: 'shopping', 3033: 'jalaja', 3034: 'noon', 3035: 'tara', 3036: 'gujarati', 3037: 'maharastra', 3038: 'traditions', 3039: 'opulent', 3040: 'watering', 3041: 'shubham', 3042: 'th', 3043: 'stupendous', 3044: 'david', 3045: 'doctor', 3046: 'heater', 3047: 'lifestyle', 3048: 'vishnudas', 3049: 'piped', 3050: 'multiethnic', 3051: 'concierge', 3052: 'maker', 3053: 'though', 3054: 'arranging', 3055: 'ingredients', 3056: 'sassoon', 3057: 'metropolitan', 3058: 'sunrise', 3059: 'hosts', 3060: 'inlay', 3061: 'magazine', 3062: 'events', 3063: 'erotic', 3064: 'tastefull', 3065: 'audio', 3066: 'mbp', 3067: 'duplex', 3068: 'halls', 3069: 'mythos', 3070: 'mahalakshmi', 3071: 'proves', 3072: 'great', 3073: 'wonders', 3074: 'laxmi', 3075: 'birla', 3076: 'corporates', 3077: 'official', 3078: 'govandi', 3079: 'anchorage', 3080: 'sayed', 3081: 'lalit', 3082: 'string', 3083: 'enter', 3084: 'wake', 3085: 'dinners', 3086: 'nidhi', 3087: 'occasions', 3088: 'luxuriously', 3089: 'quiet', 3090: 'comprises', 3091: 'rooftop', 3092: 'themes', 3093: 'assistance', 3094: 'august', 3095: 'proceedings', 3096: 'religious', 3097: 'arista', 3098: 'units', 3099: 'falls', 3100: 'chakrika', 3101: 'ensuring', 3102: 'vehicle', 3103: 'properties', 3104: 'everyone', 3105: 'model', 3106: 'plus', 3107: 'creates', 3108: 'desks', 3109: 'maintained', 3110: 'pastry', 3111: 'moment', 3112: 'drowned', 3113: 'combines', 3114: 'delved', 3115: 'sports', 3116: 'single', 3117: 'adding', 3118: 'offices', 3119: 'shri', 3120: 'kamla', 3121: 'accomplishes', 3122: 'presidential', 3123: 'state', 3124: 'capacities', 3125: 'ironing', 3126: 'camel', 3127: 'vacationers', 3128: 'thanes', 3129: 'routes', 3130: 'two', 3131: 'next', 3132: 'bars', 3133: 'vrindavan', 3134: 'palatable', 3135: 'player', 3136: 'hotel', 3137: 'product', 3138: 'melting', 3139: 'windows', 3140: 'bbq', 3141: 'bus', 3142: 'depo', 3143: 'six', 3144: 'healthy', 3145: 'favourably', 3146: 'emerging', 3147: 'palettes', 3148: 'sea', 3149: 'promiscuous', 3150: 'savouring', 3151: 'extend', 3152: 'emergency', 3153: 'kala', 3154: 'along', 3155: 'phoenix', 3156: 'recommended', 3157: 'lush', 3158: 'vailakanni', 3159: 'rhythm', 3160: 'force', 3161: 'sizzlers', 3162: 'handful', 3163: 'gunas', 3164: 'tikuji', 3165: 'pantry', 3166: 'diamond', 3167: 'wedding', 3168: 'catering', 3169: 'persons', 3170: 'sandwich', 3171: 'depending', 3172: 'murbad', 3173: 'en', 3174: 'apt', 3175: 'lift', 3176: 'sofa', 3177: 'relaxing', 3178: 'panel', 3179: 'rain', 3180: 'definitely', 3181: 'namely', 3182: 'payment', 3183: 'miss', 3184: 'leela', 3185: 'mahaveer', 3186: 'beach', 3187: 'suffice', 3188: 'places', 3189: 'ruby', 3190: 'price', 3191: 'library', 3192: 'exquisitely', 3193: 'generator', 3194: 'connects', 3195: 'themed', 3196: 'prompt', 3197: 'skyway', 3198: 'good', 3199: 'categorized', 3200: 'varieties', 3201: 'lying', 3202: 'transportations', 3203: 'vardhaman', 3204: 'favourable', 3205: 'reflected', 3206: 'wines', 3207: 'dest', 3208: 'action', 3209: 'resides', 3210: 'dana', 3211: 'collapsible', 3212: 'awe', 3213: 'biggest', 3214: 'export', 3215: 'tempting', 3216: 'floors', 3217: 'kurla', 3218: 'metropolis', 3219: 'facilities', 3220: 'alcoholic', 3221: 'hygiene', 3222: 'ghatkoper', 3223: 'lures', 3224: 'stella', 3225: 'cum', 3226: 'refreshments', 3227: 'emerged', 3228: 'barbeque', 3229: 'tickets', 3230: 'evershine', 3231: 'steps', 3232: 'versova', 3233: 'availability', 3234: 'panchratna', 3235: 'vardhana', 3236: 'acceptance', 3237: 'seeking', 3238: 'gym', 3239: 'mojo', 3240: 'wales', 3241: 'expedition', 3242: 'aqua', 3243: 'whether', 3244: 'jewel', 3245: 'venue', 3246: 'covered', 3247: 'joseph', 3248: 'museums', 3249: 'pictures', 3250: 'strategically', 3251: 'marble', 3252: 'looking', 3253: 'amusement', 3254: 'spices', 3255: 'apartemnts', 3256: 'patil', 3257: 'salon', 3258: 'stays', 3259: 'continental', 3260: 'burn', 3261: 'refrigerator', 3262: 'yet', 3263: 'fashion', 3264: 'created', 3265: 'banks', 3266: 'ask', 3267: 'emergencies', 3268: 'trained', 3269: 'maintains', 3270: 'ranges', 3271: 'fratelli', 3272: 'opportunities', 3273: 'sharing', 3274: 'barbecue', 3275: 'nightclubs', 3276: 'av', 3277: 'street', 3278: 'panvel', 3279: 'uniquely', 3280: 'joy', 3281: 'informal', 3282: 'enjoyable', 3283: 'designer', 3284: 'holds', 3285: 'create', 3286: 'null', 3287: 'perched', 3288: 'debit', 3289: 'call', 3290: 'appointed', 3291: 'tamas', 3292: 'philosophy', 3293: 'radius', 3294: 'shelves', 3295: 'gastronomic', 3296: 'reached', 3297: 'asian', 3298: 'youngsters', 3299: 'pvt', 3300: 'keep', 3301: 'connected', 3302: 'hallsbanquet', 3303: 'pump', 3304: 'prefatory', 3305: 'vinayak', 3306: 'mc', 3307: 'half', 3308: 'option', 3309: 'repose', 3310: 'taj', 3311: 'temporarily', 3312: 'disabled', 3313: 'bhandup', 3314: 'strand', 3315: 'getaway', 3316: 'kokilaben', 3317: 'wealth', 3318: 'background', 3319: 'connecting', 3320: 'bombay', 3321: 'courier', 3322: 'sharanam', 3323: 'done', 3324: 'factors', 3325: 'environmental', 3326: 'cigars', 3327: 'kilometers', 3328: 'relaxation', 3329: 'babulnath', 3330: 'impressive', 3331: 'internet', 3332: 'lord', 3333: 'outdoor', 3334: 'elevator', 3335: 'palates', 3336: 'stand', 3337: 'hospitable', 3338: 'buildings', 3339: 'homes', 3340: 'workout', 3341: 'victorian', 3342: 'bangladesh', 3343: 'styled', 3344: 'parties', 3345: 'even', 3346: 'municipal', 3347: 'necessities', 3348: 'bahri', 3349: 'mahakalo', 3350: 'ambience', 3351: 'approximately', 3352: 'valet', 3353: 'middle', 3354: 'blossom', 3355: 'put', 3356: 'evoking', 3357: 'financial', 3358: 'rejections', 3359: 'including', 3360: 'market', 3361: 'ample', 3362: 'finest', 3363: 'shoppers', 3364: 'way', 3365: 'fast', 3366: 'ride', 3367: 'gift', 3368: 'turned', 3369: 'powai', 3370: 'another', 3371: 'khairane', 3372: 'golbal', 3373: 'turbhe', 3374: 'laze', 3375: 'attractive', 3376: 'lodge', 3377: 'sheraton', 3378: 'opposite', 3379: 'modeled', 3380: 'eighteen', 3381: 'facility', 3382: 'bhagat', 3383: 'warm', 3384: 'anand', 3385: 'ensures', 3386: 'abode', 3387: 'barbequed', 3388: 'malad', 3389: 'assortment', 3390: 'devi', 3391: 'palms', 3392: 'starboard', 3393: 'body', 3394: 'snuggle'}\n"
     ]
    }
   ],
   "source": [
    "word_to_idx, idx_to_word = build_indices(unique_words)\n",
    "print(idx_to_word)"
   ]
  },
  {
   "cell_type": "code",
   "execution_count": 22,
   "id": "92dffee0",
   "metadata": {},
   "outputs": [],
   "source": [
    "def prepare_corpus(corpus, word_to_idx):\n",
    "    \n",
    "    sequences = []\n",
    "    for line in corpus:\n",
    "        tokens = line\n",
    "        for i in range(1, len(tokens)):\n",
    "            i_gram_sequence = tokens[:i+1]\n",
    "            i_gram_sequence_ids = []\n",
    "            \n",
    "            for j, token in enumerate(i_gram_sequence):\n",
    "                i_gram_sequence_ids.append(word_to_idx[token])\n",
    "                \n",
    "            sequences.append(i_gram_sequence_ids)\n",
    "    \n",
    "    return sequences"
   ]
  },
  {
   "cell_type": "code",
   "execution_count": 23,
   "id": "b0c8185f",
   "metadata": {},
   "outputs": [],
   "source": [
    "sequences = prepare_corpus(cleaned_data, word_to_idx)\n",
    "max_sequence_len = max([len(x) for x in sequences])"
   ]
  },
  {
   "cell_type": "code",
   "execution_count": 24,
   "id": "df9c15b2",
   "metadata": {},
   "outputs": [
    {
     "data": {
      "text/plain": [
       "308"
      ]
     },
     "execution_count": 24,
     "metadata": {},
     "output_type": "execute_result"
    }
   ],
   "source": [
    "max_sequence_len"
   ]
  },
  {
   "cell_type": "code",
   "execution_count": 25,
   "id": "bd990c76",
   "metadata": {},
   "outputs": [
    {
     "name": "stdout",
     "output_type": "stream",
     "text": [
      "[2171, 170]\n",
      "[2171, 170, 1034]\n"
     ]
    }
   ],
   "source": [
    "print(sequences[0])\n",
    "print(sequences[1])"
   ]
  },
  {
   "cell_type": "code",
   "execution_count": 26,
   "id": "7b3623b4",
   "metadata": {},
   "outputs": [
    {
     "name": "stdout",
     "output_type": "stream",
     "text": [
      "heads\n",
      "hot\n",
      "awadhi\n"
     ]
    }
   ],
   "source": [
    "print(idx_to_word[1647])\n",
    "print(idx_to_word[867])\n",
    "print(idx_to_word[1452])"
   ]
  },
  {
   "cell_type": "code",
   "execution_count": 27,
   "id": "237b13ad",
   "metadata": {},
   "outputs": [
    {
     "data": {
      "text/plain": [
       "51836"
      ]
     },
     "execution_count": 27,
     "metadata": {},
     "output_type": "execute_result"
    }
   ],
   "source": [
    "len(sequences)"
   ]
  },
  {
   "cell_type": "code",
   "execution_count": 28,
   "id": "e8b64fde",
   "metadata": {},
   "outputs": [],
   "source": [
    "def build_input_data(sequences, max_sequence_len, length_of_unique_words):\n",
    "    sequences = np.array(pad_sequences(sequences, maxlen = max_sequence_len, padding = 'pre'))\n",
    "    X = sequences[:,:-1]\n",
    "    y = sequences[:,-1]\n",
    "    y = np_utils.to_categorical(y, length_of_unique_words)\n",
    "    return X, y"
   ]
  },
  {
   "cell_type": "code",
   "execution_count": 29,
   "id": "bcdd27cc",
   "metadata": {},
   "outputs": [
    {
     "data": {
      "text/plain": [
       "3395"
      ]
     },
     "execution_count": 29,
     "metadata": {},
     "output_type": "execute_result"
    }
   ],
   "source": [
    "length_of_unique_words"
   ]
  },
  {
   "cell_type": "code",
   "execution_count": 30,
   "id": "0f1ce31c",
   "metadata": {},
   "outputs": [],
   "source": [
    "X, y = build_input_data(sequences, max_sequence_len, length_of_unique_words)"
   ]
  },
  {
   "cell_type": "code",
   "execution_count": 31,
   "id": "9a3c1b50",
   "metadata": {},
   "outputs": [],
   "source": [
    "def create_model(max_sequence_len, length_of_unique_words):\n",
    "    model = Sequential()\n",
    "    model.add(Embedding(length_of_unique_words, 10, input_length=max_sequence_len - 1))\n",
    "    model.add(LSTM(128))\n",
    "    model.add(Dropout(0.2))\n",
    "    model.add(Dense(length_of_unique_words, activation='softmax'))\n",
    "    model.compile(loss='categorical_crossentropy', optimizer='adam')\n",
    "    return model"
   ]
  },
  {
   "cell_type": "code",
   "execution_count": 32,
   "id": "8c42da4d",
   "metadata": {},
   "outputs": [
    {
     "name": "stderr",
     "output_type": "stream",
     "text": [
      "2023-03-01 16:47:15.494090: I tensorflow/compiler/xla/stream_executor/cuda/cuda_gpu_executor.cc:981] successful NUMA node read from SysFS had negative value (-1), but there must be at least one NUMA node, so returning NUMA node zero\n",
      "2023-03-01 16:47:15.494315: W tensorflow/compiler/xla/stream_executor/platform/default/dso_loader.cc:64] Could not load dynamic library 'libcudart.so.11.0'; dlerror: libcudart.so.11.0: cannot open shared object file: No such file or directory\n",
      "2023-03-01 16:47:15.494388: W tensorflow/compiler/xla/stream_executor/platform/default/dso_loader.cc:64] Could not load dynamic library 'libcublas.so.11'; dlerror: libcublas.so.11: cannot open shared object file: No such file or directory\n",
      "2023-03-01 16:47:15.494434: W tensorflow/compiler/xla/stream_executor/platform/default/dso_loader.cc:64] Could not load dynamic library 'libcublasLt.so.11'; dlerror: libcublasLt.so.11: cannot open shared object file: No such file or directory\n",
      "2023-03-01 16:47:15.494477: W tensorflow/compiler/xla/stream_executor/platform/default/dso_loader.cc:64] Could not load dynamic library 'libcufft.so.10'; dlerror: libcufft.so.10: cannot open shared object file: No such file or directory\n",
      "2023-03-01 16:47:15.494522: W tensorflow/compiler/xla/stream_executor/platform/default/dso_loader.cc:64] Could not load dynamic library 'libcurand.so.10'; dlerror: libcurand.so.10: cannot open shared object file: No such file or directory\n",
      "2023-03-01 16:47:15.494566: W tensorflow/compiler/xla/stream_executor/platform/default/dso_loader.cc:64] Could not load dynamic library 'libcusolver.so.11'; dlerror: libcusolver.so.11: cannot open shared object file: No such file or directory\n",
      "2023-03-01 16:47:15.494609: W tensorflow/compiler/xla/stream_executor/platform/default/dso_loader.cc:64] Could not load dynamic library 'libcusparse.so.11'; dlerror: libcusparse.so.11: cannot open shared object file: No such file or directory\n",
      "2023-03-01 16:47:15.494651: W tensorflow/compiler/xla/stream_executor/platform/default/dso_loader.cc:64] Could not load dynamic library 'libcudnn.so.8'; dlerror: libcudnn.so.8: cannot open shared object file: No such file or directory\n",
      "2023-03-01 16:47:15.494658: W tensorflow/core/common_runtime/gpu/gpu_device.cc:1934] Cannot dlopen some GPU libraries. Please make sure the missing libraries mentioned above are installed properly if you would like to use GPU. Follow the guide at https://www.tensorflow.org/install/gpu for how to download and setup the required libraries for your platform.\n",
      "Skipping registering GPU devices...\n",
      "2023-03-01 16:47:15.494995: I tensorflow/core/platform/cpu_feature_guard.cc:193] This TensorFlow binary is optimized with oneAPI Deep Neural Network Library (oneDNN) to use the following CPU instructions in performance-critical operations:  AVX2 FMA\n",
      "To enable them in other operations, rebuild TensorFlow with the appropriate compiler flags.\n"
     ]
    },
    {
     "name": "stdout",
     "output_type": "stream",
     "text": [
      "Model: \"sequential\"\n",
      "_________________________________________________________________\n",
      " Layer (type)                Output Shape              Param #   \n",
      "=================================================================\n",
      " embedding (Embedding)       (None, 307, 10)           33950     \n",
      "                                                                 \n",
      " lstm (LSTM)                 (None, 128)               71168     \n",
      "                                                                 \n",
      " dropout (Dropout)           (None, 128)               0         \n",
      "                                                                 \n",
      " dense (Dense)               (None, 3395)              437955    \n",
      "                                                                 \n",
      "=================================================================\n",
      "Total params: 543,073\n",
      "Trainable params: 543,073\n",
      "Non-trainable params: 0\n",
      "_________________________________________________________________\n"
     ]
    }
   ],
   "source": [
    "model = create_model(max_sequence_len, length_of_unique_words)\n",
    "model.summary()"
   ]
  },
  {
   "cell_type": "code",
   "execution_count": 33,
   "id": "d4f20425",
   "metadata": {},
   "outputs": [
    {
     "name": "stdout",
     "output_type": "stream",
     "text": [
      "Epoch 1/10\n"
     ]
    },
    {
     "name": "stderr",
     "output_type": "stream",
     "text": [
      "2023-03-01 16:47:36.333570: W tensorflow/tsl/framework/cpu_allocator_impl.cc:82] Allocation of 703932880 exceeds 10% of free system memory.\n"
     ]
    },
    {
     "name": "stdout",
     "output_type": "stream",
     "text": [
      "102/102 [==============================] - 84s 805ms/step - loss: 6.9221\n",
      "Epoch 2/10\n",
      "102/102 [==============================] - 84s 820ms/step - loss: 6.5690\n",
      "Epoch 3/10\n",
      "102/102 [==============================] - 85s 833ms/step - loss: 6.5010\n",
      "Epoch 4/10\n",
      "102/102 [==============================] - 89s 868ms/step - loss: 6.4430\n",
      "Epoch 5/10\n",
      "102/102 [==============================] - 81s 793ms/step - loss: 6.3646\n",
      "Epoch 6/10\n",
      "102/102 [==============================] - 79s 779ms/step - loss: 6.2614\n",
      "Epoch 7/10\n",
      "102/102 [==============================] - 86s 845ms/step - loss: 6.2107\n",
      "Epoch 8/10\n",
      "102/102 [==============================] - 87s 856ms/step - loss: 6.0847\n",
      "Epoch 9/10\n",
      "102/102 [==============================] - 95s 936ms/step - loss: 5.9550\n",
      "Epoch 10/10\n",
      "102/102 [==============================] - 102s 1000ms/step - loss: 5.8478\n"
     ]
    },
    {
     "data": {
      "text/plain": [
       "<keras.callbacks.History at 0x7f7a14accc10>"
      ]
     },
     "execution_count": 33,
     "metadata": {},
     "output_type": "execute_result"
    }
   ],
   "source": [
    "model.fit(X, y, batch_size = 512, epochs=10)"
   ]
  },
  {
   "cell_type": "code",
   "execution_count": 34,
   "id": "7a58cd13",
   "metadata": {},
   "outputs": [],
   "source": [
    "model_structure = model.to_json()\n",
    "with open(\"model/text_generation_using_LSTM.json\", \"w\") as json_file:\n",
    "    json_file.write(model_structure)\n",
    "model.save_weights(\"model/text_generation_using_LSTM.h5\")"
   ]
  },
  {
   "cell_type": "code",
   "execution_count": 45,
   "id": "11587e0f",
   "metadata": {},
   "outputs": [],
   "source": [
    "def generate_text(seed_text, next_words, model, max_seq_len):\n",
    "    for _ in range(next_words):\n",
    "        cleaned_data = clean_data([seed_text])\n",
    "        sequences= prepare_corpus(cleaned_data[0], word_to_idx)\n",
    "        sequences = pad_sequences([sequences[-1]], maxlen=max_seq_len-1, padding='pre')\n",
    "        predicted_x = model.predict(sequences, verbose=0)\n",
    "        predicted=np.argmax(predicted_x,axis=1)\n",
    "        output_word = ''\n",
    "        output_word = idx_to_word[predicted[0]]            \n",
    "        seed_text = seed_text + \" \" + output_word\n",
    "        \n",
    "    return seed_text.title()"
   ]
  },
  {
   "cell_type": "code",
   "execution_count": 46,
   "id": "e0958395",
   "metadata": {},
   "outputs": [
    {
     "name": "stdout",
     "output_type": "stream",
     "text": [
      "In Mumbai There We Need Mumbai Mumbai Mumbai Mumbai Mumbai Mumbai Mumbai Mumbai Hotel Hotel Offers Mumbai Hotel Located Mumbai Hotel Offers Hotel Hotel Offers Mumbai Hotel Hotel Offers Mumbai Hotel Hotel Located Mumbai Hotel\n"
     ]
    }
   ],
   "source": [
    "print(generate_text(\"in Mumbai there we need\", 30, model, max_sequence_len))"
   ]
  },
  {
   "cell_type": "code",
   "execution_count": 49,
   "id": "6fc52be3",
   "metadata": {},
   "outputs": [
    {
     "name": "stdout",
     "output_type": "stream",
     "text": [
      "Best Mumbai Mumbai Mumbai Mumbai Mumbai Mumbai Mumbai Mumbai Mumbai Mumbai Hotel Hotel Offers Mumbai Hotel Located Mumbai Hotel Offers Hotel Hotel Offers Mumbai Hotel Hotel Offers Mumbai Hotel Hotel Located Mumbai\n"
     ]
    }
   ],
   "source": [
    "print(generate_text(\"Best Mumbai\", 30, model, max_sequence_len))"
   ]
  },
  {
   "cell_type": "code",
   "execution_count": null,
   "id": "9b39f6e0",
   "metadata": {},
   "outputs": [],
   "source": [
    "!git add TextGenerationLSTM.ipynb\n",
    "!git comm"
   ]
  }
 ],
 "metadata": {
  "kernelspec": {
   "display_name": "Python 3 (ipykernel)",
   "language": "python",
   "name": "python3"
  },
  "language_info": {
   "codemirror_mode": {
    "name": "ipython",
    "version": 3
   },
   "file_extension": ".py",
   "mimetype": "text/x-python",
   "name": "python",
   "nbconvert_exporter": "python",
   "pygments_lexer": "ipython3",
   "version": "3.9.13"
  }
 },
 "nbformat": 4,
 "nbformat_minor": 5
}
